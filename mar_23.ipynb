{
 "cells": [
  {
   "cell_type": "code",
   "execution_count": 4,
   "id": "bae86ee4",
   "metadata": {},
   "outputs": [
    {
     "data": {
      "text/plain": [
       "0.5728940490977558"
      ]
     },
     "execution_count": 4,
     "metadata": {},
     "output_type": "execute_result"
    }
   ],
   "source": [
    "from numpy import random\n",
    "random.uniform()"
   ]
  },
  {
   "cell_type": "code",
   "execution_count": 5,
   "id": "27ca1018",
   "metadata": {},
   "outputs": [],
   "source": [
    "def run(threshold):\n",
    "    position = 0\n",
    "    \n",
    "    while position < threshold:\n",
    "        position = position + random.uniform()\n",
    "        \n",
    "    if position >= 1:\n",
    "        return 0\n",
    "    else:\n",
    "        return position + random.uniform()"
   ]
  },
  {
   "cell_type": "code",
   "execution_count": 6,
   "id": "6869d304",
   "metadata": {},
   "outputs": [],
   "source": [
    "def many_runs(threshold,how_many= 1000000):\n",
    "    score = 0.0\n",
    "    for i in range(how_many):\n",
    "        score += run(threshold)\n",
    "    return score/how_many"
   ]
  },
  {
   "cell_type": "code",
   "execution_count": 7,
   "id": "a1c2025c",
   "metadata": {},
   "outputs": [],
   "source": [
    "def digit_hunt(digits, how_many = 1000000):\n",
    "    i = 0\n",
    "    number = 0\n",
    "    power = 0\n",
    "    \n",
    "    while i < digits:\n",
    "        \n",
    "        if i == 0:\n",
    "            dig = [0,1,2,3,4,5,6,7,8,9]\n",
    "        else: \n",
    "            dig = [-5,-4,-3,-2,-1,0,1,2,3,4,5]\n",
    "        \n",
    "        m = 0\n",
    "        best = 0\n",
    "        for j in dig:\n",
    "            value =  many_runs(number + (10**power)*j , how_many)\n",
    "            if value > m:\n",
    "                m = value\n",
    "                best = j\n",
    "        number = number + (10**power)*best\n",
    "        power = power - 1\n",
    "        i += 1\n",
    "    return number"
   ]
  },
  {
   "cell_type": "code",
   "execution_count": 5,
   "id": "bcd00ebd",
   "metadata": {},
   "outputs": [
    {
     "data": {
      "text/plain": [
       "1.044864339325168"
      ]
     },
     "execution_count": 5,
     "metadata": {},
     "output_type": "execute_result"
    }
   ],
   "source": [
    "many_runs(0.1)"
   ]
  },
  {
   "cell_type": "code",
   "execution_count": 28,
   "id": "85a502d4",
   "metadata": {},
   "outputs": [
    {
     "data": {
      "text/plain": [
       "0.32700000000000007"
      ]
     },
     "execution_count": 28,
     "metadata": {},
     "output_type": "execute_result"
    }
   ],
   "source": [
    "digit_hunt(4)"
   ]
  },
  {
   "cell_type": "code",
   "execution_count": 29,
   "id": "b85f0ba2",
   "metadata": {},
   "outputs": [
    {
     "data": {
      "text/plain": [
       "1.0637526859210726"
      ]
     },
     "execution_count": 29,
     "metadata": {},
     "output_type": "execute_result"
    }
   ],
   "source": [
    "many_runs(.156266, 10000000)"
   ]
  },
  {
   "cell_type": "code",
   "execution_count": 30,
   "id": "61e56055",
   "metadata": {},
   "outputs": [
    {
     "data": {
      "text/plain": [
       "1.0860423661381657"
      ]
     },
     "execution_count": 30,
     "metadata": {},
     "output_type": "execute_result"
    }
   ],
   "source": [
    "many_runs(0.3270 , 10000000)"
   ]
  },
  {
   "cell_type": "code",
   "execution_count": 32,
   "id": "ce17b64e",
   "metadata": {},
   "outputs": [
    {
     "data": {
      "text/plain": [
       "1.0740603485415976"
      ]
     },
     "execution_count": 32,
     "metadata": {},
     "output_type": "execute_result"
    }
   ],
   "source": [
    "many_runs(0.4,     10000000)"
   ]
  },
  {
   "cell_type": "code",
   "execution_count": 37,
   "id": "252e2732",
   "metadata": {},
   "outputs": [
    {
     "data": {
      "text/plain": [
       "0.29100000000000004"
      ]
     },
     "execution_count": 37,
     "metadata": {},
     "output_type": "execute_result"
    }
   ],
   "source": [
    "digit_hunt(4,1000000)"
   ]
  },
  {
   "cell_type": "code",
   "execution_count": 38,
   "id": "51e61b45",
   "metadata": {},
   "outputs": [
    {
     "data": {
      "text/plain": [
       "1.0865340576134634"
      ]
     },
     "execution_count": 38,
     "metadata": {},
     "output_type": "execute_result"
    }
   ],
   "source": [
    "many_runs(0.2910 , 10000000)"
   ]
  },
  {
   "cell_type": "code",
   "execution_count": 39,
   "id": "00ea415e",
   "metadata": {},
   "outputs": [
    {
     "data": {
      "text/plain": [
       "0.30500000000000005"
      ]
     },
     "execution_count": 39,
     "metadata": {},
     "output_type": "execute_result"
    }
   ],
   "source": [
    "digit_hunt(4,1000000)"
   ]
  },
  {
   "cell_type": "code",
   "execution_count": 40,
   "id": "fb490941",
   "metadata": {},
   "outputs": [
    {
     "data": {
      "text/plain": [
       "0.30700000000000005"
      ]
     },
     "execution_count": 40,
     "metadata": {},
     "output_type": "execute_result"
    }
   ],
   "source": [
    "digit_hunt(4,10000000)"
   ]
  },
  {
   "cell_type": "code",
   "execution_count": 41,
   "id": "67b27394",
   "metadata": {},
   "outputs": [
    {
     "name": "stdout",
     "output_type": "stream",
     "text": [
      "0.3005200000000001\n"
     ]
    }
   ],
   "source": [
    "p = 0\n",
    "for i in range(100):\n",
    "    p += digit_hunt(4,100000)\n",
    "print( p/100)"
   ]
  },
  {
   "cell_type": "code",
   "execution_count": 5,
   "id": "1140812c",
   "metadata": {},
   "outputs": [
    {
     "name": "stdout",
     "output_type": "stream",
     "text": [
      "0.3027599999999999\n"
     ]
    }
   ],
   "source": [
    "p = 0\n",
    "for i in range(100):\n",
    "    p += digit_hunt(4,100000)\n",
    "print( p/100)\n"
   ]
  },
  {
   "cell_type": "code",
   "execution_count": 6,
   "id": "1f08c08c",
   "metadata": {},
   "outputs": [
    {
     "name": "stdout",
     "output_type": "stream",
     "text": [
      "0.30295\n"
     ]
    }
   ],
   "source": [
    "p = 0\n",
    "for i in range(100):\n",
    "    p += digit_hunt(4,100000)\n",
    "print( p/100)"
   ]
  },
  {
   "cell_type": "code",
   "execution_count": 6,
   "id": "2af36360",
   "metadata": {},
   "outputs": [
    {
     "name": "stdout",
     "output_type": "stream",
     "text": [
      "0.30401000000000006\n"
     ]
    }
   ],
   "source": [
    "p = 0\n",
    "for i in range(100):\n",
    "    p += digit_hunt(4,100000)\n",
    "print( p/100)"
   ]
  },
  {
   "cell_type": "code",
   "execution_count": 7,
   "id": "6d8a261d",
   "metadata": {},
   "outputs": [
    {
     "name": "stdout",
     "output_type": "stream",
     "text": [
      "0.3044999999999999\n"
     ]
    }
   ],
   "source": [
    "p = 0\n",
    "for i in range(100):\n",
    "    p += digit_hunt(4,100000)\n",
    "print( p/100)"
   ]
  },
  {
   "cell_type": "code",
   "execution_count": 5,
   "id": "a68c122d",
   "metadata": {},
   "outputs": [
    {
     "data": {
      "text/plain": [
       "0.30294800000000005"
      ]
     },
     "execution_count": 5,
     "metadata": {},
     "output_type": "execute_result"
    }
   ],
   "source": [
    "(0.3005200000000001 + 0.3027599999999999 + 0.30295 + 0.30401000000000006 + 0.3044999999999999)/5\n",
    "\n"
   ]
  },
  {
   "cell_type": "code",
   "execution_count": 6,
   "id": "857bf5ab",
   "metadata": {},
   "outputs": [
    {
     "data": {
      "text/plain": [
       "0.30256000000000005"
      ]
     },
     "execution_count": 6,
     "metadata": {},
     "output_type": "execute_result"
    }
   ],
   "source": [
    "(0.3005200000000001 + 0.3027599999999999 + 0.30295 + 0.30401000000000006 )/4"
   ]
  },
  {
   "cell_type": "code",
   "execution_count": 11,
   "id": "32a12d4f",
   "metadata": {},
   "outputs": [],
   "source": [
    "import math\n",
    "\n",
    "def run_out(threshold , trials = 1000000):\n",
    "    run_outs = 0\n",
    "    for i in range(trials):\n",
    "        p = 0\n",
    "        while p < threshold:\n",
    "            p = p + random.uniform()\n",
    "    \n",
    "        if p > 1:\n",
    "            run_outs += 1\n",
    "    return run_outs/trials\n",
    "\n",
    "optimal_threshold_candidate = (math.sqrt(13) - 3)/2\n",
    "        "
   ]
  },
  {
   "cell_type": "raw",
   "id": "9c3059b9",
   "metadata": {},
   "source": []
  },
  {
   "cell_type": "code",
   "execution_count": 14,
   "id": "83551856",
   "metadata": {},
   "outputs": [
    {
     "data": {
      "text/plain": [
       "0.30277563773199456"
      ]
     },
     "execution_count": 14,
     "metadata": {},
     "output_type": "execute_result"
    }
   ],
   "source": [
    "optimal_threshold_candidate"
   ]
  },
  {
   "cell_type": "code",
   "execution_count": 15,
   "id": "fcaf93cc",
   "metadata": {},
   "outputs": [
    {
     "data": {
      "text/plain": [
       "0.056424"
      ]
     },
     "execution_count": 15,
     "metadata": {},
     "output_type": "execute_result"
    }
   ],
   "source": [
    "run_out(optimal_threshold_candidate)"
   ]
  },
  {
   "cell_type": "code",
   "execution_count": 16,
   "id": "1cdad1f1",
   "metadata": {},
   "outputs": [
    {
     "data": {
      "text/plain": [
       "0.056263"
      ]
     },
     "execution_count": 16,
     "metadata": {},
     "output_type": "execute_result"
    }
   ],
   "source": [
    "run_out(optimal_threshold_candidate)"
   ]
  },
  {
   "cell_type": "code",
   "execution_count": 19,
   "id": "d7b7282c",
   "metadata": {},
   "outputs": [
    {
     "data": {
      "text/plain": [
       "1.0"
      ]
     },
     "execution_count": 19,
     "metadata": {},
     "output_type": "execute_result"
    }
   ],
   "source": [
    "run_out(1)"
   ]
  },
  {
   "cell_type": "code",
   "execution_count": 20,
   "id": "f198f2b1",
   "metadata": {},
   "outputs": [
    {
     "data": {
      "text/plain": [
       "0.056323"
      ]
     },
     "execution_count": 20,
     "metadata": {},
     "output_type": "execute_result"
    }
   ],
   "source": [
    "run_out(optimal_threshold_candidate,10000000)"
   ]
  },
  {
   "cell_type": "code",
   "execution_count": 6,
   "id": "5b36070e",
   "metadata": {},
   "outputs": [
    {
     "data": {
      "text/plain": [
       "0.0562242"
      ]
     },
     "execution_count": 6,
     "metadata": {},
     "output_type": "execute_result"
    }
   ],
   "source": [
    "run_out(optimal_threshold_candidate,100000000)"
   ]
  },
  {
   "cell_type": "code",
   "execution_count": 7,
   "id": "9e97c609",
   "metadata": {},
   "outputs": [
    {
     "data": {
      "text/plain": [
       "0.056236078"
      ]
     },
     "execution_count": 7,
     "metadata": {},
     "output_type": "execute_result"
    }
   ],
   "source": [
    "run_out(optimal_threshold_candidate,1000000000)"
   ]
  },
  {
   "cell_type": "code",
   "execution_count": 8,
   "id": "f2c1f135",
   "metadata": {},
   "outputs": [
    {
     "data": {
      "text/plain": [
       "0.056222903"
      ]
     },
     "execution_count": 8,
     "metadata": {},
     "output_type": "execute_result"
    }
   ],
   "source": [
    "run_out(optimal_threshold_candidate,1000000000)"
   ]
  },
  {
   "cell_type": "code",
   "execution_count": 9,
   "id": "252168fb",
   "metadata": {},
   "outputs": [
    {
     "data": {
      "text/plain": [
       "0.056219627"
      ]
     },
     "execution_count": 9,
     "metadata": {},
     "output_type": "execute_result"
    }
   ],
   "source": [
    "run_out(optimal_threshold_candidate,1000000000)"
   ]
  },
  {
   "cell_type": "code",
   "execution_count": 10,
   "id": "dd40654a",
   "metadata": {},
   "outputs": [
    {
     "data": {
      "text/plain": [
       "0.056238595"
      ]
     },
     "execution_count": 10,
     "metadata": {},
     "output_type": "execute_result"
    }
   ],
   "source": [
    "run_out(optimal_threshold_candidate,1000000000)"
   ]
  },
  {
   "cell_type": "code",
   "execution_count": 12,
   "id": "748ac2f3",
   "metadata": {},
   "outputs": [
    {
     "data": {
      "text/plain": [
       "0.05622930075"
      ]
     },
     "execution_count": 12,
     "metadata": {},
     "output_type": "execute_result"
    }
   ],
   "source": [
    "(0.056236078+0.056222903+0.056219627+0.056238595)/4"
   ]
  },
  {
   "cell_type": "code",
   "execution_count": 8,
   "id": "ab7f6005",
   "metadata": {},
   "outputs": [],
   "source": [
    "def who_wins(thresh1,thresh2):\n",
    "    \n",
    "    \n",
    "    pos1 = 0\n",
    "    pos2 = 0\n",
    "    score1 = -1\n",
    "    score2 = -1\n",
    "    \n",
    "    while pos1 < thresh1:\n",
    "        pos1 = pos1 +random.uniform()\n",
    "        \n",
    "    if pos1 > 1:\n",
    "        score1 = 0\n",
    "    else:\n",
    "        score1 = pos1 + random.uniform()\n",
    "    while pos2 < thresh2:\n",
    "        pos2 = pos2 +random.uniform()\n",
    "        \n",
    "    if pos2 > 1:\n",
    "        score2 = 0\n",
    "    else:\n",
    "        score2 = pos2 + random.uniform()\n",
    "        \n",
    "    return [score1,score2]\n",
    "\n",
    "\n",
    "def who_wins_many(thresh1,thresh2, many = 10000000):\n",
    "    \n",
    "    i = 0\n",
    "    p1_wins = 0\n",
    "    p2_wins = 0\n",
    "    \n",
    "    while i < many:\n",
    "        result  = who_wins(thresh1,thresh2)\n",
    "        \n",
    "        if result[0] > result[1]:\n",
    "            p1_wins += 1\n",
    "            i+= 1\n",
    "        else:\n",
    "            if result[1] > result[0]:\n",
    "                p2_wins += 1\n",
    "                i+=1\n",
    "                \n",
    "    return [p1_wins , p2_wins]\n",
    "        \n",
    "        \n",
    "    \n",
    "        "
   ]
  },
  {
   "cell_type": "code",
   "execution_count": 15,
   "id": "b425d448",
   "metadata": {},
   "outputs": [
    {
     "data": {
      "text/plain": [
       "[4918769, 5081231]"
      ]
     },
     "execution_count": 15,
     "metadata": {},
     "output_type": "execute_result"
    }
   ],
   "source": [
    "who_wins_many(.3,.4,10000000)"
   ]
  },
  {
   "cell_type": "code",
   "execution_count": 11,
   "id": "7eea0c24",
   "metadata": {},
   "outputs": [
    {
     "data": {
      "text/plain": [
       "0.49195"
      ]
     },
     "execution_count": 11,
     "metadata": {},
     "output_type": "execute_result"
    }
   ],
   "source": [
    "4919500/ (4919500 +5080500 )"
   ]
  },
  {
   "cell_type": "code",
   "execution_count": 13,
   "id": "1940554f",
   "metadata": {},
   "outputs": [
    {
     "data": {
      "text/plain": [
       "[5053945, 4946055]"
      ]
     },
     "execution_count": 13,
     "metadata": {},
     "output_type": "execute_result"
    }
   ],
   "source": [
    "who_wins_many(.4,.5)"
   ]
  },
  {
   "cell_type": "code",
   "execution_count": 16,
   "id": "1e3eff68",
   "metadata": {},
   "outputs": [
    {
     "data": {
      "text/plain": [
       "[4993366, 5006634]"
      ]
     },
     "execution_count": 16,
     "metadata": {},
     "output_type": "execute_result"
    }
   ],
   "source": [
    "who_wins_many(optimal_threshold_candidate , .31)"
   ]
  },
  {
   "cell_type": "code",
   "execution_count": 19,
   "id": "e9d24d12",
   "metadata": {},
   "outputs": [],
   "source": [
    "def run_out2(threshold, position , trials = 1000000):\n",
    "    run_outs = 0\n",
    "    for i in range(trials):\n",
    "        p = position\n",
    "        while p < threshold:\n",
    "            p = p + random.uniform()\n",
    "    \n",
    "        if p > 1:\n",
    "            run_outs += 1\n",
    "    return run_outs/trials\n",
    "\n",
    "        "
   ]
  },
  {
   "cell_type": "code",
   "execution_count": 23,
   "id": "2c895c08",
   "metadata": {},
   "outputs": [
    {
     "data": {
      "text/plain": [
       "0.33695118"
      ]
     },
     "execution_count": 23,
     "metadata": {},
     "output_type": "execute_result"
    }
   ],
   "source": [
    "run_out2(.4,.3,50000000 )"
   ]
  },
  {
   "cell_type": "code",
   "execution_count": 24,
   "id": "727652d3",
   "metadata": {},
   "outputs": [
    {
     "data": {
      "text/plain": [
       "0.49184058"
      ]
     },
     "execution_count": 24,
     "metadata": {},
     "output_type": "execute_result"
    }
   ],
   "source": [
    "49184058/(50815942+49184058)"
   ]
  },
  {
   "cell_type": "code",
   "execution_count": 25,
   "id": "e520956e",
   "metadata": {},
   "outputs": [
    {
     "data": {
      "text/plain": [
       "0.5081594199999999"
      ]
     },
     "execution_count": 25,
     "metadata": {},
     "output_type": "execute_result"
    }
   ],
   "source": [
    "1 - 0.49184058"
   ]
  },
  {
   "cell_type": "code",
   "execution_count": 26,
   "id": "de53b700",
   "metadata": {},
   "outputs": [
    {
     "data": {
      "text/plain": [
       "0.01631883999999989"
      ]
     },
     "execution_count": 26,
     "metadata": {},
     "output_type": "execute_result"
    }
   ],
   "source": [
    "0.5081594199999999 - 0.49184058"
   ]
  },
  {
   "cell_type": "code",
   "execution_count": 27,
   "id": "ddea913e",
   "metadata": {},
   "outputs": [
    {
     "data": {
      "text/plain": [
       "0.10490264"
      ]
     },
     "execution_count": 27,
     "metadata": {},
     "output_type": "execute_result"
    }
   ],
   "source": [
    "run_out2(.4,0,50000000 )"
   ]
  },
  {
   "cell_type": "code",
   "execution_count": 4,
   "id": "b790ee32",
   "metadata": {},
   "outputs": [
    {
     "name": "stdout",
     "output_type": "stream",
     "text": [
      "0.571739\n"
     ]
    }
   ],
   "source": [
    "i = 0\n",
    "\n",
    "for j in range(1000000):\n",
    "    if random.uniform(.4,1) > random.uniform(.3,1):\n",
    "        i+= 1\n",
    "    \n",
    "print(i /1000000 )"
   ]
  },
  {
   "cell_type": "code",
   "execution_count": 25,
   "id": "adff545d",
   "metadata": {},
   "outputs": [],
   "source": [
    "def run_out3(threshold, test_threshold , position=0, trials = 1000000):\n",
    "    run_outs = 0\n",
    "    for i in range(trials):\n",
    "        p = position\n",
    "        while p < threshold:\n",
    "            p = p + random.uniform()\n",
    "    \n",
    "        if p > test_threshold:\n",
    "            run_outs += 1\n",
    "    return run_outs/trials"
   ]
  },
  {
   "cell_type": "code",
   "execution_count": 29,
   "id": "2447078e",
   "metadata": {},
   "outputs": [
    {
     "data": {
      "text/plain": [
       "0.552474"
      ]
     },
     "execution_count": 29,
     "metadata": {},
     "output_type": "execute_result"
    }
   ],
   "source": [
    "run_out3(0.4,.7)"
   ]
  },
  {
   "cell_type": "code",
   "execution_count": 15,
   "id": "7cb4ddfc",
   "metadata": {},
   "outputs": [
    {
     "name": "stdout",
     "output_type": "stream",
     "text": [
      "0.595053\n"
     ]
    }
   ],
   "source": [
    "i = 0\n",
    "for j in range(1000000):\n",
    "    if .4 + random.uniform() > .3 + random.uniform():\n",
    "        i+= 1\n",
    "print(i /1000000 )"
   ]
  },
  {
   "cell_type": "code",
   "execution_count": 1,
   "id": "445b745a",
   "metadata": {},
   "outputs": [
    {
     "ename": "SyntaxError",
     "evalue": "invalid syntax (Temp/ipykernel_11708/1911168314.py, line 1)",
     "output_type": "error",
     "traceback": [
      "\u001b[1;36m  File \u001b[1;32m\"C:\\Users\\sr79\\AppData\\Local\\Temp/ipykernel_11708/1911168314.py\"\u001b[1;36m, line \u001b[1;32m1\u001b[0m\n\u001b[1;33m    (1/24 (-1 + b) (-9 - 4 a^3 + 6 a^2 (-1 + b) - 9 b - 3 b^2 + b^3 - 4 a (-5 - 2 b + b^2)) + 1/24 (3 - 4 b + b^4)) * e^(a+b)\u001b[0m\n\u001b[1;37m                           ^\u001b[0m\n\u001b[1;31mSyntaxError\u001b[0m\u001b[1;31m:\u001b[0m invalid syntax\n"
     ]
    }
   ],
   "source": [
    "(1/24 (-1 + b) (-9 - 4 a^3 + 6 a^2 (-1 + b) - 9 b - 3 b^2 + b^3 - 4 a (-5 - 2 b + b^2)) + 1/24 (3 - 4 b + b^4)) * e^(a+b)"
   ]
  },
  {
   "cell_type": "code",
   "execution_count": 143,
   "id": "461c7e11",
   "metadata": {},
   "outputs": [],
   "source": [
    "def win_prob_one(a,b):\n",
    "    return ((1/24 *  (-1 + b) * (-9 - 4*(a**3) + 6 * (a**2) * (-1 +b) - 9*b - 3 *(b**2) + (b**3)  - 4* a *( -5 - 2*b + b**2)))  +\n",
    "1/24 * (3 - 4*b + b**4)) * (math.e ** (a +b))"
   ]
  },
  {
   "cell_type": "code",
   "execution_count": 144,
   "id": "042c0901",
   "metadata": {},
   "outputs": [
    {
     "data": {
      "text/plain": [
       "0.4559136129713158"
      ]
     },
     "execution_count": 144,
     "metadata": {},
     "output_type": "execute_result"
    }
   ],
   "source": [
    "win_prob_one(.3,.4)"
   ]
  },
  {
   "cell_type": "code",
   "execution_count": 17,
   "id": "eb3b3a14",
   "metadata": {},
   "outputs": [],
   "source": [
    "def run_out_closed(x):\n",
    "    return 1- (1 - x)/(math.e ** -x)\n",
    "    "
   ]
  },
  {
   "cell_type": "code",
   "execution_count": 18,
   "id": "bf8767ff",
   "metadata": {},
   "outputs": [
    {
     "data": {
      "text/plain": [
       "0.10490518141523786"
      ]
     },
     "execution_count": 18,
     "metadata": {},
     "output_type": "execute_result"
    }
   ],
   "source": [
    "run_out_closed(.4)"
   ]
  },
  {
   "cell_type": "code",
   "execution_count": 29,
   "id": "28755f3e",
   "metadata": {},
   "outputs": [],
   "source": [
    "def win_prob_two(a,b):\n",
    "    return (win_prob_one(a,b) + (run_out_closed(a) * (1 - run_out_closed(b))))/ (1- (run_out_closed(a)*run_out_closed(b)))\n",
    "            "
   ]
  },
  {
   "cell_type": "code",
   "execution_count": 30,
   "id": "db247212",
   "metadata": {},
   "outputs": [
    {
     "data": {
      "text/plain": [
       "0.5081695925401649"
      ]
     },
     "execution_count": 30,
     "metadata": {},
     "output_type": "execute_result"
    }
   ],
   "source": [
    "win_prob_two(.3,.4)"
   ]
  },
  {
   "cell_type": "code",
   "execution_count": 36,
   "id": "2e50ba26",
   "metadata": {},
   "outputs": [
    {
     "data": {
      "text/plain": [
       "0.5259737335908273"
      ]
     },
     "execution_count": 36,
     "metadata": {},
     "output_type": "execute_result"
    }
   ],
   "source": [
    "win_prob_two(.1,.2)"
   ]
  },
  {
   "cell_type": "code",
   "execution_count": 32,
   "id": "684cb067",
   "metadata": {},
   "outputs": [
    {
     "data": {
      "text/plain": [
       "[5052332, 4947668]"
      ]
     },
     "execution_count": 32,
     "metadata": {},
     "output_type": "execute_result"
    }
   ],
   "source": [
    "who_wins_many(.4,.5)"
   ]
  },
  {
   "cell_type": "code",
   "execution_count": 46,
   "id": "7b7eed00",
   "metadata": {},
   "outputs": [
    {
     "data": {
      "text/plain": [
       "[4740237, 5259763]"
      ]
     },
     "execution_count": 46,
     "metadata": {},
     "output_type": "execute_result"
    }
   ],
   "source": [
    "who_wins_many(.1,.2)"
   ]
  },
  {
   "cell_type": "code",
   "execution_count": 109,
   "id": "a663ac94",
   "metadata": {},
   "outputs": [],
   "source": [
    "def best_response_digits(t,digits):\n",
    "    i = 0\n",
    "    number = 0\n",
    "    power = -1\n",
    "    \n",
    "    while i < digits:\n",
    "        \n",
    "        if i == 0:\n",
    "            dig = [0,1,2,3,4,5,6,7,8,9]\n",
    "        else: \n",
    "            dig = [-5,-4,-3,-2,-1,0,1,2,3,4,5]\n",
    "        \n",
    "        m = 0\n",
    "        best = 0\n",
    "        for j in dig:\n",
    "            current_number = number + (10**power) * j\n",
    "            if current_number > t:\n",
    "                value = win_prob_two(t,current_number)\n",
    "            else:\n",
    "                value = 1-win_prob_two(current_number,t)\n",
    "            if value > m:\n",
    "                m = value\n",
    "                best = j\n",
    "        number = number + (10**power)*best\n",
    "        power = power - 1\n",
    "        i += 1\n",
    "    return number\n",
    "    \n",
    "    "
   ]
  },
  {
   "cell_type": "code",
   "execution_count": 111,
   "id": "ad0ffa3e",
   "metadata": {},
   "outputs": [
    {
     "data": {
      "text/plain": [
       "0.382"
      ]
     },
     "execution_count": 111,
     "metadata": {},
     "output_type": "execute_result"
    }
   ],
   "source": [
    "best_response_digits(0.1,3)"
   ]
  },
  {
   "cell_type": "code",
   "execution_count": 72,
   "id": "463245ec",
   "metadata": {},
   "outputs": [
    {
     "data": {
      "text/plain": [
       "0.5484418053848809"
      ]
     },
     "execution_count": 72,
     "metadata": {},
     "output_type": "execute_result"
    }
   ],
   "source": [
    "win_prob_two(0.1, 0.38229121955850004)"
   ]
  },
  {
   "cell_type": "code",
   "execution_count": 75,
   "id": "50e225e3",
   "metadata": {},
   "outputs": [
    {
     "data": {
      "text/plain": [
       "0.5484418053221073"
      ]
     },
     "execution_count": 75,
     "metadata": {},
     "output_type": "execute_result"
    }
   ],
   "source": [
    "win_prob_two(0.1, 0.3823)"
   ]
  },
  {
   "cell_type": "code",
   "execution_count": 130,
   "id": "ca5189b7",
   "metadata": {},
   "outputs": [],
   "source": [
    "from decimal import *\n",
    "def find_optimal(digits,candidate):\n",
    "    \n",
    "    candidate = .1\n",
    "    response = best_response_digits(candidate,digits)\n",
    "    \n",
    "    while round(candidate,digits) != round(response,digits):\n",
    "        candidate = response\n",
    "        response = best_response_digits(candidate,digits)\n",
    "        #print([candidate,response])\n",
    "        \n",
    "    return round(candidate,digits)"
   ]
  },
  {
   "cell_type": "code",
   "execution_count": 131,
   "id": "c560c000",
   "metadata": {},
   "outputs": [
    {
     "data": {
      "text/plain": [
       "0.4162"
      ]
     },
     "execution_count": 131,
     "metadata": {},
     "output_type": "execute_result"
    }
   ],
   "source": [
    "find_optimal(4,0.1)"
   ]
  },
  {
   "cell_type": "code",
   "execution_count": 132,
   "id": "dda8b888",
   "metadata": {},
   "outputs": [
    {
     "data": {
      "text/plain": [
       "0.416195"
      ]
     },
     "execution_count": 132,
     "metadata": {},
     "output_type": "execute_result"
    }
   ],
   "source": [
    "find_optimal(6,0.2)"
   ]
  },
  {
   "cell_type": "code",
   "execution_count": 133,
   "id": "a8c753cf",
   "metadata": {},
   "outputs": [
    {
     "data": {
      "text/plain": [
       "0.416195356"
      ]
     },
     "execution_count": 133,
     "metadata": {},
     "output_type": "execute_result"
    }
   ],
   "source": [
    "find_optimal(9,0.7)"
   ]
  },
  {
   "cell_type": "code",
   "execution_count": 134,
   "id": "7aed3acc",
   "metadata": {},
   "outputs": [
    {
     "data": {
      "text/plain": [
       "0.416195356"
      ]
     },
     "execution_count": 134,
     "metadata": {},
     "output_type": "execute_result"
    }
   ],
   "source": [
    "find_optimal(9,0.2)"
   ]
  },
  {
   "cell_type": "code",
   "execution_count": 140,
   "id": "ef3fc8e0",
   "metadata": {},
   "outputs": [
    {
     "data": {
      "text/plain": [
       "0.416195356"
      ]
     },
     "execution_count": 140,
     "metadata": {},
     "output_type": "execute_result"
    }
   ],
   "source": [
    "find_optimal(9,0.3)"
   ]
  },
  {
   "cell_type": "code",
   "execution_count": 136,
   "id": "9ae39fe8",
   "metadata": {},
   "outputs": [
    {
     "data": {
      "text/plain": [
       "0.41619534469969977"
      ]
     },
     "execution_count": 136,
     "metadata": {},
     "output_type": "execute_result"
    }
   ],
   "source": [
    "best_response_digits(0.416195365,20)"
   ]
  },
  {
   "cell_type": "code",
   "execution_count": 137,
   "id": "c131751f",
   "metadata": {},
   "outputs": [
    {
     "data": {
      "text/plain": [
       "0.41030115475969975"
      ]
     },
     "execution_count": 137,
     "metadata": {},
     "output_type": "execute_result"
    }
   ],
   "source": [
    "best_response_digits(optimal_threshold_candidate,20)"
   ]
  },
  {
   "cell_type": "code",
   "execution_count": 118,
   "id": "a83286a6",
   "metadata": {},
   "outputs": [
    {
     "data": {
      "text/plain": [
       "0.5078836865839853"
      ]
     },
     "execution_count": 118,
     "metadata": {},
     "output_type": "execute_result"
    }
   ],
   "source": [
    "win_prob_two(optimal_threshold_candidate, 0.41030115475969975)"
   ]
  },
  {
   "cell_type": "code",
   "execution_count": 121,
   "id": "06d6dddb",
   "metadata": {},
   "outputs": [
    {
     "data": {
      "text/plain": [
       "0.5078073184294523"
      ]
     },
     "execution_count": 121,
     "metadata": {},
     "output_type": "execute_result"
    }
   ],
   "source": [
    "win_prob_two(optimal_threshold_candidate, 0.40030115475969975)"
   ]
  },
  {
   "cell_type": "code",
   "execution_count": 122,
   "id": "be40f723",
   "metadata": {},
   "outputs": [
    {
     "data": {
      "text/plain": [
       "[4922586, 5077414]"
      ]
     },
     "execution_count": 122,
     "metadata": {},
     "output_type": "execute_result"
    }
   ],
   "source": [
    "who_wins_many(optimal_threshold_candidate,0.41030115475969975)"
   ]
  },
  {
   "cell_type": "code",
   "execution_count": 123,
   "id": "f9bd355f",
   "metadata": {},
   "outputs": [
    {
     "data": {
      "text/plain": [
       "[4920435, 5079565]"
      ]
     },
     "execution_count": 123,
     "metadata": {},
     "output_type": "execute_result"
    }
   ],
   "source": [
    "who_wins_many(optimal_threshold_candidate,0.41030115475969975)"
   ]
  },
  {
   "cell_type": "code",
   "execution_count": 124,
   "id": "184ebc0a",
   "metadata": {},
   "outputs": [
    {
     "data": {
      "text/plain": [
       "[4919348, 5080652]"
      ]
     },
     "execution_count": 124,
     "metadata": {},
     "output_type": "execute_result"
    }
   ],
   "source": [
    "who_wins_many(optimal_threshold_candidate,0.41030115475969975)"
   ]
  },
  {
   "cell_type": "code",
   "execution_count": 125,
   "id": "7de7d4a5",
   "metadata": {},
   "outputs": [
    {
     "data": {
      "text/plain": [
       "[4923806, 5076194]"
      ]
     },
     "execution_count": 125,
     "metadata": {},
     "output_type": "execute_result"
    }
   ],
   "source": [
    "who_wins_many(optimal_threshold_candidate,0.41030115475969975)"
   ]
  },
  {
   "cell_type": "code",
   "execution_count": 127,
   "id": "4f7ef1ea",
   "metadata": {},
   "outputs": [
    {
     "data": {
      "text/plain": [
       "[4922281, 5077719]"
      ]
     },
     "execution_count": 127,
     "metadata": {},
     "output_type": "execute_result"
    }
   ],
   "source": [
    "who_wins_many(optimal_threshold_candidate,0.41030115475969975,10000000)"
   ]
  },
  {
   "cell_type": "code",
   "execution_count": 128,
   "id": "49f93184",
   "metadata": {},
   "outputs": [
    {
     "data": {
      "text/plain": [
       "[4919791, 5080209]"
      ]
     },
     "execution_count": 128,
     "metadata": {},
     "output_type": "execute_result"
    }
   ],
   "source": [
    "who_wins_many(optimal_threshold_candidate,0.41030115475969975,10000000)"
   ]
  },
  {
   "cell_type": "code",
   "execution_count": 129,
   "id": "7817076a",
   "metadata": {},
   "outputs": [
    {
     "data": {
      "text/plain": [
       "5078964.0"
      ]
     },
     "execution_count": 129,
     "metadata": {},
     "output_type": "execute_result"
    }
   ],
   "source": [
    "( 5077719 + 5080209)/2"
   ]
  },
  {
   "cell_type": "code",
   "execution_count": 103,
   "id": "c793e7eb",
   "metadata": {},
   "outputs": [],
   "source": [
    "import math\n",
    "from decimal import*\n",
    "\n",
    "def win_prob_one_dec(a,b):\n",
    "    a = Decimal(a)\n",
    "    b = Decimal(b)\n",
    "    return Decimal((((Decimal(1)/Decimal(24)) *  (-1 + b) * (-9 - 4*(a**3) + 6 * (a**2) * (-1 +b) - 9*b - 3 *(b**2) + (b**3)  - 4* a *( -5 - 2*b + b**2)))  +\n",
    "Decimal(1)/Decimal(24) * (3 - 4*b + b**4)) * (Decimal(math.e) ** (a +b)))\n",
    "\n",
    "def run_out_closed_dec(x):\n",
    "    x = Decimal(x)\n",
    "    return Decimal(1- (1 - x)/(Decimal(math.e) ** -x))\n",
    "\n",
    "def win_prob_two_dec(a,b):\n",
    "    return Decimal((win_prob_one_dec(a,b) + (run_out_closed_dec(a) * (1 - run_out_closed_dec(b))))/ (1- (run_out_closed_dec(a)*run_out_closed_dec(b))))\n",
    "\n",
    "def best_response_digits_dec(t,digits):\n",
    "    i = 0\n",
    "    number = Decimal(0)\n",
    "    power = -1\n",
    "    \n",
    "    while i < digits:\n",
    "        \n",
    "        if i == 0:\n",
    "            dig = [0,1,2,3,4,5,6,7,8,9]\n",
    "        else: \n",
    "            dig = [-5,-4,-3,-2,-1,0,1,2,3,4,5]\n",
    "        \n",
    "        m = Decimal(0)\n",
    "        best = 0\n",
    "        value = Decimal(-1)\n",
    "        for j in dig:\n",
    "            current_number = number + Decimal((10**power) * j)\n",
    "            if current_number > t:\n",
    "                value = win_prob_two_dec(t,current_number)\n",
    "            else:\n",
    "                value = 1-win_prob_two_dec(current_number,t)\n",
    "            if value > m:\n",
    "                m = value\n",
    "                best = j\n",
    "        number = number + Decimal((10**power)*best)\n",
    "        power = power - 1\n",
    "        i += 1\n",
    "    return Decimal(number)\n",
    "\n",
    "\n",
    "def find_optimal_dec(digits,candidate):\n",
    "    \n",
    "    candidate = Decimal(candidate)\n",
    "    response = best_response_digits_dec(candidate,digits)\n",
    "    \n",
    "    while round(candidate,digits) != round(response,digits):\n",
    "        candidate = response\n",
    "        response = best_response_digits(candidate,digits)\n",
    "        print([candidate,response])\n",
    "        \n",
    "    return round(candidate,digits)"
   ]
  },
  {
   "cell_type": "code",
   "execution_count": 104,
   "id": "f36cf791",
   "metadata": {},
   "outputs": [
    {
     "data": {
      "text/plain": [
       "Decimal('0.508169592540165057776131171864')"
      ]
     },
     "execution_count": 104,
     "metadata": {},
     "output_type": "execute_result"
    }
   ],
   "source": [
    "win_prob_two_dec(.3,.4)"
   ]
  },
  {
   "cell_type": "code",
   "execution_count": 105,
   "id": "700e1dbf",
   "metadata": {},
   "outputs": [
    {
     "data": {
      "text/plain": [
       "Decimal('0.382291225338300121856820764295')"
      ]
     },
     "execution_count": 105,
     "metadata": {},
     "output_type": "execute_result"
    }
   ],
   "source": [
    "best_response_digits_dec(Decimal(.1),16)"
   ]
  },
  {
   "cell_type": "code",
   "execution_count": 114,
   "id": "0f4001f4",
   "metadata": {},
   "outputs": [
    {
     "name": "stdout",
     "output_type": "stream",
     "text": [
      "[Decimal('0.246036420371129013797956543128'), 0.404071395220574]\n",
      "[0.404071395220574, 0.41611485664735703]\n",
      "[0.41611485664735703, 0.4161953512260871]\n",
      "[0.4161953512260871, 0.4161953548582351]\n",
      "[0.4161953548582351, 0.4161953548582351]\n"
     ]
    },
    {
     "data": {
      "text/plain": [
       "0.416195354858235"
      ]
     },
     "execution_count": 114,
     "metadata": {},
     "output_type": "execute_result"
    }
   ],
   "source": [
    "find_optimal_dec(15,.9)"
   ]
  },
  {
   "cell_type": "code",
   "execution_count": 115,
   "id": "93d4596a",
   "metadata": {},
   "outputs": [
    {
     "data": {
      "text/plain": [
       "Decimal('0.114845885981336874962965504698')"
      ]
     },
     "execution_count": 115,
     "metadata": {},
     "output_type": "execute_result"
    }
   ],
   "source": [
    "run_out_closed_dec(0.41619535485823)"
   ]
  },
  {
   "cell_type": "code",
   "execution_count": null,
   "id": "a1057886",
   "metadata": {},
   "outputs": [],
   "source": []
  }
 ],
 "metadata": {
  "kernelspec": {
   "display_name": "Python 3 (ipykernel)",
   "language": "python",
   "name": "python3"
  },
  "language_info": {
   "codemirror_mode": {
    "name": "ipython",
    "version": 3
   },
   "file_extension": ".py",
   "mimetype": "text/x-python",
   "name": "python",
   "nbconvert_exporter": "python",
   "pygments_lexer": "ipython3",
   "version": "3.9.7"
  }
 },
 "nbformat": 4,
 "nbformat_minor": 5
}
