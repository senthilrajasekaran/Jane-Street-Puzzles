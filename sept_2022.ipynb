{
 "cells": [
  {
   "cell_type": "code",
   "execution_count": 4,
   "id": "aa0d7786",
   "metadata": {},
   "outputs": [
    {
     "name": "stdout",
     "output_type": "stream",
     "text": [
      "Requirement already satisfied: PyDictionary in c:\\users\\sr79\\anaconda3\\lib\\site-packages (2.0.1)\n",
      "Requirement already satisfied: bs4 in c:\\users\\sr79\\anaconda3\\lib\\site-packages (from PyDictionary) (0.0.1)\n",
      "Requirement already satisfied: click in c:\\users\\sr79\\anaconda3\\lib\\site-packages (from PyDictionary) (8.0.3)\n",
      "Requirement already satisfied: requests in c:\\users\\sr79\\anaconda3\\lib\\site-packages (from PyDictionary) (2.26.0)\n",
      "Requirement already satisfied: goslate in c:\\users\\sr79\\anaconda3\\lib\\site-packages (from PyDictionary) (1.5.4)\n",
      "Requirement already satisfied: beautifulsoup4 in c:\\users\\sr79\\anaconda3\\lib\\site-packages (from bs4->PyDictionary) (4.10.0)\n",
      "Requirement already satisfied: soupsieve>1.2 in c:\\users\\sr79\\anaconda3\\lib\\site-packages (from beautifulsoup4->bs4->PyDictionary) (2.2.1)\n",
      "Requirement already satisfied: colorama in c:\\users\\sr79\\anaconda3\\lib\\site-packages (from click->PyDictionary) (0.4.4)\n",
      "Requirement already satisfied: futures in c:\\users\\sr79\\anaconda3\\lib\\site-packages (from goslate->PyDictionary) (2.2.0)\n",
      "Requirement already satisfied: idna<4,>=2.5 in c:\\users\\sr79\\anaconda3\\lib\\site-packages (from requests->PyDictionary) (3.2)\n",
      "Requirement already satisfied: urllib3<1.27,>=1.21.1 in c:\\users\\sr79\\anaconda3\\lib\\site-packages (from requests->PyDictionary) (1.26.7)\n",
      "Requirement already satisfied: charset-normalizer~=2.0.0 in c:\\users\\sr79\\anaconda3\\lib\\site-packages (from requests->PyDictionary) (2.0.4)\n",
      "Requirement already satisfied: certifi>=2017.4.17 in c:\\users\\sr79\\anaconda3\\lib\\site-packages (from requests->PyDictionary) (2021.10.8)\n",
      "Note: you may need to restart the kernel to use updated packages.\n"
     ]
    }
   ],
   "source": [
    "pip install PyDictionary"
   ]
  },
  {
   "cell_type": "code",
   "execution_count": 5,
   "id": "f4417d1f",
   "metadata": {},
   "outputs": [],
   "source": [
    "from PyDictionary import PyDictionary\n"
   ]
  },
  {
   "cell_type": "code",
   "execution_count": 6,
   "id": "151672cb",
   "metadata": {},
   "outputs": [],
   "source": [
    "words = PyDictionary"
   ]
  },
  {
   "cell_type": "code",
   "execution_count": 7,
   "id": "fdb0137a",
   "metadata": {},
   "outputs": [
    {
     "data": {
      "text/plain": [
       "PyDictionary.core.PyDictionary"
      ]
     },
     "execution_count": 7,
     "metadata": {},
     "output_type": "execute_result"
    }
   ],
   "source": [
    "words"
   ]
  },
  {
   "cell_type": "code",
   "execution_count": 11,
   "id": "41ce8d39",
   "metadata": {},
   "outputs": [
    {
     "data": {
      "text/plain": [
       "{'Noun': ['a characteristic state or mode of living',\n",
       "  'the experience of being alive; the course of human events and activities',\n",
       "  'the course of existence of an individual; the actions and events that occur in living',\n",
       "  'the condition of living or the state of being alive',\n",
       "  'the period during which something is functional (as between birth and death',\n",
       "  'the period between birth and the present time',\n",
       "  'the period from the present until death',\n",
       "  'a living person',\n",
       "  'animation and energy in action or expression',\n",
       "  'living things collectively',\n",
       "  'the organic phenomenon that distinguishes living organisms from nonliving ones',\n",
       "  \"an account of the series of events making up a person's life\",\n",
       "  'a motive for living',\n",
       "  'a prison term lasting as long as the prisoner lives']}"
      ]
     },
     "execution_count": 11,
     "metadata": {},
     "output_type": "execute_result"
    }
   ],
   "source": [
    "words.meaning(\"life\")"
   ]
  },
  {
   "cell_type": "code",
   "execution_count": 17,
   "id": "0aa1fbb5",
   "metadata": {},
   "outputs": [
    {
     "ename": "TypeError",
     "evalue": "object of type 'type' has no len()",
     "output_type": "error",
     "traceback": [
      "\u001b[1;31m---------------------------------------------------------------------------\u001b[0m",
      "\u001b[1;31mTypeError\u001b[0m                                 Traceback (most recent call last)",
      "\u001b[1;32m~\\AppData\\Local\\Temp/ipykernel_24356/1840790505.py\u001b[0m in \u001b[0;36m<module>\u001b[1;34m\u001b[0m\n\u001b[1;32m----> 1\u001b[1;33m \u001b[0mlen\u001b[0m\u001b[1;33m(\u001b[0m\u001b[0mwords\u001b[0m\u001b[1;33m)\u001b[0m\u001b[1;33m\u001b[0m\u001b[1;33m\u001b[0m\u001b[0m\n\u001b[0m",
      "\u001b[1;31mTypeError\u001b[0m: object of type 'type' has no len()"
     ]
    }
   ],
   "source": []
  },
  {
   "cell_type": "code",
   "execution_count": 20,
   "id": "7dcb975c",
   "metadata": {},
   "outputs": [
    {
     "name": "stdout",
     "output_type": "stream",
     "text": [
      "Collecting english-words\n",
      "  Downloading english-words-1.1.0.tar.gz (1.1 MB)\n",
      "Building wheels for collected packages: english-words\n",
      "  Building wheel for english-words (setup.py): started\n",
      "  Building wheel for english-words (setup.py): finished with status 'done'\n",
      "  Created wheel for english-words: filename=english_words-1.1.0-py3-none-any.whl size=1106679 sha256=f2def7bedf119a67285f445df200d0473ef2b356e91d8b1015e5fb3857a6f1cf\n",
      "  Stored in directory: c:\\users\\sr79\\appdata\\local\\pip\\cache\\wheels\\0e\\24\\52\\b4989db82a438482aa65b3c6c0537e988fd40546b792747b1a\n",
      "Successfully built english-words\n",
      "Installing collected packages: english-words\n",
      "Successfully installed english-words-1.1.0\n",
      "Note: you may need to restart the kernel to use updated packages.\n"
     ]
    }
   ],
   "source": [
    "pip install english-words "
   ]
  },
  {
   "cell_type": "code",
   "execution_count": 22,
   "id": "7496e88a",
   "metadata": {},
   "outputs": [],
   "source": [
    "from english_words import english_words_set"
   ]
  },
  {
   "cell_type": "code",
   "execution_count": 24,
   "id": "df6bf57c",
   "metadata": {},
   "outputs": [],
   "source": [
    "wlist = english_words_set"
   ]
  },
  {
   "cell_type": "code",
   "execution_count": 32,
   "id": "ab09e8eb",
   "metadata": {},
   "outputs": [
    {
     "data": {
      "text/plain": [
       "False"
      ]
     },
     "execution_count": 32,
     "metadata": {},
     "output_type": "execute_result"
    }
   ],
   "source": [
    "\"appeases\" in wlist"
   ]
  },
  {
   "cell_type": "code",
   "execution_count": null,
   "id": "f248c14a",
   "metadata": {},
   "outputs": [
    {
     "name": "stdout",
     "output_type": "stream",
     "text": [
      "showing info https://raw.githubusercontent.com/nltk/nltk_data/gh-pages/index.xml\n"
     ]
    }
   ],
   "source": [
    "import nltk\n",
    "nltk.download()"
   ]
  },
  {
   "cell_type": "code",
   "execution_count": null,
   "id": "f7a89fcc",
   "metadata": {},
   "outputs": [],
   "source": [
    "from nltk.corpus import words\n",
    "word_list = words.words()\n",
    "# prints 236736\n",
    "print len(word_list)"
   ]
  },
  {
   "cell_type": "code",
   "execution_count": null,
   "id": "9e4166fa",
   "metadata": {},
   "outputs": [],
   "source": [
    "\n",
    "            "
   ]
  }
 ],
 "metadata": {
  "kernelspec": {
   "display_name": "Python 3 (ipykernel)",
   "language": "python",
   "name": "python3"
  },
  "language_info": {
   "codemirror_mode": {
    "name": "ipython",
    "version": 3
   },
   "file_extension": ".py",
   "mimetype": "text/x-python",
   "name": "python",
   "nbconvert_exporter": "python",
   "pygments_lexer": "ipython3",
   "version": "3.9.7"
  }
 },
 "nbformat": 4,
 "nbformat_minor": 5
}
