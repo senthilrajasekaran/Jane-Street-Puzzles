{
 "cells": [
  {
   "cell_type": "code",
   "execution_count": 1,
   "id": "4c8e59f8",
   "metadata": {},
   "outputs": [],
   "source": [
    "squares = [i for i in range(0,18)]\n",
    "square_config_one = {\n",
    "0:[1,3],\n",
    "1:[4,0],\n",
    "2:[3,7],\n",
    "3:[0,2,4,8],\n",
    "4:[1,3,5,8],\n",
    "5:[4,10],\n",
    "6:[7],\n",
    "7:[2,6,8,12],\n",
    "8:[3,7,9,13],\n",
    "9:[4,8,10,14],\n",
    "10:[5,9,11,15],\n",
    "11:[10],\n",
    "12:[7,13],\n",
    "13:[8,12,14,16],\n",
    "14:[9,13,15,17],\n",
    "15:[10,14],\n",
    "16:[13,17],\n",
    "17:[14,16]\n",
    "}"
   ]
  },
  {
   "cell_type": "code",
   "execution_count": 37,
   "id": "ac097741",
   "metadata": {},
   "outputs": [
    {
     "data": {
      "text/plain": [
       "[[0, 1],\n",
       " [0, 2],\n",
       " [0, 3],\n",
       " [0, 4],\n",
       " [0, 5],\n",
       " [0, 7],\n",
       " [0, 8],\n",
       " [0, 9],\n",
       " [0, 10],\n",
       " [0, 12],\n",
       " [0, 13],\n",
       " [0, 14],\n",
       " [0, 15],\n",
       " [0, 16],\n",
       " [0, 17],\n",
       " [1, 0],\n",
       " [1, 2],\n",
       " [1, 3],\n",
       " [1, 4],\n",
       " [1, 5],\n",
       " [1, 7],\n",
       " [1, 8],\n",
       " [1, 9],\n",
       " [1, 10],\n",
       " [1, 12],\n",
       " [1, 13],\n",
       " [1, 14],\n",
       " [1, 15],\n",
       " [1, 16],\n",
       " [1, 17],\n",
       " [2, 0],\n",
       " [2, 1],\n",
       " [2, 3],\n",
       " [2, 4],\n",
       " [2, 5],\n",
       " [2, 7],\n",
       " [2, 8],\n",
       " [2, 9],\n",
       " [2, 10],\n",
       " [2, 12],\n",
       " [2, 13],\n",
       " [2, 14],\n",
       " [2, 15],\n",
       " [2, 16],\n",
       " [2, 17],\n",
       " [3, 4],\n",
       " [3, 7],\n",
       " [3, 8],\n",
       " [3, 9],\n",
       " [3, 10],\n",
       " [3, 13],\n",
       " [3, 14],\n",
       " [4, 3],\n",
       " [4, 7],\n",
       " [4, 8],\n",
       " [4, 9],\n",
       " [4, 10],\n",
       " [4, 13],\n",
       " [4, 14],\n",
       " [5, 0],\n",
       " [5, 1],\n",
       " [5, 2],\n",
       " [5, 3],\n",
       " [5, 4],\n",
       " [5, 7],\n",
       " [5, 8],\n",
       " [5, 9],\n",
       " [5, 10],\n",
       " [5, 12],\n",
       " [5, 13],\n",
       " [5, 14],\n",
       " [5, 15],\n",
       " [5, 16],\n",
       " [5, 17],\n",
       " [6, 0],\n",
       " [6, 1],\n",
       " [6, 2],\n",
       " [6, 3],\n",
       " [6, 4],\n",
       " [6, 5],\n",
       " [6, 7],\n",
       " [6, 8],\n",
       " [6, 9],\n",
       " [6, 10],\n",
       " [6, 11],\n",
       " [6, 12],\n",
       " [6, 13],\n",
       " [6, 14],\n",
       " [6, 15],\n",
       " [6, 16],\n",
       " [6, 17],\n",
       " [7, 3],\n",
       " [7, 4],\n",
       " [7, 8],\n",
       " [7, 9],\n",
       " [7, 10],\n",
       " [7, 13],\n",
       " [7, 14],\n",
       " [8, 3],\n",
       " [8, 4],\n",
       " [8, 7],\n",
       " [8, 9],\n",
       " [8, 10],\n",
       " [8, 13],\n",
       " [8, 14],\n",
       " [9, 3],\n",
       " [9, 4],\n",
       " [9, 7],\n",
       " [9, 8],\n",
       " [9, 10],\n",
       " [9, 13],\n",
       " [9, 14],\n",
       " [10, 3],\n",
       " [10, 4],\n",
       " [10, 7],\n",
       " [10, 8],\n",
       " [10, 9],\n",
       " [10, 13],\n",
       " [10, 14],\n",
       " [11, 0],\n",
       " [11, 1],\n",
       " [11, 2],\n",
       " [11, 3],\n",
       " [11, 4],\n",
       " [11, 5],\n",
       " [11, 6],\n",
       " [11, 7],\n",
       " [11, 8],\n",
       " [11, 9],\n",
       " [11, 10],\n",
       " [11, 12],\n",
       " [11, 13],\n",
       " [11, 14],\n",
       " [11, 15],\n",
       " [11, 16],\n",
       " [11, 17],\n",
       " [12, 0],\n",
       " [12, 1],\n",
       " [12, 2],\n",
       " [12, 3],\n",
       " [12, 4],\n",
       " [12, 5],\n",
       " [12, 7],\n",
       " [12, 8],\n",
       " [12, 9],\n",
       " [12, 10],\n",
       " [12, 13],\n",
       " [12, 14],\n",
       " [12, 15],\n",
       " [12, 16],\n",
       " [12, 17],\n",
       " [13, 3],\n",
       " [13, 4],\n",
       " [13, 7],\n",
       " [13, 8],\n",
       " [13, 9],\n",
       " [13, 10],\n",
       " [13, 14],\n",
       " [14, 3],\n",
       " [14, 4],\n",
       " [14, 7],\n",
       " [14, 8],\n",
       " [14, 9],\n",
       " [14, 10],\n",
       " [14, 13],\n",
       " [15, 0],\n",
       " [15, 1],\n",
       " [15, 2],\n",
       " [15, 3],\n",
       " [15, 4],\n",
       " [15, 5],\n",
       " [15, 7],\n",
       " [15, 8],\n",
       " [15, 9],\n",
       " [15, 10],\n",
       " [15, 12],\n",
       " [15, 13],\n",
       " [15, 14],\n",
       " [15, 16],\n",
       " [15, 17],\n",
       " [16, 0],\n",
       " [16, 1],\n",
       " [16, 2],\n",
       " [16, 3],\n",
       " [16, 4],\n",
       " [16, 5],\n",
       " [16, 7],\n",
       " [16, 8],\n",
       " [16, 9],\n",
       " [16, 10],\n",
       " [16, 12],\n",
       " [16, 13],\n",
       " [16, 14],\n",
       " [16, 15],\n",
       " [16, 17],\n",
       " [17, 0],\n",
       " [17, 1],\n",
       " [17, 2],\n",
       " [17, 3],\n",
       " [17, 4],\n",
       " [17, 5],\n",
       " [17, 7],\n",
       " [17, 8],\n",
       " [17, 9],\n",
       " [17, 10],\n",
       " [17, 12],\n",
       " [17, 13],\n",
       " [17, 14],\n",
       " [17, 15],\n",
       " [17, 16]]"
      ]
     },
     "execution_count": 37,
     "metadata": {},
     "output_type": "execute_result"
    }
   ],
   "source": [
    "from math import comb\n",
    "\n",
    "def perimeter(square_config):\n",
    "    per = 0\n",
    "    for i in square_config:\n",
    "        per += 4 - len(square_config[i])\n",
    "    return per\n",
    "\n",
    "\n",
    "def delete_node(square_config, node):\n",
    "    squares = square_config.copy()\n",
    "    if node in squares:\n",
    "        del squares[node]\n",
    "        for i in squares:\n",
    "            if node in squares[i]:\n",
    "                temp = squares[i].copy()\n",
    "                temp.remove(node)\n",
    "                squares[i] = temp\n",
    "        return squares\n",
    "    else:\n",
    "        print(\"Error deleting node that is not in graph\")\n",
    "        return False\n",
    "    \n",
    "    \n",
    "def multiplier(perimeter):\n",
    "    if perimeter % 2 == 0:\n",
    "        return comb(perimeter, perimeter//2)\n",
    "    return 0\n",
    "\n",
    "two_squares = [ [i,j] for i in range(0,18) for j in range(0,18) if len(square_config_one[i]) <= len(square_config_one[j]) and i!=j]\n",
    "square_pairs = [[i,j] for i in range (0,18) for j in range(0,18) if i < j]    \n",
    "two_squares\n"
   ]
  },
  {
   "cell_type": "code",
   "execution_count": 68,
   "id": "d79f969d",
   "metadata": {},
   "outputs": [],
   "source": [
    "def count():\n",
    "    s = 0\n",
    "    for i in two_squares:\n",
    "        if len(square_config_one[i[0]]) == 4:\n",
    "            continue\n",
    "        else:\n",
    "            squares_removed_one = delete_node(square_config_one, i[0])\n",
    "            if len(squares_removed_one[i[1]]) == 4:\n",
    "                continue\n",
    "            else:\n",
    "                squares_removed_two = delete_node(squares_removed_one, i[1])\n",
    "    \n",
    "                good = True\n",
    "                for j in squares_removed_two:\n",
    "                    if len(squares_removed_two[j]) == 0:\n",
    "                        good = False\n",
    "                if good:\n",
    "                    if 8 not in squares_removed_two or 9 not in squares_removed_two:\n",
    "                        print(\"mistake\")\n",
    "                    p = perimeter(squares_removed_two)\n",
    "                    #s += p * multiplier(p) \n",
    "                    # why multiply by p??\n",
    "                    s+= multiplier(p)\n",
    "\n",
    "    return s\n",
    "                \n",
    "                \n",
    "        "
   ]
  },
  {
   "cell_type": "code",
   "execution_count": 69,
   "id": "1d1be9c0",
   "metadata": {},
   "outputs": [
    {
     "data": {
      "text/plain": [
       "63518936"
      ]
     },
     "execution_count": 69,
     "metadata": {},
     "output_type": "execute_result"
    }
   ],
   "source": [
    "count()"
   ]
  },
  {
   "cell_type": "code",
   "execution_count": 51,
   "id": "576ec5f0",
   "metadata": {},
   "outputs": [
    {
     "data": {
      "text/plain": [
       "{0: [1, 3],\n",
       " 1: [4, 0],\n",
       " 2: [3],\n",
       " 3: [0, 2, 4, 8],\n",
       " 4: [1, 3, 5, 8],\n",
       " 5: [4, 10],\n",
       " 6: [],\n",
       " 8: [3, 9, 13],\n",
       " 9: [4, 8, 10, 14],\n",
       " 10: [5, 9, 11, 15],\n",
       " 11: [10],\n",
       " 13: [8, 14, 16],\n",
       " 14: [9, 13, 15, 17],\n",
       " 15: [10, 14],\n",
       " 16: [13, 17],\n",
       " 17: [14, 16]}"
      ]
     },
     "execution_count": 51,
     "metadata": {},
     "output_type": "execute_result"
    }
   ],
   "source": [
    "delete_node(delete_node(square_config_one, 12),7)"
   ]
  },
  {
   "cell_type": "code",
   "execution_count": 68,
   "id": "015a0f18",
   "metadata": {},
   "outputs": [
    {
     "data": {
      "text/plain": [
       "{0: [1, 3],\n",
       " 1: [4, 0],\n",
       " 2: [3, 7],\n",
       " 3: [0, 2, 4, 8],\n",
       " 4: [1, 3, 5, 8],\n",
       " 5: [4, 10],\n",
       " 6: [7],\n",
       " 7: [2, 6, 8, 12],\n",
       " 8: [3, 7, 9, 13],\n",
       " 9: [4, 8, 10, 14],\n",
       " 10: [5, 9, 11, 15],\n",
       " 11: [10],\n",
       " 12: [7, 13],\n",
       " 13: [8, 12, 14, 16],\n",
       " 14: [9, 13, 15, 17],\n",
       " 15: [10, 14],\n",
       " 16: [13, 17],\n",
       " 17: [14, 16]}"
      ]
     },
     "execution_count": 68,
     "metadata": {},
     "output_type": "execute_result"
    }
   ],
   "source": [
    "square_config_one"
   ]
  },
  {
   "cell_type": "code",
   "execution_count": 5,
   "id": "64b0d4b8",
   "metadata": {},
   "outputs": [
    {
     "data": {
      "text/plain": [
       "[3, 4, 7, 8, 9, 10, 13, 14]"
      ]
     },
     "execution_count": 5,
     "metadata": {},
     "output_type": "execute_result"
    }
   ],
   "source": [
    "four_squares = [i for i in square_config_one if len(square_config_one[i]) == 4]\n",
    "four_squares\n"
   ]
  },
  {
   "cell_type": "code",
   "execution_count": 57,
   "id": "1ea57d68",
   "metadata": {},
   "outputs": [],
   "source": [
    "def no_hole(square_config):\n",
    "    \n",
    "    if 8 not in square_config or 9 not in square_config:\n",
    "        return False\n",
    "    g_flag = True\n",
    "    for i in four_squares:\n",
    "        if i not in square_config:\n",
    "            flag = False\n",
    "            for j in square_config_one[i]:\n",
    "                if j not in square_config:\n",
    "                    flag = True\n",
    "            g_flag = g_flag and flag\n",
    "    return g_flag\n",
    "\n",
    "def connected(square_config):\n",
    "    for i in square_config:\n",
    "        if len(square_config[i]) == 0:\n",
    "            return False\n",
    "    return True\n",
    "\n",
    "def accept(square_config):\n",
    "    if 8 not in square_config or 9 not in square_config:\n",
    "        return False\n",
    "    else:\n",
    "        seen = []\n",
    "        q =[8]\n",
    "        while q:\n",
    "            current = q.pop()\n",
    "            if current in seen:\n",
    "                continue\n",
    "            else:\n",
    "                seen.append(current)\n",
    "                for j in square_config[current]:\n",
    "                    if j not in seen:\n",
    "                        q.append(j)\n",
    "        \n",
    "        flag1 = len(seen) == len(square_config)\n",
    "        flag2 = True\n",
    "        for j in four_squares:\n",
    "            if j not in square_config:\n",
    "                lflag = False\n",
    "                for k in square_config_one[j]:\n",
    "                    if k not in square_config:\n",
    "                        lflag = True\n",
    "                flag2 = flag2 and lflag\n",
    "        return flag1 and flag2"
   ]
  },
  {
   "cell_type": "code",
   "execution_count": 58,
   "id": "4f31519f",
   "metadata": {},
   "outputs": [
    {
     "data": {
      "text/plain": [
       "False"
      ]
     },
     "execution_count": 58,
     "metadata": {},
     "output_type": "execute_result"
    }
   ],
   "source": [
    "accept(delete_node(delete_node(square_config_one, 13),14))"
   ]
  },
  {
   "cell_type": "code",
   "execution_count": 16,
   "id": "18438628",
   "metadata": {},
   "outputs": [
    {
     "data": {
      "text/plain": [
       "True"
      ]
     },
     "execution_count": 16,
     "metadata": {},
     "output_type": "execute_result"
    }
   ],
   "source": [
    "no_hole(delete_node(square_config_one, 1))"
   ]
  },
  {
   "cell_type": "code",
   "execution_count": 48,
   "id": "9fb58bfa",
   "metadata": {},
   "outputs": [
    {
     "data": {
      "text/plain": [
       "True"
      ]
     },
     "execution_count": 48,
     "metadata": {},
     "output_type": "execute_result"
    }
   ],
   "source": [
    "accept(delete_node(delete_node(square_config_one, 17),14))"
   ]
  },
  {
   "cell_type": "code",
   "execution_count": 42,
   "id": "226a7a45",
   "metadata": {},
   "outputs": [
    {
     "data": {
      "text/plain": [
       "False"
      ]
     },
     "execution_count": 42,
     "metadata": {},
     "output_type": "execute_result"
    }
   ],
   "source": [
    "accept(delete_node(delete_node(square_config_one, 8),9))"
   ]
  },
  {
   "cell_type": "code",
   "execution_count": 23,
   "id": "04c10d2d",
   "metadata": {},
   "outputs": [
    {
     "data": {
      "text/plain": [
       "705432"
      ]
     },
     "execution_count": 23,
     "metadata": {},
     "output_type": "execute_result"
    }
   ],
   "source": [
    "multiplier(22)"
   ]
  },
  {
   "cell_type": "code",
   "execution_count": 44,
   "id": "924d6c18",
   "metadata": {},
   "outputs": [],
   "source": [
    "def new_count():\n",
    "    s = 0\n",
    "    for [i,j] in square_pairs:\n",
    "        new_config = delete_node(delete_node(square_config_one, i),j)\n",
    "        if no_hole(new_config) and connected(new_config):\n",
    "            p = perimeter(new_config)\n",
    "            s += multiplier(p)\n",
    "    return s\n",
    "\n",
    "def new_count_two():\n",
    "    s = 0\n",
    "    for [i,j] in square_pairs:\n",
    "        new_config = delete_node(delete_node(square_config_one, i),j)\n",
    "        if accept(new_config):\n",
    "            p = perimeter(new_config)\n",
    "            s += multiplier(p)\n",
    "    return s\n",
    "\n",
    "\n",
    "        "
   ]
  },
  {
   "cell_type": "code",
   "execution_count": 45,
   "id": "5e300f29",
   "metadata": {},
   "outputs": [
    {
     "data": {
      "text/plain": [
       "124992772"
      ]
     },
     "execution_count": 45,
     "metadata": {},
     "output_type": "execute_result"
    }
   ],
   "source": [
    "new_count()"
   ]
  },
  {
   "cell_type": "code",
   "execution_count": 61,
   "id": "70d825ba",
   "metadata": {},
   "outputs": [
    {
     "data": {
      "text/plain": [
       "44759572"
      ]
     },
     "execution_count": 61,
     "metadata": {},
     "output_type": "execute_result"
    }
   ],
   "source": [
    "new_count_two()"
   ]
  },
  {
   "cell_type": "code",
   "execution_count": 49,
   "id": "a8888d57",
   "metadata": {},
   "outputs": [
    {
     "data": {
      "text/plain": [
       "{0: [1, 3],\n",
       " 1: [4, 0],\n",
       " 2: [3, 7],\n",
       " 3: [0, 2, 4, 8],\n",
       " 4: [1, 3, 5, 8],\n",
       " 5: [4, 10],\n",
       " 6: [7],\n",
       " 7: [2, 6, 8, 12],\n",
       " 8: [3, 7, 9, 13],\n",
       " 9: [4, 8, 10, 14],\n",
       " 10: [5, 9, 11, 15],\n",
       " 11: [10],\n",
       " 12: [7, 13],\n",
       " 13: [8, 12, 14, 16],\n",
       " 14: [9, 13, 15, 17],\n",
       " 15: [10, 14],\n",
       " 16: [13, 17],\n",
       " 17: [14, 16]}"
      ]
     },
     "execution_count": 49,
     "metadata": {},
     "output_type": "execute_result"
    }
   ],
   "source": [
    "square_config_one"
   ]
  },
  {
   "cell_type": "code",
   "execution_count": 59,
   "id": "5aedeffa",
   "metadata": {},
   "outputs": [],
   "source": [
    "for [i,j] in square_pairs:\n",
    "    config =  delete_node(delete_node(square_config_one, i),j)\n",
    "    b = no_hole(config) and connected(config)\n",
    "    if accept(config) and not b:\n",
    "        print([i,j])"
   ]
  },
  {
   "cell_type": "code",
   "execution_count": 60,
   "id": "5db9c726",
   "metadata": {},
   "outputs": [
    {
     "name": "stdout",
     "output_type": "stream",
     "text": [
      "[3, 4]\n",
      "[13, 14]\n"
     ]
    }
   ],
   "source": [
    "for [i,j] in square_pairs:\n",
    "    config =  delete_node(delete_node(square_config_one, i),j)\n",
    "    b = no_hole(config) and connected(config)\n",
    "    if not accept(config) and b:\n",
    "        print([i,j])"
   ]
  },
  {
   "cell_type": "code",
   "execution_count": 64,
   "id": "edc5779f",
   "metadata": {},
   "outputs": [],
   "source": [
    "def old_accept():\n",
    "    s = []\n",
    "    for i in two_squares:\n",
    "        if len(square_config_one[i[0]]) == 4:\n",
    "            continue\n",
    "        else:\n",
    "            squares_removed_one = delete_node(square_config_one, i[0])\n",
    "            if len(squares_removed_one[i[1]]) == 4:\n",
    "                continue\n",
    "            else:\n",
    "                squares_removed_two = delete_node(squares_removed_one, i[1])\n",
    "    \n",
    "                good = True\n",
    "                for j in squares_removed_two:\n",
    "                    if len(squares_removed_two[j]) == 0:\n",
    "                        good = False\n",
    "                if good:\n",
    "                    s.append(i)\n",
    "\n",
    "    return s"
   ]
  },
  {
   "cell_type": "code",
   "execution_count": 65,
   "id": "4901a3a0",
   "metadata": {},
   "outputs": [
    {
     "data": {
      "text/plain": [
       "[[0, 1],\n",
       " [0, 2],\n",
       " [0, 3],\n",
       " [0, 5],\n",
       " [0, 12],\n",
       " [0, 15],\n",
       " [0, 16],\n",
       " [0, 17],\n",
       " [1, 0],\n",
       " [1, 2],\n",
       " [1, 4],\n",
       " [1, 5],\n",
       " [1, 12],\n",
       " [1, 15],\n",
       " [1, 16],\n",
       " [1, 17],\n",
       " [2, 0],\n",
       " [2, 1],\n",
       " [2, 3],\n",
       " [2, 5],\n",
       " [2, 12],\n",
       " [2, 15],\n",
       " [2, 16],\n",
       " [2, 17],\n",
       " [5, 0],\n",
       " [5, 1],\n",
       " [5, 2],\n",
       " [5, 4],\n",
       " [5, 12],\n",
       " [5, 15],\n",
       " [5, 16],\n",
       " [5, 17],\n",
       " [6, 0],\n",
       " [6, 1],\n",
       " [6, 2],\n",
       " [6, 5],\n",
       " [6, 7],\n",
       " [6, 11],\n",
       " [6, 12],\n",
       " [6, 15],\n",
       " [6, 16],\n",
       " [6, 17],\n",
       " [11, 0],\n",
       " [11, 1],\n",
       " [11, 2],\n",
       " [11, 5],\n",
       " [11, 6],\n",
       " [11, 10],\n",
       " [11, 12],\n",
       " [11, 15],\n",
       " [11, 16],\n",
       " [11, 17],\n",
       " [12, 0],\n",
       " [12, 1],\n",
       " [12, 2],\n",
       " [12, 5],\n",
       " [12, 13],\n",
       " [12, 15],\n",
       " [12, 16],\n",
       " [12, 17],\n",
       " [15, 0],\n",
       " [15, 1],\n",
       " [15, 2],\n",
       " [15, 5],\n",
       " [15, 12],\n",
       " [15, 14],\n",
       " [15, 16],\n",
       " [15, 17],\n",
       " [16, 0],\n",
       " [16, 1],\n",
       " [16, 2],\n",
       " [16, 5],\n",
       " [16, 12],\n",
       " [16, 13],\n",
       " [16, 15],\n",
       " [16, 17],\n",
       " [17, 0],\n",
       " [17, 1],\n",
       " [17, 2],\n",
       " [17, 5],\n",
       " [17, 12],\n",
       " [17, 14],\n",
       " [17, 15],\n",
       " [17, 16]]"
      ]
     },
     "execution_count": 65,
     "metadata": {},
     "output_type": "execute_result"
    }
   ],
   "source": [
    "old_accept()"
   ]
  },
  {
   "cell_type": "code",
   "execution_count": 67,
   "id": "49ef3884",
   "metadata": {},
   "outputs": [],
   "source": [
    "for [i,j] in old_accept():\n",
    "    if not accept(delete_node(delete_node(square_config_one, i),j)):\n",
    "        print([i,j])"
   ]
  },
  {
   "cell_type": "code",
   "execution_count": 71,
   "id": "a21dc1b3",
   "metadata": {},
   "outputs": [
    {
     "data": {
      "text/plain": [
       "[[0, 1],\n",
       " [0, 2],\n",
       " [0, 3],\n",
       " [0, 5],\n",
       " [0, 12],\n",
       " [0, 15],\n",
       " [0, 16],\n",
       " [0, 17],\n",
       " [1, 2],\n",
       " [1, 4],\n",
       " [1, 5],\n",
       " [1, 12],\n",
       " [1, 15],\n",
       " [1, 16],\n",
       " [1, 17],\n",
       " [2, 3],\n",
       " [2, 5],\n",
       " [2, 12],\n",
       " [2, 15],\n",
       " [2, 16],\n",
       " [2, 17],\n",
       " [5, 4],\n",
       " [5, 12],\n",
       " [5, 15],\n",
       " [5, 16],\n",
       " [5, 17],\n",
       " [6, 0],\n",
       " [6, 1],\n",
       " [6, 2],\n",
       " [6, 5],\n",
       " [6, 7],\n",
       " [6, 11],\n",
       " [6, 12],\n",
       " [6, 15],\n",
       " [6, 16],\n",
       " [6, 17],\n",
       " [11, 0],\n",
       " [11, 1],\n",
       " [11, 2],\n",
       " [11, 5],\n",
       " [11, 10],\n",
       " [11, 12],\n",
       " [11, 15],\n",
       " [11, 16],\n",
       " [11, 17],\n",
       " [12, 13],\n",
       " [12, 15],\n",
       " [12, 16],\n",
       " [12, 17],\n",
       " [15, 14],\n",
       " [15, 16],\n",
       " [15, 17],\n",
       " [16, 13],\n",
       " [16, 17],\n",
       " [17, 14]]"
      ]
     },
     "execution_count": 71,
     "metadata": {},
     "output_type": "execute_result"
    }
   ],
   "source": [
    "refine = old_accept()\n",
    "for [i,j] in refine:\n",
    "    if [j,i] in refine:\n",
    "        refine.remove([j,i])\n",
    "refine"
   ]
  },
  {
   "cell_type": "code",
   "execution_count": 72,
   "id": "4209fefb",
   "metadata": {},
   "outputs": [],
   "source": [
    "for [i,j] in old_accept():\n",
    "    if not accept(delete_node(delete_node(square_config_one, i),j)):\n",
    "        print([i,j])"
   ]
  },
  {
   "cell_type": "code",
   "execution_count": 73,
   "id": "92db0c34",
   "metadata": {},
   "outputs": [],
   "source": [
    "def new_count_three():\n",
    "    s = 0\n",
    "    for [i,j] in refine:\n",
    "        new_config = delete_node(delete_node(square_config_one, i),j)\n",
    "        p = perimeter(new_config)\n",
    "        s += multiplier(p)\n",
    "    return s"
   ]
  },
  {
   "cell_type": "code",
   "execution_count": 74,
   "id": "716362c5",
   "metadata": {},
   "outputs": [
    {
     "data": {
      "text/plain": [
       "44759572"
      ]
     },
     "execution_count": 74,
     "metadata": {},
     "output_type": "execute_result"
    }
   ],
   "source": [
    "new_count_three()"
   ]
  },
  {
   "cell_type": "code",
   "execution_count": 1,
   "id": "525d63c6",
   "metadata": {},
   "outputs": [
    {
     "data": {
      "text/plain": [
       "89519144"
      ]
     },
     "execution_count": 1,
     "metadata": {},
     "output_type": "execute_result"
    }
   ],
   "source": [
    "2*44759572\n",
    "\n"
   ]
  },
  {
   "cell_type": "code",
   "execution_count": 2,
   "id": "93fa3c0f",
   "metadata": {},
   "outputs": [
    {
     "data": {
      "text/plain": [
       "55"
      ]
     },
     "execution_count": 2,
     "metadata": {},
     "output_type": "execute_result"
    }
   ],
   "source": [
    "len([[0, 1],\n",
    " [0, 2],\n",
    " [0, 3],\n",
    " [0, 5],\n",
    " [0, 12],\n",
    " [0, 15],\n",
    " [0, 16],\n",
    " [0, 17],\n",
    " [1, 2],\n",
    " [1, 4],\n",
    " [1, 5],\n",
    " [1, 12],\n",
    " [1, 15],\n",
    " [1, 16],\n",
    " [1, 17],\n",
    " [2, 3],\n",
    " [2, 5],\n",
    " [2, 12],\n",
    " [2, 15],\n",
    " [2, 16],\n",
    " [2, 17],\n",
    " [5, 4],\n",
    " [5, 12],\n",
    " [5, 15],\n",
    " [5, 16],\n",
    " [5, 17],\n",
    " [6, 0],\n",
    " [6, 1],\n",
    " [6, 2],\n",
    " [6, 5],\n",
    " [6, 7],\n",
    " [6, 11],\n",
    " [6, 12],\n",
    " [6, 15],\n",
    " [6, 16],\n",
    " [6, 17],\n",
    " [11, 0],\n",
    " [11, 1],\n",
    " [11, 2],\n",
    " [11, 5],\n",
    " [11, 10],\n",
    " [11, 12],\n",
    " [11, 15],\n",
    " [11, 16],\n",
    " [11, 17],\n",
    " [12, 13],\n",
    " [12, 15],\n",
    " [12, 16],\n",
    " [12, 17],\n",
    " [15, 14],\n",
    " [15, 16],\n",
    " [15, 17],\n",
    " [16, 13],\n",
    " [16, 17],\n",
    " [17, 14]])"
   ]
  },
  {
   "cell_type": "code",
   "execution_count": null,
   "id": "a5b2ca88",
   "metadata": {},
   "outputs": [],
   "source": []
  }
 ],
 "metadata": {
  "kernelspec": {
   "display_name": "Python 3 (ipykernel)",
   "language": "python",
   "name": "python3"
  },
  "language_info": {
   "codemirror_mode": {
    "name": "ipython",
    "version": 3
   },
   "file_extension": ".py",
   "mimetype": "text/x-python",
   "name": "python",
   "nbconvert_exporter": "python",
   "pygments_lexer": "ipython3",
   "version": "3.9.7"
  }
 },
 "nbformat": 4,
 "nbformat_minor": 5
}
