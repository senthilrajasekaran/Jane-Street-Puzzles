{
 "cells": [
  {
   "cell_type": "code",
   "execution_count": 4,
   "id": "943001fa",
   "metadata": {},
   "outputs": [],
   "source": [
    "import math\n",
    "import random"
   ]
  },
  {
   "cell_type": "code",
   "execution_count": 2,
   "id": "7f6d8bac",
   "metadata": {},
   "outputs": [],
   "source": [
    "def game(erin, iters):\n",
    "    s = 0\n",
    "    for i in range(iters):\n",
    "        radius = random.random()\n",
    "        angle = random.uniform(0,2*math.pi)\n",
    "        \n",
    "        \n",
    "    \n",
    "    \n",
    "        distance_of_1 = math.sqrt(2*radius**2 - (2*(radius**2) * math.cos(angle)))\n",
    "        distance_of_2 = abs((erin - radius))\n",
    "    \n",
    "        if distance_of_1 < distance_of_2:\n",
    "            s+=1\n",
    "    \n",
    "    return s / iters\n"
   ]
  },
  {
   "cell_type": "code",
   "execution_count": 5,
   "id": "88fc6b0e",
   "metadata": {},
   "outputs": [
    {
     "data": {
      "text/plain": [
       "0.292104"
      ]
     },
     "execution_count": 5,
     "metadata": {},
     "output_type": "execute_result"
    }
   ],
   "source": [
    "game(1/2,1000000)"
   ]
  },
  {
   "cell_type": "code",
   "execution_count": 12,
   "id": "8e22d23f",
   "metadata": {},
   "outputs": [],
   "source": [
    "def multi_games(iters,x):\n",
    "    one_wins = 0\n",
    "    for i in range(iters):\n",
    "        one_wins += game(x)\n",
    "    return one_wins/iters\n",
    "    "
   ]
  },
  {
   "cell_type": "code",
   "execution_count": 17,
   "id": "740963df",
   "metadata": {},
   "outputs": [
    {
     "data": {
      "text/plain": [
       "0.2912677"
      ]
     },
     "execution_count": 17,
     "metadata": {},
     "output_type": "execute_result"
    }
   ],
   "source": [
    "multi_games(10000000)"
   ]
  },
  {
   "cell_type": "code",
   "execution_count": 16,
   "id": "3ad68813",
   "metadata": {},
   "outputs": [
    {
     "data": {
      "text/plain": [
       "0.2911742"
      ]
     },
     "execution_count": 16,
     "metadata": {},
     "output_type": "execute_result"
    }
   ],
   "source": [
    "multi_games(10000000)"
   ]
  },
  {
   "cell_type": "code",
   "execution_count": 54,
   "id": "a392b101",
   "metadata": {},
   "outputs": [],
   "source": [
    "def test():\n",
    "    \n",
    "    radius = random.random()\n",
    "    angle = random.uniform(0,math.pi)\n",
    "    \n",
    "    if 2*(radius**2)*math.cos(angle) - radius + 1/4 <0:\n",
    "        return 0\n",
    "    return 1\n",
    "def multi_test(iters):\n",
    "    one_wins = 0\n",
    "    for i in range(iters):\n",
    "        one_wins += test()\n",
    "    return one_wins/iters\n",
    "    "
   ]
  },
  {
   "cell_type": "code",
   "execution_count": 55,
   "id": "cd40a4d3",
   "metadata": {},
   "outputs": [
    {
     "data": {
      "text/plain": [
       "0.4959043"
      ]
     },
     "execution_count": 55,
     "metadata": {},
     "output_type": "execute_result"
    }
   ],
   "source": [
    "multi_test(10000000)"
   ]
  },
  {
   "cell_type": "code",
   "execution_count": 56,
   "id": "08109ae4",
   "metadata": {},
   "outputs": [
    {
     "data": {
      "text/plain": [
       "0.4962435"
      ]
     },
     "execution_count": 56,
     "metadata": {},
     "output_type": "execute_result"
    }
   ],
   "source": [
    "multi_test(10000000)"
   ]
  },
  {
   "cell_type": "code",
   "execution_count": 65,
   "id": "d95f0de9",
   "metadata": {},
   "outputs": [],
   "source": [
    "def cos_test():\n",
    "    angle = random.uniform(0,math.pi)\n",
    "    if math.cos(angle)<(3/8):\n",
    "        return 0\n",
    "    return 1\n",
    "def multi_test_cos(iters):\n",
    "    one_wins = 0\n",
    "    for i in range(iters):\n",
    "        one_wins += cos_test()\n",
    "    return one_wins/iters\n"
   ]
  },
  {
   "cell_type": "code",
   "execution_count": 66,
   "id": "8b3aca2d",
   "metadata": {},
   "outputs": [
    {
     "data": {
      "text/plain": [
       "0.3774926"
      ]
     },
     "execution_count": 66,
     "metadata": {},
     "output_type": "execute_result"
    }
   ],
   "source": [
    "multi_test_cos(10000000)"
   ]
  },
  {
   "cell_type": "code",
   "execution_count": 12,
   "id": "91b9d4f2",
   "metadata": {},
   "outputs": [],
   "source": [
    "import matplotlib.pyplot as plt"
   ]
  },
  {
   "cell_type": "code",
   "execution_count": 20,
   "id": "01363b93",
   "metadata": {},
   "outputs": [
    {
     "data": {
      "text/plain": [
       "[<matplotlib.lines.Line2D at 0x2057dda7400>]"
      ]
     },
     "execution_count": 20,
     "metadata": {},
     "output_type": "execute_result"
    },
    {
     "data": {
      "image/png": "[encoded data removed]",
      "text/plain": [
       "<Figure size 432x288 with 1 Axes>"
      ]
     },
     "metadata": {
      "needs_background": "light"
     },
     "output_type": "display_data"
    }
   ],
   "source": [
    "erins = [0.01 * x for x in range(101)]\n",
    "\n",
    "\n",
    "erinsvalue = []\n",
    "\n",
    "for i in erins:\n",
    "    erinsvalue.append(game(i, 1000000))\n",
    "    \n",
    "plt.plot(erins,erinsvalue)"
   ]
  },
  {
   "cell_type": "code",
   "execution_count": 35,
   "id": "20091439",
   "metadata": {},
   "outputs": [
    {
     "data": {
      "text/plain": [
       "0.6671739999999999"
      ]
     },
     "execution_count": 35,
     "metadata": {},
     "output_type": "execute_result"
    }
   ],
   "source": [
    "1-game(0,1000000)"
   ]
  },
  {
   "cell_type": "code",
   "execution_count": 30,
   "id": "ab378fb3",
   "metadata": {},
   "outputs": [
    {
     "data": {
      "text/plain": [
       "0.5165230000000001"
      ]
     },
     "execution_count": 30,
     "metadata": {},
     "output_type": "execute_result"
    }
   ],
   "source": [
    "1-game(1,1000000)"
   ]
  },
  {
   "cell_type": "code",
   "execution_count": 32,
   "id": "23ef06af",
   "metadata": {},
   "outputs": [
    {
     "data": {
      "text/plain": [
       "0.250598"
      ]
     },
     "execution_count": 32,
     "metadata": {},
     "output_type": "execute_result"
    }
   ],
   "source": [
    "min(erinsvalue)"
   ]
  },
  {
   "cell_type": "code",
   "execution_count": 33,
   "id": "9e5c946f",
   "metadata": {},
   "outputs": [
    {
     "data": {
      "text/plain": [
       "True"
      ]
     },
     "execution_count": 33,
     "metadata": {},
     "output_type": "execute_result"
    }
   ],
   "source": [
    "0.250598 in erinsvalue"
   ]
  },
  {
   "cell_type": "code",
   "execution_count": 34,
   "id": "1d8e6d1a",
   "metadata": {},
   "outputs": [
    {
     "data": {
      "text/plain": [
       "21"
      ]
     },
     "execution_count": 34,
     "metadata": {},
     "output_type": "execute_result"
    }
   ],
   "source": [
    "erinsvalue.index(0.250598)"
   ]
  },
  {
   "cell_type": "code",
   "execution_count": 7,
   "id": "e9e8dc75",
   "metadata": {},
   "outputs": [
    {
     "data": {
      "text/plain": [
       "0.25462296"
      ]
     },
     "execution_count": 7,
     "metadata": {},
     "output_type": "execute_result"
    }
   ],
   "source": [
    "game(0.3,100000000)"
   ]
  },
  {
   "cell_type": "code",
   "execution_count": 9,
   "id": "3bc7e8e5",
   "metadata": {},
   "outputs": [
    {
     "data": {
      "text/plain": [
       "0.268922"
      ]
     },
     "execution_count": 9,
     "metadata": {},
     "output_type": "execute_result"
    }
   ],
   "source": [
    "game(0.4,1000000)"
   ]
  },
  {
   "cell_type": "code",
   "execution_count": 5,
   "id": "966fdb20",
   "metadata": {},
   "outputs": [],
   "source": [
    "def game2(erin, iters):\n",
    "    s = 0\n",
    "    for i in range(iters):\n",
    "        radius = math.sqrt(random.random())\n",
    "        angle = random.uniform(0,2*math.pi)\n",
    "    \n",
    "    \n",
    "        distance_of_1 = math.sqrt(2*radius**2 - (2*(radius**2) * math.cos(angle)))\n",
    "        distance_of_2 = abs((erin - radius))\n",
    "    \n",
    "        if distance_of_1 < distance_of_2:\n",
    "            s+=1\n",
    "    \n",
    "    return s / iters\n"
   ]
  },
  {
   "cell_type": "code",
   "execution_count": 26,
   "id": "7e0680da",
   "metadata": {},
   "outputs": [
    {
     "data": {
      "text/plain": [
       "0.3333"
      ]
     },
     "execution_count": 26,
     "metadata": {},
     "output_type": "execute_result"
    }
   ],
   "source": [
    "game2(0,100000)"
   ]
  },
  {
   "cell_type": "code",
   "execution_count": 28,
   "id": "3ebf948e",
   "metadata": {},
   "outputs": [
    {
     "data": {
      "text/plain": [
       "0.14609"
      ]
     },
     "execution_count": 28,
     "metadata": {},
     "output_type": "execute_result"
    }
   ],
   "source": [
    "game2(.5,1000000)"
   ]
  },
  {
   "cell_type": "code",
   "execution_count": 29,
   "id": "3eb77ba4",
   "metadata": {},
   "outputs": [
    {
     "data": {
      "text/plain": [
       "0.146193"
      ]
     },
     "execution_count": 29,
     "metadata": {},
     "output_type": "execute_result"
    }
   ],
   "source": [
    "game2(.5013,1000000)"
   ]
  },
  {
   "cell_type": "code",
   "execution_count": 33,
   "id": "9d2396d3",
   "metadata": {},
   "outputs": [
    {
     "data": {
      "text/plain": [
       "0.268512"
      ]
     },
     "execution_count": 33,
     "metadata": {},
     "output_type": "execute_result"
    }
   ],
   "source": [
    "game2(0.1,1000000)"
   ]
  },
  {
   "cell_type": "code",
   "execution_count": 36,
   "id": "819fb49c",
   "metadata": {},
   "outputs": [
    {
     "data": {
      "text/plain": [
       "0.218682"
      ]
     },
     "execution_count": 36,
     "metadata": {},
     "output_type": "execute_result"
    }
   ],
   "source": [
    "game2(0.2,1000000)"
   ]
  },
  {
   "cell_type": "code",
   "execution_count": 66,
   "id": "3285c4b4",
   "metadata": {},
   "outputs": [],
   "source": [
    "def new_game(erin, iters):\n",
    "    s = 0\n",
    "    for i in range(iters):\n",
    "        radius = math.sqrt(random.random())\n",
    "        angle = random.uniform(0,2*math.pi)\n",
    "        #distance_of_1 = math.sqrt(2*radius**2 - (2*(radius**2) * math.cos(angle)))\n",
    "        \n",
    "        distance_of_2 = abs((erin - radius))\n",
    "        \n",
    "        if radius**2 - distance_of_2**2 < 0:\n",
    "            aaron_radius = 0\n",
    "\n",
    "        else :\n",
    "            aaron_radius = math.sqrt(abs(radius**2 - distance_of_2**2))\n",
    "        \n",
    "        distance_of_1 = math.sqrt(radius**2 + aaron_radius**2 - (2*(aaron_radius*radius) * math.cos(angle)))\n",
    "    \n",
    "        if distance_of_1 < distance_of_2:\n",
    "            s+=1\n",
    "    \n",
    "    return s / iters\n"
   ]
  },
  {
   "cell_type": "code",
   "execution_count": 72,
   "id": "6be5fdf5",
   "metadata": {},
   "outputs": [
    {
     "data": {
      "text/plain": [
       "0.165735"
      ]
     },
     "execution_count": 72,
     "metadata": {},
     "output_type": "execute_result"
    }
   ],
   "source": [
    "new_game(0.5,1000000)"
   ]
  },
  {
   "cell_type": "code",
   "execution_count": 83,
   "id": "e4537795",
   "metadata": {},
   "outputs": [],
   "source": []
  },
  {
   "cell_type": "code",
   "execution_count": 84,
   "id": "d66a840f",
   "metadata": {},
   "outputs": [
    {
     "data": {
      "text/plain": [
       "0.0"
      ]
     },
     "execution_count": 84,
     "metadata": {},
     "output_type": "execute_result"
    }
   ],
   "source": [
    "new_game_test(.5,100000)"
   ]
  },
  {
   "cell_type": "code",
   "execution_count": null,
   "id": "dfca0b0c",
   "metadata": {},
   "outputs": [],
   "source": []
  }
 ],
 "metadata": {
  "kernelspec": {
   "display_name": "Python 3 (ipykernel)",
   "language": "python",
   "name": "python3"
  },
  "language_info": {
   "codemirror_mode": {
    "name": "ipython",
    "version": 3
   },
   "file_extension": ".py",
   "mimetype": "text/x-python",
   "name": "python",
   "nbconvert_exporter": "python",
   "pygments_lexer": "ipython3",
   "version": "3.9.7"
  }
 },
 "nbformat": 4,
 "nbformat_minor": 5
}
