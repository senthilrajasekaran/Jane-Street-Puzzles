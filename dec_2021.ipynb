{
 "cells": [
  {
   "cell_type": "code",
   "execution_count": 7,
   "id": "37afdac5",
   "metadata": {},
   "outputs": [],
   "source": [
    "import random\n",
    "def twoptrial():\n",
    "    \n",
    "    player  = 0\n",
    "    trials = [100]\n",
    "    while True:\n",
    "        shot  = random.random()\n",
    "        \n",
    "        if shot > min(trials):\n",
    "            return 1 - player\n",
    "        \n",
    "        else:\n",
    "            trials.append(shot)\n",
    "            player  = 1 - player\n",
    "        \n",
    "        \n",
    "    \n",
    "    "
   ]
  },
  {
   "cell_type": "code",
   "execution_count": 37,
   "id": "02642e69",
   "metadata": {},
   "outputs": [
    {
     "data": {
      "text/plain": [
       "0.63210745"
      ]
     },
     "execution_count": 37,
     "metadata": {},
     "output_type": "execute_result"
    }
   ],
   "source": [
    "def multtwoptrial():\n",
    "    s = 0\n",
    "    for i in range(100000000):\n",
    "        s+= 1-twoptrial()\n",
    "        \n",
    "    return s/100000000\n",
    "\n",
    "multtwoptrial()\n"
   ]
  },
  {
   "cell_type": "code",
   "execution_count": 36,
   "id": "d93a3bcb",
   "metadata": {},
   "outputs": [
    {
     "name": "stdout",
     "output_type": "stream",
     "text": [
      "0.6321205588285577\n"
     ]
    }
   ],
   "source": [
    "s = 0\n",
    "for i in range(1000):\n",
    "    p = 1\n",
    "    for k in range(1,2*i+2):\n",
    "        p *= 1/k\n",
    "        \n",
    "    p *= (2*i+1)/(2*(i+1))\n",
    "\n",
    "    s+= p\n",
    "\n",
    "print(s)\n",
    "    \n",
    "            \n",
    "            \n",
    "            \n",
    "    \n",
    "    "
   ]
  },
  {
   "cell_type": "code",
   "execution_count": 68,
   "id": "80dbda26",
   "metadata": {},
   "outputs": [],
   "source": [
    "def trial():\n",
    "    players = [0,1,2]\n",
    "    shots = [100]\n",
    "    while True:\n",
    "        if len(players) == 1:\n",
    "            return players[0]\n",
    "        player = players.pop(0)\n",
    "        \n",
    "        shot = random.random()\n",
    "        if shot > min(shots):\n",
    "            continue\n",
    "            \n",
    "        else:\n",
    "            shots.append(shot)\n",
    "            players.append(player)"
   ]
  },
  {
   "cell_type": "code",
   "execution_count": 139,
   "id": "725c95b4",
   "metadata": {},
   "outputs": [
    {
     "data": {
      "text/plain": [
       "[0.4664261, 0.2916648, 0.2419091]"
      ]
     },
     "execution_count": 139,
     "metadata": {},
     "output_type": "execute_result"
    }
   ],
   "source": [
    "def multitrial():\n",
    "    wins = [0,0,0]\n",
    "    for i in range(10000000):\n",
    "        index = trial()\n",
    "        wins[index] += 1\n",
    "        \n",
    "    formatted = [k/10000000 for k in wins]\n",
    "    \n",
    "    return formatted\n",
    "\n",
    "multitrial()\n",
    "        \n",
    "            "
   ]
  },
  {
   "cell_type": "code",
   "execution_count": 135,
   "id": "1f10413e",
   "metadata": {},
   "outputs": [],
   "source": [
    "def getnext(p):\n",
    "    \n",
    "    if p == 2:\n",
    "        return 0\n",
    "    return p+1\n",
    "\n",
    "def threepcheck():\n",
    "    \n",
    "    max_trials = 10000\n",
    "    probs = [0,0,0]\n",
    "    q= [[[0,1,2],0,1]]\n",
    "    \n",
    "    while q:\n",
    "        #print(q)\n",
    "        \n",
    "        current = q.pop(0)\n",
    "        if current[1] > max_trials+1:\n",
    "            continue\n",
    "        elif current[2] == 0:\n",
    "            continue\n",
    "        elif len(current[0]) == 1:\n",
    "            index = current[0][0]\n",
    "            probs[index] += current[2]\n",
    "            continue \n",
    "        \n",
    "        else:\n",
    "            player = current[0][0]\n",
    "            #print(player)\n",
    "            ## two scenarios - survive with 1/ shots+ 1 or die with  1 - shots - 1\n",
    "            \n",
    "            #survive\n",
    "            survival_prob = 1/(current[1] +1)\n",
    "            cumulative_prob = current[2] * survival_prob\n",
    "            new_order = current[0][1:] + [current[0][0]]\n",
    "\n",
    "\n",
    "\n",
    "            new_ele_survive =  [ new_order, current[1]+1, cumulative_prob]\n",
    "            #print(new_ele_survive)\n",
    "            q.append(new_ele_survive)\n",
    "            #die\n",
    "            \n",
    "            death_prob = 1 - survival_prob\n",
    "            cumulative_prob = current[2] * death_prob\n",
    "            current[0].pop(0)\n",
    "\n",
    "            \n",
    "            new_ele_die =  [ current[0], current[1]+1, cumulative_prob]\n",
    "            #print(new_ele_die)\n",
    "            q.append(new_ele_die)\n",
    "    return probs\n",
    "        \n",
    "        "
   ]
  },
  {
   "cell_type": "code",
   "execution_count": 136,
   "id": "a378dcc8",
   "metadata": {},
   "outputs": [
    {
     "data": {
      "text/plain": [
       "[0.4664928048853071, 0.29182071222025924, 0.24168648289443365]"
      ]
     },
     "execution_count": 136,
     "metadata": {},
     "output_type": "execute_result"
    }
   ],
   "source": [
    "threepcheck()"
   ]
  },
  {
   "cell_type": "code",
   "execution_count": 170,
   "id": "a63793e0",
   "metadata": {},
   "outputs": [],
   "source": [
    "def fourpcheck():\n",
    "    \n",
    "    max_trials = 1000\n",
    "    probs = [0,0,0,0]\n",
    "    q= [[[0,1,2,3],0,1]]\n",
    "    \n",
    "    while q:        \n",
    "        current = q.pop(0)\n",
    "        #if current[1] > max_trials+1:\n",
    "            #continue\n",
    "        if current[2] < .0000000000001:\n",
    "            continue\n",
    "        elif len(current[0]) == 1:\n",
    "            index = current[0][0]\n",
    "            probs[index] += current[2]\n",
    "            continue \n",
    "        \n",
    "        else:\n",
    "            player = current[0][0]\n",
    "            #print(player)\n",
    "            ## two scenarios - survive with 1/ shots+ 1 or die with  1 - shots - 1\n",
    "            \n",
    "            #survive\n",
    "            survival_prob = 1/(current[1] +1)\n",
    "            cumulative_prob = current[2] * survival_prob\n",
    "            new_order = current[0][1:] + [current[0][0]]\n",
    "\n",
    "\n",
    "\n",
    "            new_ele_survive =  [ new_order, current[1]+1, cumulative_prob]\n",
    "            #print(new_ele_survive)\n",
    "            q.append(new_ele_survive)\n",
    "            #die\n",
    "            \n",
    "            death_prob = 1 - survival_prob\n",
    "            cumulative_prob = current[2] * death_prob\n",
    "            current[0].pop(0)\n",
    "\n",
    "            \n",
    "            new_ele_die =  [ current[0], current[1]+1, cumulative_prob]\n",
    "            #print(new_ele_die)\n",
    "            q.append(new_ele_die)\n",
    "    return probs"
   ]
  },
  {
   "cell_type": "code",
   "execution_count": 171,
   "id": "bff4e2bc",
   "metadata": {},
   "outputs": [
    {
     "data": {
      "text/plain": [
       "[0.37115323477015116,\n",
       " 0.2421885526174118,\n",
       " 0.20322056174774628,\n",
       " 0.18343765086070535]"
      ]
     },
     "execution_count": 171,
     "metadata": {},
     "output_type": "execute_result"
    }
   ],
   "source": [
    "fourpcheck()"
   ]
  },
  {
   "cell_type": "code",
   "execution_count": 175,
   "id": "7f32bb1c",
   "metadata": {},
   "outputs": [
    {
     "data": {
      "text/plain": [
       "[0.37120349, 0.24217027, 0.20317324, 0.183453]"
      ]
     },
     "execution_count": 175,
     "metadata": {},
     "output_type": "execute_result"
    }
   ],
   "source": [
    "def trialfour():\n",
    "    players = [0,1,2,3]\n",
    "    shots = [100]\n",
    "    while True:\n",
    "        if len(players) == 1:\n",
    "            return players[0]\n",
    "        player = players.pop(0)\n",
    "        \n",
    "        shot = random.random()\n",
    "        if shot > min(shots):\n",
    "            continue\n",
    "            \n",
    "        else:\n",
    "            shots.append(shot)\n",
    "            players.append(player)\n",
    "def multitrialfour():\n",
    "    wins = [0,0,0,0]\n",
    "    for i in range(100000000):\n",
    "        index = trialfour()\n",
    "        wins[index] += 1\n",
    "        \n",
    "    formatted = [k/100000000 for k in wins]\n",
    "    \n",
    "    return formatted\n",
    "\n",
    "multitrialfour()\n",
    "        "
   ]
  },
  {
   "cell_type": "code",
   "execution_count": 176,
   "id": "7ecec08b",
   "metadata": {},
   "outputs": [
    {
     "data": {
      "text/plain": [
       "[0.371206, 0.24210092, 0.20318771, 0.18350537]"
      ]
     },
     "execution_count": 176,
     "metadata": {},
     "output_type": "execute_result"
    }
   ],
   "source": [
    "multitrialfour()"
   ]
  },
  {
   "cell_type": "code",
   "execution_count": 177,
   "id": "f1881844",
   "metadata": {},
   "outputs": [
    {
     "data": {
      "text/plain": [
       "[0.37114286, 0.24222553, 0.20320218, 0.18342943]"
      ]
     },
     "execution_count": 177,
     "metadata": {},
     "output_type": "execute_result"
    }
   ],
   "source": [
    "multitrialfour()"
   ]
  },
  {
   "cell_type": "code",
   "execution_count": 178,
   "id": "89b261a2",
   "metadata": {},
   "outputs": [
    {
     "data": {
      "text/plain": [
       "[0.3711627, 0.24217082, 0.20322405, 0.18344243]"
      ]
     },
     "execution_count": 178,
     "metadata": {},
     "output_type": "execute_result"
    }
   ],
   "source": [
    "multitrialfour()"
   ]
  },
  {
   "cell_type": "code",
   "execution_count": null,
   "id": "ed0004e8",
   "metadata": {},
   "outputs": [],
   "source": []
  }
 ],
 "metadata": {
  "kernelspec": {
   "display_name": "Python 3 (ipykernel)",
   "language": "python",
   "name": "python3"
  },
  "language_info": {
   "codemirror_mode": {
    "name": "ipython",
    "version": 3
   },
   "file_extension": ".py",
   "mimetype": "text/x-python",
   "name": "python",
   "nbconvert_exporter": "python",
   "pygments_lexer": "ipython3",
   "version": "3.9.7"
  }
 },
 "nbformat": 4,
 "nbformat_minor": 5
}
