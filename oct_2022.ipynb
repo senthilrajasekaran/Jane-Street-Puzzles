{
 "cells": [
  {
   "cell_type": "code",
   "execution_count": 2,
   "id": "e03a14fd",
   "metadata": {},
   "outputs": [
    {
     "data": {
      "text/plain": [
       "[0, 1, 2, 3, 4, 5, 6, 7, 8, 9, 10, 11, 12]"
      ]
     },
     "execution_count": 2,
     "metadata": {},
     "output_type": "execute_result"
    }
   ],
   "source": [
    "cards = [i for i in range (13)]\n",
    "cards"
   ]
  },
  {
   "cell_type": "code",
   "execution_count": 3,
   "id": "a7a48b18",
   "metadata": {},
   "outputs": [],
   "source": [
    "from random import sample\n",
    "def run(a):\n",
    "    return sample(range(13),a)\n",
    "        "
   ]
  },
  {
   "cell_type": "code",
   "execution_count": 5,
   "id": "39d640a0",
   "metadata": {},
   "outputs": [
    {
     "data": {
      "text/plain": [
       "[2, 10, 4, 9, 11]"
      ]
     },
     "execution_count": 5,
     "metadata": {},
     "output_type": "execute_result"
    }
   ],
   "source": [
    "run(5)"
   ]
  },
  {
   "cell_type": "code",
   "execution_count": 6,
   "id": "dd7a6de0",
   "metadata": {},
   "outputs": [],
   "source": [
    "def test(it):\n",
    "    hits = 0\n",
    "    i = 0\n",
    "    while i< it:\n",
    "        choices = run(5)\n",
    "        if 0 not in choices:\n",
    "            hits += 1\n",
    "        i += 1\n",
    "        \n",
    "    return hits/it\n",
    "        "
   ]
  },
  {
   "cell_type": "code",
   "execution_count": 7,
   "id": "1348bc0f",
   "metadata": {},
   "outputs": [
    {
     "data": {
      "text/plain": [
       "0.6152668"
      ]
     },
     "execution_count": 7,
     "metadata": {},
     "output_type": "execute_result"
    }
   ],
   "source": [
    "test(10000000)"
   ]
  },
  {
   "cell_type": "code",
   "execution_count": 8,
   "id": "55ae05ab",
   "metadata": {},
   "outputs": [],
   "source": [
    "def shape():\n",
    "    \n",
    "    five = run(5)\n",
    "\n",
    "    \n",
    "    if 0 in five:\n",
    "        return 0\n",
    "    four = run(4)\n",
    "    if 0 in four:\n",
    "        return 0\n",
    "    three = run(3)\n",
    "    if 0 in three:\n",
    "        return 0\n",
    "    \n",
    "    one = run(1)\n",
    "    if 0 in one:\n",
    "        return 0\n",
    "    return 1\n",
    "\n",
    "def test2(it):\n",
    "    hits = 0\n",
    "    i = 0\n",
    "    \n",
    "    while i < it:\n",
    "        hits += shape()\n",
    "        i+=1\n",
    "        \n",
    "    return hits/it\n",
    "\n",
    "        "
   ]
  },
  {
   "cell_type": "code",
   "execution_count": 9,
   "id": "cfb2b146",
   "metadata": {},
   "outputs": [
    {
     "data": {
      "text/plain": [
       "0.3023992"
      ]
     },
     "execution_count": 9,
     "metadata": {},
     "output_type": "execute_result"
    }
   ],
   "source": [
    "test2(10000000)"
   ]
  },
  {
   "cell_type": "code",
   "execution_count": 10,
   "id": "e43e933a",
   "metadata": {},
   "outputs": [
    {
     "data": {
      "text/plain": [
       "0.30236"
      ]
     },
     "execution_count": 10,
     "metadata": {},
     "output_type": "execute_result"
    }
   ],
   "source": [
    "test2(10000000)"
   ]
  },
  {
   "cell_type": "code",
   "execution_count": 11,
   "id": "ce30f1fc",
   "metadata": {},
   "outputs": [
    {
     "data": {
      "text/plain": [
       "0.3024933"
      ]
     },
     "execution_count": 11,
     "metadata": {},
     "output_type": "execute_result"
    }
   ],
   "source": [
    "test2(10000000)"
   ]
  },
  {
   "cell_type": "code",
   "execution_count": 12,
   "id": "17c0b38b",
   "metadata": {},
   "outputs": [
    {
     "data": {
      "text/plain": [
       "0.3025415"
      ]
     },
     "execution_count": 12,
     "metadata": {},
     "output_type": "execute_result"
    }
   ],
   "source": [
    "test2(10000000)"
   ]
  },
  {
   "cell_type": "code",
   "execution_count": 13,
   "id": "898473fe",
   "metadata": {},
   "outputs": [
    {
     "data": {
      "text/plain": [
       "0.3024485"
      ]
     },
     "execution_count": 13,
     "metadata": {},
     "output_type": "execute_result"
    }
   ],
   "source": [
    "(0.3023992 + 0.30236 +0.3024933 +0.3025415\n",
    ")/4"
   ]
  },
  {
   "cell_type": "code",
   "execution_count": null,
   "id": "14d3f8c0",
   "metadata": {},
   "outputs": [],
   "source": []
  }
 ],
 "metadata": {
  "kernelspec": {
   "display_name": "Python 3 (ipykernel)",
   "language": "python",
   "name": "python3"
  },
  "language_info": {
   "codemirror_mode": {
    "name": "ipython",
    "version": 3
   },
   "file_extension": ".py",
   "mimetype": "text/x-python",
   "name": "python",
   "nbconvert_exporter": "python",
   "pygments_lexer": "ipython3",
   "version": "3.9.7"
  }
 },
 "nbformat": 4,
 "nbformat_minor": 5
}
