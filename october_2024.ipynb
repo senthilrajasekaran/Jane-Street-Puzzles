{
 "cells": [
  {
   "cell_type": "code",
   "execution_count": 1,
   "id": "9130b94d",
   "metadata": {},
   "outputs": [
    {
     "data": {
      "text/plain": [
       "[[1, 2, 2, 3, 3, 3],\n",
       " [1, 2, 2, 3, 3, 3],\n",
       " [1, 1, 2, 2, 3, 3],\n",
       " [1, 1, 2, 2, 3, 3],\n",
       " [1, 1, 1, 2, 2, 3],\n",
       " [1, 1, 1, 2, 2, 3]]"
      ]
     },
     "execution_count": 1,
     "metadata": {},
     "output_type": "execute_result"
    }
   ],
   "source": [
    "a_cells = [[0,i] for i in range(0,6)] + [[1,i] for i in range(2,6)] + [[2,i] for i in range(4,6)]\n",
    "c_cells = [[5,i] for i in range(0,6)] + [[4,i] for i in range(0,4)] + [[3,i] for i in range(0,2)]\n",
    "def make_board(a,b,c):\n",
    "    blank_board = [[ 0 for i in range(0,6)] for j in range(0,6)]\n",
    "    for i in range(len(blank_board)):\n",
    "        for j in range(len(blank_board[i])):\n",
    "            if [j,5-i] in a_cells:\n",
    "                blank_board[5-i][j] = a\n",
    "            if [j,5-i]  in c_cells: \n",
    "                blank_board[5-i][j] = c\n",
    "            if [j,5-i]  not in a_cells and [j,5-i]  not in c_cells:\n",
    "                blank_board[5-i][j] = b\n",
    "    return blank_board\n",
    "\n",
    "make_board(1,2,3)"
   ]
  },
  {
   "cell_type": "code",
   "execution_count": 2,
   "id": "65fa29ae",
   "metadata": {},
   "outputs": [
    {
     "data": {
      "text/plain": [
       "[[1, 0], [1, 4], [3, 0], [3, 4], [0, 1], [0, 3], [4, 1], [4, 3]]"
      ]
     },
     "execution_count": 2,
     "metadata": {},
     "output_type": "execute_result"
    }
   ],
   "source": [
    "knight_moves = [[i,j] for i in [-1,1] for j in [-2,2] ] + [[i,j] for i in [-2,2] for j in [-1,1] ]\n",
    "def get_knight_moves(coord):\n",
    "    row = coord[0]\n",
    "    column = coord[1]\n",
    "    moves = []\n",
    "    \n",
    "    for i in knight_moves:\n",
    "        new_row = row + i[0]\n",
    "        new_column = column + i[1]\n",
    "        \n",
    "        if  0 <= new_row <= 5 and  0 <= new_column <= 5:\n",
    "            moves.append([new_row,new_column])\n",
    "    return moves\n",
    "        \n",
    "get_knight_moves([2,2])\n",
    "    "
   ]
  },
  {
   "cell_type": "code",
   "execution_count": 7,
   "id": "dbe1dea8",
   "metadata": {},
   "outputs": [],
   "source": [
    "def path_from_a1_to_f6(a,b,c):\n",
    "    \n",
    "    board = make_board(a,b,c)\n",
    "    \n",
    "    initial = [[5,0], [[5,0]], [a], a]\n",
    "    # current square, visited squares, current scores, last integer seen\n",
    "    \n",
    "    q = [initial]\n",
    "    \n",
    "    while q:\n",
    "        current = q.pop()\n",
    "        \n",
    "        if current[2][-1] == 2024 and current[0] == [0,5]:\n",
    "            return [current[0], convert_output(current[1]),current[2],current[3]]\n",
    "        \n",
    "        elif current[2][-1] > 2024:\n",
    "            continue\n",
    "            # if the score is too large, continue\n",
    "            \n",
    "        moves = get_knight_moves(current[0])\n",
    "        \n",
    "        for move in moves:\n",
    "            \n",
    "            if move in current[1]:\n",
    "                continue\n",
    "                #if the move goes to an already visited square, do not consider it\n",
    "            else:\n",
    "                \n",
    "                new_coord = move\n",
    "                new_visited = current[1] + [new_coord]\n",
    "                seen_value = board[new_coord[0]][new_coord[1]]\n",
    "                new_score = current[2]\n",
    "                if seen_value == current[3]:\n",
    "                    new_score = new_score + [new_score[-1] + seen_value]\n",
    "                elif seen_value != current[3]:\n",
    "                    new_score = new_score + [new_score[-1] * seen_value]\n",
    "                \n",
    "                q.append([new_coord, new_visited, new_score, seen_value])\n",
    "    return False\n",
    "                    \n",
    "                \n",
    "            \n",
    "    "
   ]
  },
  {
   "cell_type": "code",
   "execution_count": 146,
   "id": "621cfe01",
   "metadata": {},
   "outputs": [
    {
     "data": {
      "text/plain": [
       "[[0, 5],\n",
       " ['a1', 'b3', 'c1', 'd3', 'f2', 'e4', 'f6'],\n",
       " [1, 2, 3, 6, 1518, 1771, 2024],\n",
       " 253]"
      ]
     },
     "execution_count": 146,
     "metadata": {},
     "output_type": "execute_result"
    }
   ],
   "source": [
    "path_from_a1_to_f6(1,2,253)"
   ]
  },
  {
   "cell_type": "code",
   "execution_count": 6,
   "id": "c6a1a48c",
   "metadata": {},
   "outputs": [
    {
     "data": {
      "text/plain": [
       "[[5, 5], 'a6,b4,c2,d4,f5,e3,f1,', [1, 2, 3, 6, 1518, 1771, 2024], 253]"
      ]
     },
     "execution_count": 6,
     "metadata": {},
     "output_type": "execute_result"
    }
   ],
   "source": [
    "def path_from_a6_to_f1(a,b,c,form = False):\n",
    "    \n",
    "    board = make_board(a,b,c)\n",
    "    \n",
    "    initial = [[0,0], [[0,0]], [a], a]\n",
    "    # current square, visited squares, current scores, last integer seen\n",
    "    \n",
    "    q = [initial]\n",
    "    \n",
    "    while q:\n",
    "        current = q.pop()\n",
    "        \n",
    "        if current[2][-1] == 2024 and current[0] == [5,5]:\n",
    "            return [current[0], convert_output(current[1]),current[2],current[3]]\n",
    "        \n",
    "        elif current[2][-1] > 2024:\n",
    "            continue\n",
    "            # if the score is too large, continue\n",
    "            \n",
    "        moves = get_knight_moves(current[0])\n",
    "        \n",
    "        for move in moves:\n",
    "            \n",
    "            if move in current[1]:\n",
    "                continue\n",
    "                #if the move goes to an already visited square, do not consider it\n",
    "            else:\n",
    "                \n",
    "                new_coord = move\n",
    "                new_visited = current[1] + [new_coord]\n",
    "                seen_value = board[new_coord[0]][new_coord[1]]\n",
    "                new_score = current[2]\n",
    "                if seen_value == current[3]:\n",
    "                    new_score = new_score + [new_score[-1] + seen_value]\n",
    "                elif seen_value != current[3]:\n",
    "                    new_score = new_score + [new_score[-1] * seen_value]\n",
    "                \n",
    "                q.append([new_coord, new_visited, new_score, seen_value])\n",
    "    return False\n",
    "\n",
    "path_from_a6_to_f1(1,2,253)"
   ]
  },
  {
   "cell_type": "code",
   "execution_count": 5,
   "id": "0a703ff2",
   "metadata": {},
   "outputs": [],
   "source": [
    "def convert_output(moves):\n",
    "    conv_moves = ''\n",
    "    columns = ['a','b','c','d','e','f']\n",
    "    rows = ['1','2','3','4','5','6']\n",
    "    for i in moves:\n",
    "        conv_moves += columns[i[1]]  + rows[5-i[0]] + ',' \n",
    "    return conv_moves\n",
    "        "
   ]
  },
  {
   "cell_type": "code",
   "execution_count": 95,
   "id": "c9d1eb96",
   "metadata": {},
   "outputs": [
    {
     "data": {
      "text/plain": [
       "[[7, 2, 1],\n",
       " [6, 3, 1],\n",
       " [5, 4, 1],\n",
       " [4, 5, 1],\n",
       " [3, 6, 1],\n",
       " [2, 7, 1],\n",
       " [7, 1, 2],\n",
       " [5, 3, 2],\n",
       " [3, 5, 2],\n",
       " [1, 7, 2],\n",
       " [6, 1, 3],\n",
       " [5, 2, 3],\n",
       " [2, 5, 3],\n",
       " [1, 6, 3],\n",
       " [5, 1, 4],\n",
       " [1, 5, 4],\n",
       " [4, 1, 5],\n",
       " [3, 2, 5],\n",
       " [2, 3, 5],\n",
       " [1, 4, 5],\n",
       " [3, 1, 6],\n",
       " [1, 3, 6],\n",
       " [2, 1, 7],\n",
       " [1, 2, 7]]"
      ]
     },
     "execution_count": 95,
     "metadata": {},
     "output_type": "execute_result"
    }
   ],
   "source": [
    "def get_partitions(s,i):\n",
    "    \n",
    "    if i == 1:\n",
    "        return [[s]]\n",
    "    else:\n",
    "        return [j + [k] for k in range(1,s) for j in get_partitions(s-k,i-1) ]\n",
    "\n",
    "\n",
    "    \n",
    "def refine_partitions(part):\n",
    "    \n",
    "    new_part = []\n",
    "    \n",
    "    for i in part:\n",
    "        if i[0] == i[1] or i[1] == i[2] or i[0] == i[2]:\n",
    "            continue\n",
    "        else:\n",
    "            new_part.append(i)\n",
    "    return new_part\n",
    "refine_partitions(get_partitions(10,3))"
   ]
  },
  {
   "cell_type": "code",
   "execution_count": 106,
   "id": "c01a6329",
   "metadata": {},
   "outputs": [],
   "source": [
    "def search_all(s):\n",
    "    candidates = refine_partitions(get_partitions(s,3))\n",
    "    \n",
    "    for i in candidates:\n",
    "        first = path_from_a6_to_f1(i[0],i[1],i[2])\n",
    "        second = path_from_a1_to_f6(i[0],i[1],i[2])\n",
    "        \n",
    "        if first and second:\n",
    "            return [i, first, second]\n",
    "    return False"
   ]
  },
  {
   "cell_type": "code",
   "execution_count": 153,
   "id": "5c2fb8f6",
   "metadata": {},
   "outputs": [
    {
     "ename": "KeyboardInterrupt",
     "evalue": "",
     "output_type": "error",
     "traceback": [
      "\u001b[1;31m---------------------------------------------------------------------------\u001b[0m",
      "\u001b[1;31mKeyboardInterrupt\u001b[0m                         Traceback (most recent call last)",
      "\u001b[1;32m~\\AppData\\Local\\Temp/ipykernel_23012/3621738482.py\u001b[0m in \u001b[0;36m<module>\u001b[1;34m\u001b[0m\n\u001b[1;32m----> 1\u001b[1;33m \u001b[0msearch_all\u001b[0m\u001b[1;33m(\u001b[0m\u001b[1;36m10\u001b[0m\u001b[1;33m)\u001b[0m\u001b[1;33m\u001b[0m\u001b[1;33m\u001b[0m\u001b[0m\n\u001b[0m",
      "\u001b[1;32m~\\AppData\\Local\\Temp/ipykernel_23012/2261277520.py\u001b[0m in \u001b[0;36msearch_all\u001b[1;34m(s)\u001b[0m\n\u001b[0;32m      3\u001b[0m \u001b[1;33m\u001b[0m\u001b[0m\n\u001b[0;32m      4\u001b[0m     \u001b[1;32mfor\u001b[0m \u001b[0mi\u001b[0m \u001b[1;32min\u001b[0m \u001b[0mcandidates\u001b[0m\u001b[1;33m:\u001b[0m\u001b[1;33m\u001b[0m\u001b[1;33m\u001b[0m\u001b[0m\n\u001b[1;32m----> 5\u001b[1;33m         \u001b[0mfirst\u001b[0m \u001b[1;33m=\u001b[0m \u001b[0mpath_from_a6_to_f1\u001b[0m\u001b[1;33m(\u001b[0m\u001b[0mi\u001b[0m\u001b[1;33m[\u001b[0m\u001b[1;36m0\u001b[0m\u001b[1;33m]\u001b[0m\u001b[1;33m,\u001b[0m\u001b[0mi\u001b[0m\u001b[1;33m[\u001b[0m\u001b[1;36m1\u001b[0m\u001b[1;33m]\u001b[0m\u001b[1;33m,\u001b[0m\u001b[0mi\u001b[0m\u001b[1;33m[\u001b[0m\u001b[1;36m2\u001b[0m\u001b[1;33m]\u001b[0m\u001b[1;33m)\u001b[0m\u001b[1;33m\u001b[0m\u001b[1;33m\u001b[0m\u001b[0m\n\u001b[0m\u001b[0;32m      6\u001b[0m         \u001b[0msecond\u001b[0m \u001b[1;33m=\u001b[0m \u001b[0mpath_from_a1_to_f6\u001b[0m\u001b[1;33m(\u001b[0m\u001b[0mi\u001b[0m\u001b[1;33m[\u001b[0m\u001b[1;36m0\u001b[0m\u001b[1;33m]\u001b[0m\u001b[1;33m,\u001b[0m\u001b[0mi\u001b[0m\u001b[1;33m[\u001b[0m\u001b[1;36m1\u001b[0m\u001b[1;33m]\u001b[0m\u001b[1;33m,\u001b[0m\u001b[0mi\u001b[0m\u001b[1;33m[\u001b[0m\u001b[1;36m2\u001b[0m\u001b[1;33m]\u001b[0m\u001b[1;33m)\u001b[0m\u001b[1;33m\u001b[0m\u001b[1;33m\u001b[0m\u001b[0m\n\u001b[0;32m      7\u001b[0m \u001b[1;33m\u001b[0m\u001b[0m\n",
      "\u001b[1;32m~\\AppData\\Local\\Temp/ipykernel_23012/3411356822.py\u001b[0m in \u001b[0;36mpath_from_a6_to_f1\u001b[1;34m(a, b, c)\u001b[0m\n\u001b[0;32m     34\u001b[0m                     \u001b[0mnew_score\u001b[0m \u001b[1;33m=\u001b[0m \u001b[0mnew_score\u001b[0m \u001b[1;33m+\u001b[0m \u001b[1;33m[\u001b[0m\u001b[0mnew_score\u001b[0m\u001b[1;33m[\u001b[0m\u001b[1;33m-\u001b[0m\u001b[1;36m1\u001b[0m\u001b[1;33m]\u001b[0m \u001b[1;33m+\u001b[0m \u001b[0mseen_value\u001b[0m\u001b[1;33m]\u001b[0m\u001b[1;33m\u001b[0m\u001b[1;33m\u001b[0m\u001b[0m\n\u001b[0;32m     35\u001b[0m                 \u001b[1;32melif\u001b[0m \u001b[0mseen_value\u001b[0m \u001b[1;33m!=\u001b[0m \u001b[0mcurrent\u001b[0m\u001b[1;33m[\u001b[0m\u001b[1;36m3\u001b[0m\u001b[1;33m]\u001b[0m\u001b[1;33m:\u001b[0m\u001b[1;33m\u001b[0m\u001b[1;33m\u001b[0m\u001b[0m\n\u001b[1;32m---> 36\u001b[1;33m                     \u001b[0mnew_score\u001b[0m \u001b[1;33m=\u001b[0m \u001b[0mnew_score\u001b[0m \u001b[1;33m+\u001b[0m \u001b[1;33m[\u001b[0m\u001b[0mnew_score\u001b[0m\u001b[1;33m[\u001b[0m\u001b[1;33m-\u001b[0m\u001b[1;36m1\u001b[0m\u001b[1;33m]\u001b[0m \u001b[1;33m*\u001b[0m \u001b[0mseen_value\u001b[0m\u001b[1;33m]\u001b[0m\u001b[1;33m\u001b[0m\u001b[1;33m\u001b[0m\u001b[0m\n\u001b[0m\u001b[0;32m     37\u001b[0m \u001b[1;33m\u001b[0m\u001b[0m\n\u001b[0;32m     38\u001b[0m                 \u001b[0mq\u001b[0m\u001b[1;33m.\u001b[0m\u001b[0mappend\u001b[0m\u001b[1;33m(\u001b[0m\u001b[1;33m[\u001b[0m\u001b[0mnew_coord\u001b[0m\u001b[1;33m,\u001b[0m \u001b[0mnew_visited\u001b[0m\u001b[1;33m,\u001b[0m \u001b[0mnew_score\u001b[0m\u001b[1;33m,\u001b[0m \u001b[0mseen_value\u001b[0m\u001b[1;33m]\u001b[0m\u001b[1;33m)\u001b[0m\u001b[1;33m\u001b[0m\u001b[1;33m\u001b[0m\u001b[0m\n",
      "\u001b[1;31mKeyboardInterrupt\u001b[0m: "
     ]
    }
   ],
   "source": [
    "search_all(10)"
   ]
  },
  {
   "cell_type": "code",
   "execution_count": 154,
   "id": "9208b35b",
   "metadata": {},
   "outputs": [
    {
     "data": {
      "text/plain": [
       "[[3, 2, 1],\n",
       " [[5, 5],\n",
       "  'a6,b4,c2,d4,e2,f4,e6,c5,e4,c3,b1,d2,f3,e1,d3,e5,c4,b6,d5,e3,f1,',\n",
       "  [3,\n",
       "   6,\n",
       "   9,\n",
       "   18,\n",
       "   20,\n",
       "   20,\n",
       "   21,\n",
       "   42,\n",
       "   42,\n",
       "   84,\n",
       "   252,\n",
       "   504,\n",
       "   504,\n",
       "   1008,\n",
       "   1010,\n",
       "   1010,\n",
       "   2020,\n",
       "   2022,\n",
       "   2022,\n",
       "   2023,\n",
       "   2024],\n",
       "  1],\n",
       " [[0, 5],\n",
       "  'a1,b3,c1,d3,e1,f3,e5,c6,a5,c4,e3,d1,f2,e4,c5,e6,d4,e2,f4,d5,f6,',\n",
       "  [3,\n",
       "   6,\n",
       "   9,\n",
       "   18,\n",
       "   20,\n",
       "   20,\n",
       "   21,\n",
       "   42,\n",
       "   126,\n",
       "   252,\n",
       "   252,\n",
       "   504,\n",
       "   504,\n",
       "   505,\n",
       "   1010,\n",
       "   1010,\n",
       "   2020,\n",
       "   2022,\n",
       "   2022,\n",
       "   2023,\n",
       "   2024],\n",
       "  1]]"
      ]
     },
     "execution_count": 154,
     "metadata": {},
     "output_type": "execute_result"
    }
   ],
   "source": [
    "search_all(6)\n",
    "        \n",
    "    "
   ]
  },
  {
   "cell_type": "code",
   "execution_count": 112,
   "id": "18415ee1",
   "metadata": {},
   "outputs": [
    {
     "data": {
      "text/plain": [
       "[[5, 5],\n",
       " ['a1',\n",
       "  'b3',\n",
       "  'c5',\n",
       "  'a6',\n",
       "  'b4',\n",
       "  'c2',\n",
       "  'd4',\n",
       "  'c6',\n",
       "  'e5',\n",
       "  'f3',\n",
       "  'e1',\n",
       "  'd3',\n",
       "  'f2',\n",
       "  'd1',\n",
       "  'e3',\n",
       "  'f1',\n",
       "  'd2',\n",
       "  'e4',\n",
       "  'f6'],\n",
       " 2024,\n",
       " 1]"
      ]
     },
     "execution_count": 112,
     "metadata": {},
     "output_type": "execute_result"
    }
   ],
   "source": [
    "path_from_a1_to_f6(7,2,1)"
   ]
  },
  {
   "cell_type": "code",
   "execution_count": 9,
   "id": "08473e2d",
   "metadata": {},
   "outputs": [
    {
     "data": {
      "text/plain": [
       "[[5, 5],\n",
       " 'a6,b4,c2,d4,e2,f4,d3,f2,d1,e3,f5,d6,b5,a3,c4,b6,d5,c3,e4,d2,f1,',\n",
       " [3,\n",
       "  6,\n",
       "  9,\n",
       "  9,\n",
       "  10,\n",
       "  20,\n",
       "  20,\n",
       "  40,\n",
       "  40,\n",
       "  80,\n",
       "  82,\n",
       "  84,\n",
       "  84,\n",
       "  252,\n",
       "  252,\n",
       "  253,\n",
       "  506,\n",
       "  506,\n",
       "  1012,\n",
       "  1012,\n",
       "  2024],\n",
       " 2]"
      ]
     },
     "execution_count": 9,
     "metadata": {},
     "output_type": "execute_result"
    }
   ],
   "source": [
    "path_from_a6_to_f1(3,1,2)"
   ]
  },
  {
   "cell_type": "code",
   "execution_count": null,
   "id": "aabe9fe8",
   "metadata": {},
   "outputs": [],
   "source": []
  }
 ],
 "metadata": {
  "kernelspec": {
   "display_name": "Python 3 (ipykernel)",
   "language": "python",
   "name": "python3"
  },
  "language_info": {
   "codemirror_mode": {
    "name": "ipython",
    "version": 3
   },
   "file_extension": ".py",
   "mimetype": "text/x-python",
   "name": "python",
   "nbconvert_exporter": "python",
   "pygments_lexer": "ipython3",
   "version": "3.9.7"
  }
 },
 "nbformat": 4,
 "nbformat_minor": 5
}
