{
 "cells": [
  {
   "cell_type": "code",
   "execution_count": 1,
   "id": "47d146d6",
   "metadata": {},
   "outputs": [],
   "source": [
    "txt = \"There have been some negatives along the way, but also some positives. But we’ve powered through it, one way or another, and things are looking up.As you can see, rows 1 through 7 have already been built. (And we’ve got the next 9 figured out as well.)However… I found this one piece near the bottom of the bag, I’m having trouble figuring out where it will go. Can you determine the first (lowest) row where it would make sense to place it?\""
   ]
  },
  {
   "cell_type": "code",
   "execution_count": 2,
   "id": "49d963a7",
   "metadata": {},
   "outputs": [
    {
     "data": {
      "text/plain": [
       "'There have been some negatives along the way, but also some positives. But we’ve powered through it, one way or another, and things are looking up.As you can see, rows 1 through 7 have already been built. (And we’ve got the next 9 figured out as well.)However… I found this one piece near the bottom of the bag, I’m having trouble figuring out where it will go. Can you determine the first (lowest) row where it would make sense to place it?'"
      ]
     },
     "execution_count": 2,
     "metadata": {},
     "output_type": "execute_result"
    }
   ],
   "source": [
    "txt"
   ]
  },
  {
   "cell_type": "code",
   "execution_count": 3,
   "id": "0d6eea43",
   "metadata": {},
   "outputs": [
    {
     "name": "stdout",
     "output_type": "stream",
     "text": [
      "5\n",
      "4\n",
      "5\n",
      "2\n",
      "3\n",
      "3\n"
     ]
    }
   ],
   "source": [
    "count = 0\n",
    "for i in range(len(txt)):\n",
    "    \n",
    "    \n",
    "    if txt[i] == 'a' or txt[i] == 'A':\n",
    "        count+=1\n",
    "    if txt[i] == '.' or txt[i] == '?':\n",
    "        print(count)\n",
    "        count = 0\n",
    "    i+=1    \n",
    "    "
   ]
  },
  {
   "cell_type": "code",
   "execution_count": 4,
   "id": "0a4dd912",
   "metadata": {},
   "outputs": [
    {
     "data": {
      "text/plain": [
       "False"
      ]
     },
     "execution_count": 4,
     "metadata": {},
     "output_type": "execute_result"
    }
   ],
   "source": [
    "txt[0] == 'a'"
   ]
  },
  {
   "cell_type": "code",
   "execution_count": 5,
   "id": "5ee91e1a",
   "metadata": {},
   "outputs": [
    {
     "name": "stdout",
     "output_type": "stream",
     "text": [
      "7\n",
      "5\n",
      "7\n",
      "2\n",
      "6\n",
      "3\n"
     ]
    }
   ],
   "source": [
    "count = 0\n",
    "for i in range(len(txt)):\n",
    "    \n",
    "    \n",
    "    if txt[i] == 'b' or txt[i] == 'B' or txt[i] == 'a' or txt[i] == 'A':\n",
    "        count+=1\n",
    "    if txt[i] == '.' or txt[i] == '?':\n",
    "        print(count)\n",
    "        count = 0\n",
    "    i+=1    "
   ]
  },
  {
   "cell_type": "code",
   "execution_count": 6,
   "id": "fafa141b",
   "metadata": {},
   "outputs": [
    {
     "name": "stdout",
     "output_type": "stream",
     "text": [
      "3\n",
      "3\n",
      "20\n",
      "3\n",
      "4\n",
      "6\n",
      "13\n",
      "9\n"
     ]
    }
   ],
   "source": [
    "counterflag = False\n",
    "count = 0\n",
    "for i in range(len(txt)):\n",
    "    \n",
    "    \n",
    "    if txt[i] == 'a' or txt[i] == 'A':\n",
    "        if counterflag:\n",
    "            count = 0\n",
    "        counterflag = True\n",
    "    if txt[i] == 'b' or txt[i] == 'B':\n",
    "        print(count-1)\n",
    "        count = 0\n",
    "    if counterflag:\n",
    "        count +=1\n",
    "    i+=1    "
   ]
  },
  {
   "cell_type": "code",
   "execution_count": 7,
   "id": "122869fd",
   "metadata": {},
   "outputs": [
    {
     "data": {
      "text/plain": [
       "22"
      ]
     },
     "execution_count": 7,
     "metadata": {},
     "output_type": "execute_result"
    }
   ],
   "source": [
    "txt.count('a') +txt.count('A')"
   ]
  },
  {
   "cell_type": "code",
   "execution_count": 8,
   "id": "3ab52a86",
   "metadata": {},
   "outputs": [
    {
     "name": "stdout",
     "output_type": "stream",
     "text": [
      "4\n",
      "35\n",
      "147\n",
      "5\n",
      "95\n",
      "14\n",
      "20\n"
     ]
    }
   ],
   "source": [
    "counterflag = False\n",
    "count = 0\n",
    "for i in range(len(txt)):\n",
    "    \n",
    "    \n",
    "    if txt[i] == 'a':\n",
    "        counterflag = True\n",
    "    if txt[i] == 'b':\n",
    "        print(count)\n",
    "        count = 0\n",
    "    if counterflag:\n",
    "        count +=1\n",
    "    i+=1    "
   ]
  },
  {
   "cell_type": "code",
   "execution_count": 9,
   "id": "0e3b59c9",
   "metadata": {},
   "outputs": [
    {
     "name": "stdout",
     "output_type": "stream",
     "text": [
      "4\n",
      "4\n",
      "4\n",
      "5\n",
      "7\n",
      "14\n",
      "10\n"
     ]
    }
   ],
   "source": [
    "counterflag = False\n",
    "count = 0\n",
    "for i in range(len(txt)):\n",
    "    \n",
    "    \n",
    "    if txt[i] == 'a':\n",
    "        if counterflag:\n",
    "            count = 0\n",
    "        counterflag = True\n",
    "    if txt[i] == 'b':\n",
    "        print(count)\n",
    "        count = 0\n",
    "    if counterflag:\n",
    "        count +=1\n",
    "    i+=1    "
   ]
  },
  {
   "cell_type": "code",
   "execution_count": 10,
   "id": "e9a02cf8",
   "metadata": {},
   "outputs": [],
   "source": [
    "def integer_root(n):\n",
    "    low = 0\n",
    "    high = n\n",
    "    \n",
    "    while low <= high:\n",
    "        cand = (low +high)//2\n",
    "        cansqrd = cand * cand\n",
    "        \n",
    "        if cansqrd <= n:\n",
    "            low = cand +1 \n",
    "            \n",
    "        elif cansqrd > n:\n",
    "            high = cand -1\n",
    "                        \n",
    "    return cand\n",
    "        \n",
    "    \n",
    "    "
   ]
  },
  {
   "cell_type": "code",
   "execution_count": 11,
   "id": "a1d30812",
   "metadata": {},
   "outputs": [
    {
     "data": {
      "text/plain": [
       "2"
      ]
     },
     "execution_count": 11,
     "metadata": {},
     "output_type": "execute_result"
    }
   ],
   "source": [
    "integer_root(6)"
   ]
  },
  {
   "cell_type": "code",
   "execution_count": 12,
   "id": "ace27a18",
   "metadata": {},
   "outputs": [],
   "source": [
    "import math\n",
    "def first_factor(n):\n",
    "    ceiling = integer_root(n) + 1\n",
    "    i = 2\n",
    "    while i <= ceiling:\n",
    "        if n%i ==0 :\n",
    "            return i\n",
    "        i+=1\n",
    "    \n",
    "    return n"
   ]
  },
  {
   "cell_type": "code",
   "execution_count": 13,
   "id": "8620a21d",
   "metadata": {},
   "outputs": [
    {
     "data": {
      "text/plain": [
       "7"
      ]
     },
     "execution_count": 13,
     "metadata": {},
     "output_type": "execute_result"
    }
   ],
   "source": [
    "first_factor(49)"
   ]
  },
  {
   "cell_type": "code",
   "execution_count": 14,
   "id": "21867568",
   "metadata": {},
   "outputs": [],
   "source": [
    "def factor(n):\n",
    "    ls = {}\n",
    "    num = n\n",
    "    \n",
    "    while num > 1:\n",
    "        factor = first_factor(num)\n",
    "        if factor in ls:\n",
    "            ls[factor] += 1\n",
    "        if factor not in ls:\n",
    "            ls[factor] = 1\n",
    "        num = num//factor\n",
    "    return ls"
   ]
  },
  {
   "cell_type": "code",
   "execution_count": 15,
   "id": "ec023e29",
   "metadata": {},
   "outputs": [
    {
     "data": {
      "text/plain": [
       "{2: 2, 3: 1, 11: 1}"
      ]
     },
     "execution_count": 15,
     "metadata": {},
     "output_type": "execute_result"
    }
   ],
   "source": [
    "factor(132)"
   ]
  },
  {
   "cell_type": "code",
   "execution_count": 16,
   "id": "34239af8",
   "metadata": {},
   "outputs": [],
   "source": [
    "def is_power(n):\n",
    "    ffactor = factor(n)\n",
    "    power = True\n",
    "    assigned = False\n",
    "    value = 0\n",
    "    for i in ffactor:\n",
    "        if not assigned:\n",
    "            value = ffactor[i]\n",
    "            assigned = True\n",
    "            continue\n",
    "        else:\n",
    "            if ffactor[i] != value:\n",
    "                return 1\n",
    "            \n",
    "    return value\n",
    "\n",
    "\n",
    "def is_power2(n):\n",
    "    ffactor = factor(n)\n",
    "    output= [ffactor[i] for i in ffactor]\n",
    "    return math.gcd(*output)\n",
    "            \n",
    "            \n",
    "    "
   ]
  },
  {
   "cell_type": "code",
   "execution_count": 17,
   "id": "90a463ce",
   "metadata": {},
   "outputs": [
    {
     "data": {
      "text/plain": [
       "8"
      ]
     },
     "execution_count": 17,
     "metadata": {},
     "output_type": "execute_result"
    }
   ],
   "source": [
    "is_power2(2**8 * 3**16)"
   ]
  },
  {
   "cell_type": "code",
   "execution_count": 18,
   "id": "91e801d7",
   "metadata": {},
   "outputs": [],
   "source": [
    "def num_factors(n):\n",
    "    ffactor =  factor(n)\n",
    "    prod = 1\n",
    "    for i in ffactor:\n",
    "        prod *= (ffactor[i] + 1)\n",
    "    return prod\n",
    "\n",
    "def num_even_factors(n):\n",
    "    ffactor = factor(n)\n",
    "    if 2 not in ffactor:\n",
    "        return 0\n",
    "    \n",
    "    prod = 1\n",
    "    for i in ffactor:\n",
    "        if i == 2:\n",
    "            prod *= ffactor[i]\n",
    "            \n",
    "        else:\n",
    "            prod *= ffactor[i] + 1\n",
    "    return prod\n",
    "\n",
    "def num_solutions(n):\n",
    "    return num_factors(n * is_power2(n)) + num_even_factors(n * is_power2(n))\n",
    "        \n",
    "    "
   ]
  },
  {
   "cell_type": "code",
   "execution_count": 19,
   "id": "c809861a",
   "metadata": {
    "scrolled": true
   },
   "outputs": [
    {
     "name": "stdout",
     "output_type": "stream",
     "text": [
      "1 : 1\n",
      "2 : 3\n",
      "3 : 2\n",
      "4 : 7\n",
      "5 : 2\n",
      "6 : 6\n",
      "7 : 2\n",
      "8 : 14\n",
      "9 : 9\n",
      "10 : 6\n",
      "11 : 2\n",
      "12 : 10\n",
      "13 : 2\n",
      "14 : 6\n",
      "15 : 4\n",
      "16 : 13\n"
     ]
    }
   ],
   "source": [
    "for i in range (1,17):\n",
    "    print(str(i) + \" : \" + str(num_solutions(i)))"
   ]
  },
  {
   "cell_type": "code",
   "execution_count": 20,
   "id": "e4d51dd8",
   "metadata": {},
   "outputs": [
    {
     "data": {
      "text/plain": [
       "1"
      ]
     },
     "execution_count": 20,
     "metadata": {},
     "output_type": "execute_result"
    }
   ],
   "source": [
    "is_power(12)"
   ]
  },
  {
   "cell_type": "code",
   "execution_count": 21,
   "id": "1a6dd8f3",
   "metadata": {},
   "outputs": [],
   "source": [
    "def first_row():\n",
    "    i = 1\n",
    "    while True:\n",
    "        if num_solutions(i) == 2023:\n",
    "            return i\n",
    "        if i % 1000000 == 0:\n",
    "            print(i)\n",
    "        i+=1"
   ]
  },
  {
   "cell_type": "code",
   "execution_count": 22,
   "id": "383695df",
   "metadata": {},
   "outputs": [
    {
     "data": {
      "text/plain": [
       "2023"
      ]
     },
     "execution_count": 22,
     "metadata": {},
     "output_type": "execute_result"
    }
   ],
   "source": [
    "num_solutions(2**2 * 3**16 * 5**16)"
   ]
  },
  {
   "cell_type": "code",
   "execution_count": 23,
   "id": "31793d77",
   "metadata": {},
   "outputs": [
    {
     "data": {
      "text/plain": [
       "172186884000000"
      ]
     },
     "execution_count": 23,
     "metadata": {},
     "output_type": "execute_result"
    }
   ],
   "source": [
    "2**8 * 3**16 * 5**6"
   ]
  },
  {
   "cell_type": "code",
   "execution_count": 24,
   "id": "b2e10526",
   "metadata": {},
   "outputs": [
    {
     "data": {
      "text/plain": [
       "22300745198530623141535718272648361505980416"
      ]
     },
     "execution_count": 24,
     "metadata": {},
     "output_type": "execute_result"
    }
   ],
   "source": [
    "2**144"
   ]
  },
  {
   "cell_type": "code",
   "execution_count": 25,
   "id": "5434463a",
   "metadata": {},
   "outputs": [],
   "source": [
    "import math\n"
   ]
  },
  {
   "cell_type": "code",
   "execution_count": 26,
   "id": "0d858f91",
   "metadata": {},
   "outputs": [
    {
     "data": {
      "text/plain": [
       "3"
      ]
     },
     "execution_count": 26,
     "metadata": {},
     "output_type": "execute_result"
    }
   ],
   "source": [
    "t = [3,6,9]\n",
    "math.gcd(*t)"
   ]
  },
  {
   "cell_type": "code",
   "execution_count": 27,
   "id": "0ad55094",
   "metadata": {},
   "outputs": [],
   "source": [
    "test = factor(9)"
   ]
  },
  {
   "cell_type": "code",
   "execution_count": 28,
   "id": "da597b1e",
   "metadata": {},
   "outputs": [
    {
     "data": {
      "text/plain": [
       "2"
      ]
     },
     "execution_count": 28,
     "metadata": {},
     "output_type": "execute_result"
    }
   ],
   "source": [
    "test[3]"
   ]
  },
  {
   "cell_type": "code",
   "execution_count": 32,
   "id": "31683b14",
   "metadata": {},
   "outputs": [
    {
     "name": "stdout",
     "output_type": "stream",
     "text": [
      "2 16 16\n",
      "3 16 16\n"
     ]
    }
   ],
   "source": [
    "for x in range(30):\n",
    "    for y in range (30):\n",
    "        for z in range(30):\n",
    "            number = math.gcd(x,y,z)\n",
    "            if num_solutions(number*(2**x)*(3**y)*(5**z)) == 2023:\n",
    "                print(x,y,z)"
   ]
  },
  {
   "cell_type": "code",
   "execution_count": 33,
   "id": "f2c4f35b",
   "metadata": {},
   "outputs": [
    {
     "name": "stdout",
     "output_type": "stream",
     "text": [
      "2 16 16\n",
      "3 16 16\n"
     ]
    }
   ],
   "source": [
    "for x in range(30):\n",
    "    for y in range (30):\n",
    "        for z in range(30):\n",
    "            number = math.gcd(x,y,z)\n",
    "            if num_solutions(number*(2**x)*(3**y)*(7**z)) == 2023:\n",
    "                print(x,y,z)"
   ]
  },
  {
   "cell_type": "code",
   "execution_count": 34,
   "id": "b5b115e0",
   "metadata": {},
   "outputs": [],
   "source": [
    "for x in range(30):\n",
    "    for y in range (30):\n",
    "        for z in range(30):\n",
    "            number = math.gcd(x,y,z)\n",
    "            if num_solutions(number*(3**x)*(5**y)*(7**z)) == 2023:\n",
    "                print(x,y,z)"
   ]
  },
  {
   "cell_type": "code",
   "execution_count": 36,
   "id": "5e0244f5",
   "metadata": {},
   "outputs": [
    {
     "name": "stdout",
     "output_type": "stream",
     "text": [
      "56 16\n",
      "58 16\n",
      "59 16\n"
     ]
    }
   ],
   "source": [
    "for x in range(100):\n",
    "    for y in range (100):\n",
    "            number = math.gcd(x,y)\n",
    "            if num_solutions(number*(2**x)*(3**y)) == 2023:\n",
    "                print(x,y)"
   ]
  },
  {
   "cell_type": "code",
   "execution_count": 37,
   "id": "b620c449",
   "metadata": {},
   "outputs": [
    {
     "name": "stdout",
     "output_type": "stream",
     "text": [
      "2 16 16\n",
      "3 16 16\n"
     ]
    }
   ],
   "source": [
    "for x in range(30):\n",
    "    for y in range (30):\n",
    "        for z in range(30):\n",
    "            number = math.gcd(x,y,z)\n",
    "            if num_solutions(number*(2**x)*(5**y)*(7**z)) == 2023:\n",
    "                print(x,y,z)"
   ]
  },
  {
   "cell_type": "code",
   "execution_count": null,
   "id": "8785357f",
   "metadata": {},
   "outputs": [],
   "source": []
  }
 ],
 "metadata": {
  "kernelspec": {
   "display_name": "Python 3 (ipykernel)",
   "language": "python",
   "name": "python3"
  },
  "language_info": {
   "codemirror_mode": {
    "name": "ipython",
    "version": 3
   },
   "file_extension": ".py",
   "mimetype": "text/x-python",
   "name": "python",
   "nbconvert_exporter": "python",
   "pygments_lexer": "ipython3",
   "version": "3.9.7"
  }
 },
 "nbformat": 4,
 "nbformat_minor": 5
}
