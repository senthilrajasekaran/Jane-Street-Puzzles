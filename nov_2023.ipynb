{
 "cells": [
  {
   "cell_type": "code",
   "execution_count": 19,
   "id": "f784b6f7",
   "metadata": {},
   "outputs": [],
   "source": [
    "import itertools\n",
    "class Board:\n",
    "    \n",
    "    def __init__(self, values, pos):\n",
    "        self.values = values #2d array of values on the board\n",
    "        self.x = pos[0] #coordinate specifying where the knight currently is\n",
    "        self.y = pos[1] #coordinate specifying where the knight currently is\n",
    "        self.z = values[pos[0]][pos[1]]\n",
    "        self.dimension = len(values)-1 #square boards only\n",
    "        self.moves = list(itertools.permutations([0,1,2])) + list(itertools.permutations([0,-1,2]))+list(itertools.permutations([0,1,-2]))+list(itertools.permutations([0,-1,-2]))\n",
    "        self.visited = {}\n",
    "        for i in range(self.dimension+1):\n",
    "            for j in range(self.dimension+1):\n",
    "                self.visited[tuple([i,j])] = 0\n",
    "                if i == self.x and j == self.y:\n",
    "                    self.visited[tuple([i,j])] = 1\n",
    "        self.tour = []\n",
    "        self.prev_waited = False\n",
    "        self.other_peaks = []\n",
    "        self.sink_factor = None\n",
    "        self.diameter = None\n",
    "        self.waited = 0\n",
    "        \n",
    "                \n",
    "                \n",
    "    def get_candidate_moves(self):\n",
    "        \n",
    "        position = [self.x, self.y]\n",
    "        good_moves = []\n",
    "        for i in self.moves:\n",
    "            \n",
    "            new_position = [self.x + i[0], self.y + i[1]]\n",
    "            \n",
    "            # position actually exists on the board\n",
    "            if self.in_bounds(new_position):\n",
    "            \n",
    "                # jump dimensions work out\n",
    "                if (self.values[new_position[0]][new_position[1]]) == (self.values[self.x][self.y]) + i[2]:\n",
    "            \n",
    "            \n",
    "                #square has been visited less than 3 times, making it a viable jump point\n",
    "                    if self.visited[tuple(new_position)] <3:\n",
    "                \n",
    "                        good_moves.append(new_position)\n",
    "        return good_moves\n",
    "            \n",
    "    \n",
    "    def wait(self):\n",
    "        #assumes self.prev_waited = False\n",
    "        \n",
    "        if self.prev_waited == True:\n",
    "            return(\"This function was used in error\")\n",
    "            \n",
    "        current_height = self.values[self.x][self.y]\n",
    "        others = 0\n",
    "                        \n",
    "        for i in range(len(self.values[0])):\n",
    "            for j in range(len(self.values[0])):\n",
    "                if self.values[i][j] == current_height:\n",
    "                    others += 1\n",
    "                    self.other_peaks.append([i,j])\n",
    "                        \n",
    "        sink_f = 1/others\n",
    "        for i in range(len(self.values[0])):\n",
    "            for j in range(len(self.values[0])):\n",
    "                if self.values[i][j] == current_height:\n",
    "                    self.values[i][j] -= sink_f\n",
    "                    self.sink_factor = sink_f\n",
    "                        \n",
    "        self.diameter = [self.dimension -self.x, self.dimension - self.y]\n",
    "        self.values[self.diameter[0]][self.diameter[1]] += self.sink_factor \n",
    "        self.prev_waited = True\n",
    "        \n",
    "        self.tour.append('wait')\n",
    "        self.waited += 1\n",
    "        \n",
    "    def keep_waiting(self):\n",
    "        if self.prev_waited == False:\n",
    "            return(\"This function was used in error\")\n",
    "        \n",
    "        for i in self.other_peaks:\n",
    "            self.values[i[0]][i[1]] -= self.sink_factor\n",
    "        self.values[self.diameter[0]][self.diameter[1]] += self.sink_factor \n",
    "        self.tour.append('wait')\n",
    "        self.waited +=1\n",
    "\n",
    "        \n",
    "    \n",
    "    def move(self, position):\n",
    "        self.x = position[0]\n",
    "        self.y = position[1]\n",
    "        self.visited[tuple(position)] += 1\n",
    "        self.tour.append(position)\n",
    "        self.prev_waited = False\n",
    "        self.other_peaks = []\n",
    "        self.sink_factor = None\n",
    "        self.diameter = None\n",
    "        \n",
    "        \n",
    "        \n",
    "    def in_bounds(self,position):\n",
    "        \n",
    "        if position[0] > self.dimension or position[1] > self.dimension:\n",
    "            return False\n",
    "        if position[0] < 0 or position[1] < 0 :\n",
    "            return False\n",
    "        return True\n",
    "            \n",
    "        \n",
    "        "
   ]
  },
  {
   "cell_type": "code",
   "execution_count": 129,
   "id": "8ec51c78",
   "metadata": {},
   "outputs": [
    {
     "data": {
      "text/plain": [
       "{(0, 0): 0, (0, 1): 0, (1, 0): 1, (1, 1): 0}"
      ]
     },
     "execution_count": 129,
     "metadata": {},
     "output_type": "execute_result"
    }
   ],
   "source": [
    "ex_board = Board( [[2,2],[0,0]], [1,0])\n",
    "ex_board.visited"
   ]
  },
  {
   "cell_type": "code",
   "execution_count": 86,
   "id": "54696f43",
   "metadata": {},
   "outputs": [
    {
     "name": "stdout",
     "output_type": "stream",
     "text": [
      "[[2, 3.5], [-1.5, -1.5]]\n"
     ]
    }
   ],
   "source": [
    "ex_board.wait()"
   ]
  },
  {
   "cell_type": "code",
   "execution_count": 13,
   "id": "691f92cb",
   "metadata": {},
   "outputs": [
    {
     "data": {
      "text/plain": [
       "[(1, 2, 3), (1, 3, 2), (2, 1, 3), (2, 3, 1), (3, 1, 2), (3, 2, 1)]"
      ]
     },
     "execution_count": 13,
     "metadata": {},
     "output_type": "execute_result"
    }
   ],
   "source": [
    "a = list(itertools.permutations([1,2,3]))\n",
    "a"
   ]
  },
  {
   "cell_type": "code",
   "execution_count": 19,
   "id": "49abb85e",
   "metadata": {},
   "outputs": [
    {
     "data": {
      "text/plain": [
       "[(0, 1, 2),\n",
       " (0, 2, 1),\n",
       " (1, 0, 2),\n",
       " (1, 2, 0),\n",
       " (2, 0, 1),\n",
       " (2, 1, 0),\n",
       " (0, -1, 2),\n",
       " (0, 2, -1),\n",
       " (-1, 0, 2),\n",
       " (-1, 2, 0),\n",
       " (2, 0, -1),\n",
       " (2, -1, 0),\n",
       " (0, 1, -2),\n",
       " (0, -2, 1),\n",
       " (1, 0, -2),\n",
       " (1, -2, 0),\n",
       " (-2, 0, 1),\n",
       " (-2, 1, 0),\n",
       " (0, -1, -2),\n",
       " (0, -2, -1),\n",
       " (-1, 0, -2),\n",
       " (-1, -2, 0),\n",
       " (-2, 0, -1),\n",
       " (-2, -1, 0)]"
      ]
     },
     "execution_count": 19,
     "metadata": {},
     "output_type": "execute_result"
    }
   ],
   "source": [
    "ex_board.moves"
   ]
  },
  {
   "cell_type": "code",
   "execution_count": 130,
   "id": "2ab53d45",
   "metadata": {},
   "outputs": [
    {
     "data": {
      "text/plain": [
       "3"
      ]
     },
     "execution_count": 130,
     "metadata": {},
     "output_type": "execute_result"
    }
   ],
   "source": [
    "a = [[2,2],[3,0]]\n",
    "a[1][0]"
   ]
  },
  {
   "cell_type": "code",
   "execution_count": 2,
   "id": "fa3af876",
   "metadata": {},
   "outputs": [],
   "source": [
    "sample_board = Board([[11,10,11,14],[8,6,9,9],[10,4,3,1],[7,6,5,0]], [3,0])"
   ]
  },
  {
   "cell_type": "code",
   "execution_count": 4,
   "id": "26d8b4ca",
   "metadata": {},
   "outputs": [],
   "source": [
    "sample_board.wait()"
   ]
  },
  {
   "cell_type": "code",
   "execution_count": 5,
   "id": "32cb6de4",
   "metadata": {},
   "outputs": [
    {
     "data": {
      "text/plain": [
       "[[3, 2], [1, 1]]"
      ]
     },
     "execution_count": 5,
     "metadata": {},
     "output_type": "execute_result"
    }
   ],
   "source": [
    "sample_board.get_candidate_moves()"
   ]
  },
  {
   "cell_type": "code",
   "execution_count": 6,
   "id": "3547cdf3",
   "metadata": {},
   "outputs": [],
   "source": [
    "sample_board.move([1,1])"
   ]
  },
  {
   "cell_type": "code",
   "execution_count": 7,
   "id": "9b5f72f4",
   "metadata": {},
   "outputs": [
    {
     "data": {
      "text/plain": [
       "[[1, 0], [3, 0], [2, 1]]"
      ]
     },
     "execution_count": 7,
     "metadata": {},
     "output_type": "execute_result"
    }
   ],
   "source": [
    "sample_board.get_candidate_moves()"
   ]
  },
  {
   "cell_type": "code",
   "execution_count": 8,
   "id": "ec0ddeda",
   "metadata": {},
   "outputs": [],
   "source": [
    "sample_board.move([1,0])"
   ]
  },
  {
   "cell_type": "code",
   "execution_count": 9,
   "id": "770c3eca",
   "metadata": {},
   "outputs": [
    {
     "data": {
      "text/plain": [
       "[[1, 2], [2, 0], [1, 1]]"
      ]
     },
     "execution_count": 9,
     "metadata": {},
     "output_type": "execute_result"
    }
   ],
   "source": [
    "sample_board.get_candidate_moves()"
   ]
  },
  {
   "cell_type": "code",
   "execution_count": 10,
   "id": "0ea4afee",
   "metadata": {},
   "outputs": [],
   "source": [
    "sample_board.move([2,0])"
   ]
  },
  {
   "cell_type": "code",
   "execution_count": 11,
   "id": "ef9614fc",
   "metadata": {},
   "outputs": [
    {
     "data": {
      "text/plain": [
       "[[0, 0], [0, 1], [1, 0]]"
      ]
     },
     "execution_count": 11,
     "metadata": {},
     "output_type": "execute_result"
    }
   ],
   "source": [
    "sample_board.get_candidate_moves()"
   ]
  },
  {
   "cell_type": "code",
   "execution_count": 12,
   "id": "19d1e278",
   "metadata": {},
   "outputs": [],
   "source": [
    "sample_board.move([0,1])"
   ]
  },
  {
   "cell_type": "code",
   "execution_count": 13,
   "id": "73ba8ec8",
   "metadata": {},
   "outputs": [],
   "source": [
    "sample_board.wait()\n",
    "sample_board.keep_waiting()\n",
    "sample_board.keep_waiting()\n",
    "sample_board.keep_waiting()\n",
    "sample_board.keep_waiting()"
   ]
  },
  {
   "cell_type": "code",
   "execution_count": 14,
   "id": "562557f5",
   "metadata": {},
   "outputs": [
    {
     "data": {
      "text/plain": [
       "[[2, 0]]"
      ]
     },
     "execution_count": 14,
     "metadata": {},
     "output_type": "execute_result"
    }
   ],
   "source": [
    "sample_board.get_candidate_moves()"
   ]
  },
  {
   "cell_type": "code",
   "execution_count": 15,
   "id": "fcbcbe67",
   "metadata": {},
   "outputs": [],
   "source": [
    "sample_board.move([2,0])"
   ]
  },
  {
   "cell_type": "code",
   "execution_count": 16,
   "id": "2b24e7df",
   "metadata": {},
   "outputs": [
    {
     "name": "stdout",
     "output_type": "stream",
     "text": [
      "[[11, 7.5, 11, 15.0], [8, 6, 9, 9], [7.5, 4, 3, 1], [6.0, 6, 7.5, 0]]\n"
     ]
    }
   ],
   "source": [
    "print(sample_board.values)"
   ]
  },
  {
   "cell_type": "code",
   "execution_count": 18,
   "id": "39ddf06f",
   "metadata": {},
   "outputs": [
    {
     "data": {
      "text/plain": [
       "[]"
      ]
     },
     "execution_count": 18,
     "metadata": {},
     "output_type": "execute_result"
    }
   ],
   "source": [
    "sample_board.other_peaks"
   ]
  },
  {
   "cell_type": "code",
   "execution_count": 123,
   "id": "b6763df0",
   "metadata": {},
   "outputs": [
    {
     "data": {
      "text/plain": [
       "[[1, 3], [2, 0]]"
      ]
     },
     "execution_count": 123,
     "metadata": {},
     "output_type": "execute_result"
    }
   ],
   "source": []
  },
  {
   "cell_type": "code",
   "execution_count": 124,
   "id": "f63fdce0",
   "metadata": {},
   "outputs": [],
   "source": []
  },
  {
   "cell_type": "code",
   "execution_count": 159,
   "id": "23e4ce3c",
   "metadata": {},
   "outputs": [],
   "source": [
    "import copy\n"
   ]
  },
  {
   "cell_type": "code",
   "execution_count": 20,
   "id": "6c46f37c",
   "metadata": {},
   "outputs": [],
   "source": [
    "import copy\n",
    "def bfs_search():\n",
    "    \n",
    "#     board = Board([[9,8,10,12,11,8,10,17],\n",
    "#                    [7,9,11,9,10,12,14,12],\n",
    "#                    [4,7,5,8,8,6,13,10],\n",
    "#                    [4,10,7,9,6,8,7,9],\n",
    "#                    [2,6,4,2,5,9,8,11],\n",
    "#                    [0,3,1,4,2,7,10,7],\n",
    "#                    [1,2,0,1,2,5,7,6],\n",
    "#                    [0,2,4,3,5,6,2,4]] , [7,0])\n",
    "    board = Board([[11,10,11,14],[8,6,9,9],[10,4,3,1],[7,6,5,0]], [3,0])\n",
    "    \n",
    "    q = []\n",
    "    \n",
    "    q.append(board)\n",
    "    loop = 0\n",
    "    while loop < 100000:\n",
    "        current = q.pop()\n",
    "        \n",
    "        if current.x == 0 and current.y == 3:\n",
    "            print( 'tour success in ' + str(current.waited) + ' mins')\n",
    "            continue\n",
    "    \n",
    "        \n",
    "        moves = current.get_candidate_moves()\n",
    "        for i in moves:\n",
    "            temp = copy.deepcopy(current)\n",
    "            temp.move(i)\n",
    "            q.append(temp)\n",
    "        \n",
    "        if not current.prev_waited:\n",
    "            temp = copy.deepcopy(current)\n",
    "            temp.wait()\n",
    "            q.append(temp)\n",
    "        if current.prev_waited:\n",
    "            temp = copy.deepcopy(current)\n",
    "            temp.keep_waiting()\n",
    "            q.append(temp)\n",
    "\n",
    "        \n",
    "        loop = loop+1\n",
    "        \n",
    "        \n",
    "        \n",
    "    \n",
    "    "
   ]
  },
  {
   "cell_type": "code",
   "execution_count": 21,
   "id": "47dd7d03",
   "metadata": {},
   "outputs": [
    {
     "ename": "KeyboardInterrupt",
     "evalue": "",
     "output_type": "error",
     "traceback": [
      "\u001b[1;31m---------------------------------------------------------------------------\u001b[0m",
      "\u001b[1;31mKeyboardInterrupt\u001b[0m                         Traceback (most recent call last)",
      "\u001b[1;32m~\\AppData\\Local\\Temp/ipykernel_23400/1763754764.py\u001b[0m in \u001b[0;36m<module>\u001b[1;34m\u001b[0m\n\u001b[1;32m----> 1\u001b[1;33m \u001b[0mbfs_search\u001b[0m\u001b[1;33m(\u001b[0m\u001b[1;33m)\u001b[0m\u001b[1;33m\u001b[0m\u001b[1;33m\u001b[0m\u001b[0m\n\u001b[0m",
      "\u001b[1;32m~\\AppData\\Local\\Temp/ipykernel_23400/2946500733.py\u001b[0m in \u001b[0;36mbfs_search\u001b[1;34m()\u001b[0m\n\u001b[0;32m     35\u001b[0m             \u001b[0mq\u001b[0m\u001b[1;33m.\u001b[0m\u001b[0mappend\u001b[0m\u001b[1;33m(\u001b[0m\u001b[0mtemp\u001b[0m\u001b[1;33m)\u001b[0m\u001b[1;33m\u001b[0m\u001b[1;33m\u001b[0m\u001b[0m\n\u001b[0;32m     36\u001b[0m         \u001b[1;32mif\u001b[0m \u001b[0mcurrent\u001b[0m\u001b[1;33m.\u001b[0m\u001b[0mprev_waited\u001b[0m\u001b[1;33m:\u001b[0m\u001b[1;33m\u001b[0m\u001b[1;33m\u001b[0m\u001b[0m\n\u001b[1;32m---> 37\u001b[1;33m             \u001b[0mtemp\u001b[0m \u001b[1;33m=\u001b[0m \u001b[0mcopy\u001b[0m\u001b[1;33m.\u001b[0m\u001b[0mdeepcopy\u001b[0m\u001b[1;33m(\u001b[0m\u001b[0mcurrent\u001b[0m\u001b[1;33m)\u001b[0m\u001b[1;33m\u001b[0m\u001b[1;33m\u001b[0m\u001b[0m\n\u001b[0m\u001b[0;32m     38\u001b[0m             \u001b[0mtemp\u001b[0m\u001b[1;33m.\u001b[0m\u001b[0mkeep_waiting\u001b[0m\u001b[1;33m(\u001b[0m\u001b[1;33m)\u001b[0m\u001b[1;33m\u001b[0m\u001b[1;33m\u001b[0m\u001b[0m\n\u001b[0;32m     39\u001b[0m             \u001b[0mq\u001b[0m\u001b[1;33m.\u001b[0m\u001b[0mappend\u001b[0m\u001b[1;33m(\u001b[0m\u001b[0mtemp\u001b[0m\u001b[1;33m)\u001b[0m\u001b[1;33m\u001b[0m\u001b[1;33m\u001b[0m\u001b[0m\n",
      "\u001b[1;32m~\\Anaconda3\\lib\\copy.py\u001b[0m in \u001b[0;36mdeepcopy\u001b[1;34m(x, memo, _nil)\u001b[0m\n\u001b[0;32m    170\u001b[0m                     \u001b[0my\u001b[0m \u001b[1;33m=\u001b[0m \u001b[0mx\u001b[0m\u001b[1;33m\u001b[0m\u001b[1;33m\u001b[0m\u001b[0m\n\u001b[0;32m    171\u001b[0m                 \u001b[1;32melse\u001b[0m\u001b[1;33m:\u001b[0m\u001b[1;33m\u001b[0m\u001b[1;33m\u001b[0m\u001b[0m\n\u001b[1;32m--> 172\u001b[1;33m                     \u001b[0my\u001b[0m \u001b[1;33m=\u001b[0m \u001b[0m_reconstruct\u001b[0m\u001b[1;33m(\u001b[0m\u001b[0mx\u001b[0m\u001b[1;33m,\u001b[0m \u001b[0mmemo\u001b[0m\u001b[1;33m,\u001b[0m \u001b[1;33m*\u001b[0m\u001b[0mrv\u001b[0m\u001b[1;33m)\u001b[0m\u001b[1;33m\u001b[0m\u001b[1;33m\u001b[0m\u001b[0m\n\u001b[0m\u001b[0;32m    173\u001b[0m \u001b[1;33m\u001b[0m\u001b[0m\n\u001b[0;32m    174\u001b[0m     \u001b[1;31m# If is its own copy, don't memoize.\u001b[0m\u001b[1;33m\u001b[0m\u001b[1;33m\u001b[0m\u001b[0m\n",
      "\u001b[1;32m~\\Anaconda3\\lib\\copy.py\u001b[0m in \u001b[0;36m_reconstruct\u001b[1;34m(x, memo, func, args, state, listiter, dictiter, deepcopy)\u001b[0m\n\u001b[0;32m    268\u001b[0m     \u001b[1;32mif\u001b[0m \u001b[0mstate\u001b[0m \u001b[1;32mis\u001b[0m \u001b[1;32mnot\u001b[0m \u001b[1;32mNone\u001b[0m\u001b[1;33m:\u001b[0m\u001b[1;33m\u001b[0m\u001b[1;33m\u001b[0m\u001b[0m\n\u001b[0;32m    269\u001b[0m         \u001b[1;32mif\u001b[0m \u001b[0mdeep\u001b[0m\u001b[1;33m:\u001b[0m\u001b[1;33m\u001b[0m\u001b[1;33m\u001b[0m\u001b[0m\n\u001b[1;32m--> 270\u001b[1;33m             \u001b[0mstate\u001b[0m \u001b[1;33m=\u001b[0m \u001b[0mdeepcopy\u001b[0m\u001b[1;33m(\u001b[0m\u001b[0mstate\u001b[0m\u001b[1;33m,\u001b[0m \u001b[0mmemo\u001b[0m\u001b[1;33m)\u001b[0m\u001b[1;33m\u001b[0m\u001b[1;33m\u001b[0m\u001b[0m\n\u001b[0m\u001b[0;32m    271\u001b[0m         \u001b[1;32mif\u001b[0m \u001b[0mhasattr\u001b[0m\u001b[1;33m(\u001b[0m\u001b[0my\u001b[0m\u001b[1;33m,\u001b[0m \u001b[1;34m'__setstate__'\u001b[0m\u001b[1;33m)\u001b[0m\u001b[1;33m:\u001b[0m\u001b[1;33m\u001b[0m\u001b[1;33m\u001b[0m\u001b[0m\n\u001b[0;32m    272\u001b[0m             \u001b[0my\u001b[0m\u001b[1;33m.\u001b[0m\u001b[0m__setstate__\u001b[0m\u001b[1;33m(\u001b[0m\u001b[0mstate\u001b[0m\u001b[1;33m)\u001b[0m\u001b[1;33m\u001b[0m\u001b[1;33m\u001b[0m\u001b[0m\n",
      "\u001b[1;32m~\\Anaconda3\\lib\\copy.py\u001b[0m in \u001b[0;36mdeepcopy\u001b[1;34m(x, memo, _nil)\u001b[0m\n\u001b[0;32m    144\u001b[0m     \u001b[0mcopier\u001b[0m \u001b[1;33m=\u001b[0m \u001b[0m_deepcopy_dispatch\u001b[0m\u001b[1;33m.\u001b[0m\u001b[0mget\u001b[0m\u001b[1;33m(\u001b[0m\u001b[0mcls\u001b[0m\u001b[1;33m)\u001b[0m\u001b[1;33m\u001b[0m\u001b[1;33m\u001b[0m\u001b[0m\n\u001b[0;32m    145\u001b[0m     \u001b[1;32mif\u001b[0m \u001b[0mcopier\u001b[0m \u001b[1;32mis\u001b[0m \u001b[1;32mnot\u001b[0m \u001b[1;32mNone\u001b[0m\u001b[1;33m:\u001b[0m\u001b[1;33m\u001b[0m\u001b[1;33m\u001b[0m\u001b[0m\n\u001b[1;32m--> 146\u001b[1;33m         \u001b[0my\u001b[0m \u001b[1;33m=\u001b[0m \u001b[0mcopier\u001b[0m\u001b[1;33m(\u001b[0m\u001b[0mx\u001b[0m\u001b[1;33m,\u001b[0m \u001b[0mmemo\u001b[0m\u001b[1;33m)\u001b[0m\u001b[1;33m\u001b[0m\u001b[1;33m\u001b[0m\u001b[0m\n\u001b[0m\u001b[0;32m    147\u001b[0m     \u001b[1;32melse\u001b[0m\u001b[1;33m:\u001b[0m\u001b[1;33m\u001b[0m\u001b[1;33m\u001b[0m\u001b[0m\n\u001b[0;32m    148\u001b[0m         \u001b[1;32mif\u001b[0m \u001b[0missubclass\u001b[0m\u001b[1;33m(\u001b[0m\u001b[0mcls\u001b[0m\u001b[1;33m,\u001b[0m \u001b[0mtype\u001b[0m\u001b[1;33m)\u001b[0m\u001b[1;33m:\u001b[0m\u001b[1;33m\u001b[0m\u001b[1;33m\u001b[0m\u001b[0m\n",
      "\u001b[1;32m~\\Anaconda3\\lib\\copy.py\u001b[0m in \u001b[0;36m_deepcopy_dict\u001b[1;34m(x, memo, deepcopy)\u001b[0m\n\u001b[0;32m    228\u001b[0m     \u001b[0mmemo\u001b[0m\u001b[1;33m[\u001b[0m\u001b[0mid\u001b[0m\u001b[1;33m(\u001b[0m\u001b[0mx\u001b[0m\u001b[1;33m)\u001b[0m\u001b[1;33m]\u001b[0m \u001b[1;33m=\u001b[0m \u001b[0my\u001b[0m\u001b[1;33m\u001b[0m\u001b[1;33m\u001b[0m\u001b[0m\n\u001b[0;32m    229\u001b[0m     \u001b[1;32mfor\u001b[0m \u001b[0mkey\u001b[0m\u001b[1;33m,\u001b[0m \u001b[0mvalue\u001b[0m \u001b[1;32min\u001b[0m \u001b[0mx\u001b[0m\u001b[1;33m.\u001b[0m\u001b[0mitems\u001b[0m\u001b[1;33m(\u001b[0m\u001b[1;33m)\u001b[0m\u001b[1;33m:\u001b[0m\u001b[1;33m\u001b[0m\u001b[1;33m\u001b[0m\u001b[0m\n\u001b[1;32m--> 230\u001b[1;33m         \u001b[0my\u001b[0m\u001b[1;33m[\u001b[0m\u001b[0mdeepcopy\u001b[0m\u001b[1;33m(\u001b[0m\u001b[0mkey\u001b[0m\u001b[1;33m,\u001b[0m \u001b[0mmemo\u001b[0m\u001b[1;33m)\u001b[0m\u001b[1;33m]\u001b[0m \u001b[1;33m=\u001b[0m \u001b[0mdeepcopy\u001b[0m\u001b[1;33m(\u001b[0m\u001b[0mvalue\u001b[0m\u001b[1;33m,\u001b[0m \u001b[0mmemo\u001b[0m\u001b[1;33m)\u001b[0m\u001b[1;33m\u001b[0m\u001b[1;33m\u001b[0m\u001b[0m\n\u001b[0m\u001b[0;32m    231\u001b[0m     \u001b[1;32mreturn\u001b[0m \u001b[0my\u001b[0m\u001b[1;33m\u001b[0m\u001b[1;33m\u001b[0m\u001b[0m\n\u001b[0;32m    232\u001b[0m \u001b[0md\u001b[0m\u001b[1;33m[\u001b[0m\u001b[0mdict\u001b[0m\u001b[1;33m]\u001b[0m \u001b[1;33m=\u001b[0m \u001b[0m_deepcopy_dict\u001b[0m\u001b[1;33m\u001b[0m\u001b[1;33m\u001b[0m\u001b[0m\n",
      "\u001b[1;32m~\\Anaconda3\\lib\\copy.py\u001b[0m in \u001b[0;36mdeepcopy\u001b[1;34m(x, memo, _nil)\u001b[0m\n\u001b[0;32m    144\u001b[0m     \u001b[0mcopier\u001b[0m \u001b[1;33m=\u001b[0m \u001b[0m_deepcopy_dispatch\u001b[0m\u001b[1;33m.\u001b[0m\u001b[0mget\u001b[0m\u001b[1;33m(\u001b[0m\u001b[0mcls\u001b[0m\u001b[1;33m)\u001b[0m\u001b[1;33m\u001b[0m\u001b[1;33m\u001b[0m\u001b[0m\n\u001b[0;32m    145\u001b[0m     \u001b[1;32mif\u001b[0m \u001b[0mcopier\u001b[0m \u001b[1;32mis\u001b[0m \u001b[1;32mnot\u001b[0m \u001b[1;32mNone\u001b[0m\u001b[1;33m:\u001b[0m\u001b[1;33m\u001b[0m\u001b[1;33m\u001b[0m\u001b[0m\n\u001b[1;32m--> 146\u001b[1;33m         \u001b[0my\u001b[0m \u001b[1;33m=\u001b[0m \u001b[0mcopier\u001b[0m\u001b[1;33m(\u001b[0m\u001b[0mx\u001b[0m\u001b[1;33m,\u001b[0m \u001b[0mmemo\u001b[0m\u001b[1;33m)\u001b[0m\u001b[1;33m\u001b[0m\u001b[1;33m\u001b[0m\u001b[0m\n\u001b[0m\u001b[0;32m    147\u001b[0m     \u001b[1;32melse\u001b[0m\u001b[1;33m:\u001b[0m\u001b[1;33m\u001b[0m\u001b[1;33m\u001b[0m\u001b[0m\n\u001b[0;32m    148\u001b[0m         \u001b[1;32mif\u001b[0m \u001b[0missubclass\u001b[0m\u001b[1;33m(\u001b[0m\u001b[0mcls\u001b[0m\u001b[1;33m,\u001b[0m \u001b[0mtype\u001b[0m\u001b[1;33m)\u001b[0m\u001b[1;33m:\u001b[0m\u001b[1;33m\u001b[0m\u001b[1;33m\u001b[0m\u001b[0m\n",
      "\u001b[1;32m~\\Anaconda3\\lib\\copy.py\u001b[0m in \u001b[0;36m_deepcopy_list\u001b[1;34m(x, memo, deepcopy)\u001b[0m\n\u001b[0;32m    203\u001b[0m     \u001b[0mappend\u001b[0m \u001b[1;33m=\u001b[0m \u001b[0my\u001b[0m\u001b[1;33m.\u001b[0m\u001b[0mappend\u001b[0m\u001b[1;33m\u001b[0m\u001b[1;33m\u001b[0m\u001b[0m\n\u001b[0;32m    204\u001b[0m     \u001b[1;32mfor\u001b[0m \u001b[0ma\u001b[0m \u001b[1;32min\u001b[0m \u001b[0mx\u001b[0m\u001b[1;33m:\u001b[0m\u001b[1;33m\u001b[0m\u001b[1;33m\u001b[0m\u001b[0m\n\u001b[1;32m--> 205\u001b[1;33m         \u001b[0mappend\u001b[0m\u001b[1;33m(\u001b[0m\u001b[0mdeepcopy\u001b[0m\u001b[1;33m(\u001b[0m\u001b[0ma\u001b[0m\u001b[1;33m,\u001b[0m \u001b[0mmemo\u001b[0m\u001b[1;33m)\u001b[0m\u001b[1;33m)\u001b[0m\u001b[1;33m\u001b[0m\u001b[1;33m\u001b[0m\u001b[0m\n\u001b[0m\u001b[0;32m    206\u001b[0m     \u001b[1;32mreturn\u001b[0m \u001b[0my\u001b[0m\u001b[1;33m\u001b[0m\u001b[1;33m\u001b[0m\u001b[0m\n\u001b[0;32m    207\u001b[0m \u001b[0md\u001b[0m\u001b[1;33m[\u001b[0m\u001b[0mlist\u001b[0m\u001b[1;33m]\u001b[0m \u001b[1;33m=\u001b[0m \u001b[0m_deepcopy_list\u001b[0m\u001b[1;33m\u001b[0m\u001b[1;33m\u001b[0m\u001b[0m\n",
      "\u001b[1;31mKeyboardInterrupt\u001b[0m: "
     ]
    }
   ],
   "source": [
    "bfs_search()"
   ]
  },
  {
   "cell_type": "code",
   "execution_count": 1,
   "id": "cc95b88f",
   "metadata": {},
   "outputs": [
    {
     "data": {
      "text/plain": [
       "613"
      ]
     },
     "execution_count": 1,
     "metadata": {},
     "output_type": "execute_result"
    }
   ],
   "source": [
    "sum([0, 0, 0, 0, 0, 0, 0, 0, 0, 54, 18, 0, 0, 0, 0, 6, 0, 0, 0, 4, 0, 0, 0, 0, 0, 0, 0, 0, 1, 0, 0, 0, 16, 12, 32, 0, 0, 35, 0, 20, 95, 0, 0, 0, 25, 0, 24, 0, 0, 21, 102, 0, 0, 0, 0, 0, 28, 99, 21])"
   ]
  },
  {
   "cell_type": "code",
   "execution_count": null,
   "id": "c61b880a",
   "metadata": {},
   "outputs": [],
   "source": []
  }
 ],
 "metadata": {
  "kernelspec": {
   "display_name": "Python 3 (ipykernel)",
   "language": "python",
   "name": "python3"
  },
  "language_info": {
   "codemirror_mode": {
    "name": "ipython",
    "version": 3
   },
   "file_extension": ".py",
   "mimetype": "text/x-python",
   "name": "python",
   "nbconvert_exporter": "python",
   "pygments_lexer": "ipython3",
   "version": "3.9.7"
  }
 },
 "nbformat": 4,
 "nbformat_minor": 5
}
