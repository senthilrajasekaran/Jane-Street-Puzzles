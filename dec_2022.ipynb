{
 "cells": [
  {
   "cell_type": "code",
   "execution_count": 1,
   "id": "c72bd82a",
   "metadata": {},
   "outputs": [],
   "source": [
    "# need a model for dice.\n",
    "# 6 faces of the die. 6 value array. [top, forward, left, backwards, right, bottom]\n",
    "# orange top, light green forward. \n",
    "# [orange, light green, dark green, white, blue, pink]\n",
    "# [0,1,2,3,4,5]\n",
    "# after moving north\n",
    "# [white, orange, dark green, pink, blue, light green]\n",
    "# [3,0,2,5,4,1]\n",
    "# after moving south\n",
    "# [light green, pink, dark green, orange, blue, white]\n",
    "# [1,5,2,0,4,3]\n",
    "# after moving west/right\n",
    "# [dark green, light green, pink, white, orange, blue]\n",
    "# [2,1,5,3,0,4]\n",
    "# after moving left/east\n",
    "# [blue, light green, orange, white, pink, dark green]\n",
    "# [4,1,0,3,5,2]"
   ]
  },
  {
   "cell_type": "code",
   "execution_count": 1,
   "id": "75fe6837",
   "metadata": {},
   "outputs": [],
   "source": [
    "def permute(array, new_indices):\n",
    "    new_array = []\n",
    "    for i in new_indices:\n",
    "        new_array.append( array[i])\n",
    "    return new_array\n",
    "        "
   ]
  },
  {
   "cell_type": "code",
   "execution_count": 2,
   "id": "41450b75",
   "metadata": {},
   "outputs": [
    {
     "data": {
      "text/plain": [
       "[2, 3, 0, 1, 5, 4]"
      ]
     },
     "execution_count": 2,
     "metadata": {},
     "output_type": "execute_result"
    }
   ],
   "source": [
    "permute(permute(permute( [0,1,2,3,4,5], [3,0,2,5,4,1]), [3,0,2,5,4,1]), [2,1,5,3,0,4])"
   ]
  },
  {
   "cell_type": "code",
   "execution_count": 8,
   "id": "338269f5",
   "metadata": {},
   "outputs": [],
   "source": [
    "def directions(pos):\n",
    "    possible = []\n",
    "    \n",
    "    if pos[0] != 0:\n",
    "        possible.append([-1,0])\n",
    "        #north\n",
    "    if pos[0] != 5:\n",
    "        possible.append([1,0])\n",
    "        #south\n",
    "    if pos[1] != 0:\n",
    "        possible.append([0, -1])\n",
    "        #left\n",
    "    if pos[1] != 5:\n",
    "        possible.append([0, 1])\n",
    "        #right\n",
    "    return possible\n",
    "\n",
    "directions([5,5])\n",
    "\n",
    "def move(die,pos,d):\n",
    "    \n",
    "    if  d == [-1,0]:\n",
    "        die = permute(die, [3,0,2,5,4,1])\n",
    "    if  d == [1,0]:\n",
    "        die = permute (die, [1,5,2,0,4,3])\n",
    "    if  d == [0, -1]:\n",
    "        die = permute (die ,[4,1,0,3,5,2])\n",
    "    if  d == [0, 1]:\n",
    "        die = permute (die, [2,1,5,3,0,4])\n",
    "    \n",
    "    pos[0] = pos[0] + d[0]\n",
    "    pos[1] = pos[1] + d[1]\n",
    "    \n",
    "    return [die,pos]\n",
    "        \n",
    "    \n",
    "    \n"
   ]
  },
  {
   "cell_type": "code",
   "execution_count": 4,
   "id": "005ed48b",
   "metadata": {},
   "outputs": [
    {
     "data": {
      "text/plain": [
       "False"
      ]
     },
     "execution_count": 4,
     "metadata": {},
     "output_type": "execute_result"
    }
   ],
   "source": [
    "def solve(top,score, value, n):\n",
    "    if top == 'x':\n",
    "        if (value - score)%n != 0:\n",
    "            return False\n",
    "        else:\n",
    "            return (value - score)//n\n",
    "    else:\n",
    "        # top has already been given a number\n",
    "        if score + (n* top) != value:\n",
    "            return False\n",
    "        return True\n",
    "solve(3, 4, 6, 2)\n",
    "        \n",
    "    \n",
    "    \n",
    "    "
   ]
  },
  {
   "cell_type": "code",
   "execution_count": 5,
   "id": "17530bcc",
   "metadata": {},
   "outputs": [],
   "source": [
    "grid = [[57,33,132,268,492,732],[81,123,240,443,353,508], [186,42,195,704,452,228],[-7,2,357,452,317,395],[5,23,-4,592,445,620],[0,77,32,403,337,452]]"
   ]
  },
  {
   "cell_type": "code",
   "execution_count": 6,
   "id": "63f06196",
   "metadata": {},
   "outputs": [
    {
     "data": {
      "text/plain": [
       "[[57, 33, 132, 268, 492, 732],\n",
       " [81, 123, 240, 443, 353, 508],\n",
       " [186, 42, 195, 704, 452, 228],\n",
       " [-7, 2, 357, 452, 317, 395],\n",
       " [5, 23, -4, 592, 445, 620],\n",
       " [0, 77, 32, 403, 337, 452]]"
      ]
     },
     "execution_count": 6,
     "metadata": {},
     "output_type": "execute_result"
    }
   ],
   "source": [
    "grid"
   ]
  },
  {
   "cell_type": "code",
   "execution_count": 50,
   "id": "fb68ccbc",
   "metadata": {},
   "outputs": [],
   "source": [
    "from copy import copy\n",
    "def dfs():\n",
    "    die = [\"x\",\"x\",\"x\",\"x\",\"x\",\"x\"]\n",
    "    score = 0\n",
    "    position = [5,0]\n",
    "    \n",
    "    stats = [die,score,position,0,[],[]]\n",
    "    \n",
    "    q = [stats]\n",
    "    \n",
    "    while(q):\n",
    "        \n",
    "        current = q.pop()\n",
    "        d = directions(current[2])\n",
    "        \n",
    "        if current[2] == [0,5]:\n",
    "            print(current)\n",
    "            break\n",
    "        \n",
    "        for i in d:\n",
    "            movement = move(current[0].copy(), current[2].copy(), i)\n",
    "            die = movement[0].copy()\n",
    "            pos = movement[1].copy()\n",
    "            resultant = solve( die[0],current[1], grid[pos[0]][pos[1]],current[3]+1 )\n",
    "            if resultant:\n",
    "                if resultant != True:\n",
    "                    die[0] = resultant\n",
    "                seen = current[4].copy()\n",
    "                seen.append(grid[current[2][0]][current[2][1]])\n",
    "                past = current[5].copy()\n",
    "                past.append(current[2])\n",
    "                good_move = [die, grid[pos[0]][pos[1]], pos, current[3] +1,seen,past]\n",
    "                q.append(good_move)\n",
    "    \n",
    "            \n",
    "        \n",
    "        "
   ]
  },
  {
   "cell_type": "code",
   "execution_count": 51,
   "id": "02dbf3b3",
   "metadata": {},
   "outputs": [
    {
     "name": "stdout",
     "output_type": "stream",
     "text": [
      "[[7, 5, 9, -9, -3, 9], 732, [0, 5], 32, [0, 5, 23, -4, 32, 77, 23, 2, 42, 123, 33, 132, 240, 123, 81, 186, 42, 195, 357, 452, 592, 403, 337, 452, 620, 395, 317, 452, 704, 443, 353, 508], [[5, 0], [4, 0], [4, 1], [4, 2], [5, 2], [5, 1], [4, 1], [3, 1], [2, 1], [1, 1], [0, 1], [0, 2], [1, 2], [1, 1], [1, 0], [2, 0], [2, 1], [2, 2], [3, 2], [3, 3], [4, 3], [5, 3], [5, 4], [5, 5], [4, 5], [3, 5], [3, 4], [3, 3], [2, 3], [1, 3], [1, 4], [1, 5]]]\n"
     ]
    }
   ],
   "source": [
    "dfs()"
   ]
  },
  {
   "cell_type": "code",
   "execution_count": 53,
   "id": "489ea9f7",
   "metadata": {},
   "outputs": [],
   "source": [
    "path = [[5, 0], [4, 0], [4, 1], [4, 2], [5, 2], [5, 1], [4, 1], [3, 1], [2, 1], [1, 1], [0, 1], [0, 2], [1, 2], [1, 1], [1, 0], [2, 0], [2, 1], [2, 2], [3, 2], [3, 3], [4, 3], [5, 3], [5, 4], [5, 5], [4, 5], [3, 5], [3, 4], [3, 3], [2, 3], [1, 3], [1, 4], [1, 5]]"
   ]
  },
  {
   "cell_type": "code",
   "execution_count": 54,
   "id": "3aba6f8f",
   "metadata": {},
   "outputs": [],
   "source": [
    "path.append([0,5])"
   ]
  },
  {
   "cell_type": "code",
   "execution_count": 55,
   "id": "6683dc99",
   "metadata": {},
   "outputs": [
    {
     "data": {
      "text/plain": [
       "[[5, 0],\n",
       " [4, 0],\n",
       " [4, 1],\n",
       " [4, 2],\n",
       " [5, 2],\n",
       " [5, 1],\n",
       " [4, 1],\n",
       " [3, 1],\n",
       " [2, 1],\n",
       " [1, 1],\n",
       " [0, 1],\n",
       " [0, 2],\n",
       " [1, 2],\n",
       " [1, 1],\n",
       " [1, 0],\n",
       " [2, 0],\n",
       " [2, 1],\n",
       " [2, 2],\n",
       " [3, 2],\n",
       " [3, 3],\n",
       " [4, 3],\n",
       " [5, 3],\n",
       " [5, 4],\n",
       " [5, 5],\n",
       " [4, 5],\n",
       " [3, 5],\n",
       " [3, 4],\n",
       " [3, 3],\n",
       " [2, 3],\n",
       " [1, 3],\n",
       " [1, 4],\n",
       " [1, 5],\n",
       " [0, 5]]"
      ]
     },
     "execution_count": 55,
     "metadata": {},
     "output_type": "execute_result"
    }
   ],
   "source": [
    "path"
   ]
  },
  {
   "cell_type": "code",
   "execution_count": 59,
   "id": "839ff2c0",
   "metadata": {},
   "outputs": [
    {
     "name": "stdout",
     "output_type": "stream",
     "text": [
      "[57]\n",
      "[268]\n",
      "[492]\n",
      "[452]\n",
      "[228]\n",
      "[-7]\n",
      "[445]\n"
     ]
    },
    {
     "data": {
      "text/plain": [
       "1935"
      ]
     },
     "execution_count": 59,
     "metadata": {},
     "output_type": "execute_result"
    }
   ],
   "source": [
    "s = 0\n",
    "for i in [0,1,2,3,4,5]:\n",
    "    for j in [0,1,2,3,4,5]:\n",
    "        if [i,j] not in path:\n",
    "            print([grid[i][j]])\n",
    "            s += grid[i][j]\n",
    "s"
   ]
  },
  {
   "cell_type": "code",
   "execution_count": 57,
   "id": "96127623",
   "metadata": {},
   "outputs": [
    {
     "name": "stdout",
     "output_type": "stream",
     "text": [
      "0\n",
      "5\n"
     ]
    }
   ],
   "source": [
    "for i in [0,5]:\n",
    "    print(i)"
   ]
  },
  {
   "cell_type": "code",
   "execution_count": null,
   "id": "050b337a",
   "metadata": {},
   "outputs": [],
   "source": []
  }
 ],
 "metadata": {
  "kernelspec": {
   "display_name": "Python 3 (ipykernel)",
   "language": "python",
   "name": "python3"
  },
  "language_info": {
   "codemirror_mode": {
    "name": "ipython",
    "version": 3
   },
   "file_extension": ".py",
   "mimetype": "text/x-python",
   "name": "python",
   "nbconvert_exporter": "python",
   "pygments_lexer": "ipython3",
   "version": "3.9.7"
  }
 },
 "nbformat": 4,
 "nbformat_minor": 5
}
