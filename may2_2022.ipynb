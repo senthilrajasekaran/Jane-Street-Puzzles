{
 "cells": [
  {
   "cell_type": "code",
   "execution_count": 18,
   "id": "c8559721",
   "metadata": {},
   "outputs": [
    {
     "data": {
      "text/plain": [
       "4945"
      ]
     },
     "execution_count": 18,
     "metadata": {},
     "output_type": "execute_result"
    }
   ],
   "source": [
    "def multinomial(race):\n",
    "    tot =  40320\n",
    "    for i in range(24):\n",
    "        tot = tot // factorial(race.count(i))\n",
    "    return tot\n",
    "    \n",
    "\n",
    "def factorial(n):\n",
    "    if n==0:\n",
    "        return 1\n",
    "    return n* factorial(n-1)\n",
    "\n",
    "def choose(n,k):\n",
    "    return factorial(n)//(factorial(k)*factorial(n-k))\n",
    "\n",
    "\n",
    "def get_prob_one(race,p):\n",
    "    \n",
    "    nr = sum(race) - 1\n",
    "    prob = ((1-p)**(23-nr)) * (p**nr) * choose(23,nr)\n",
    "    \n",
    "    return prob\n",
    "\n",
    "def binom(trials, success, prob):\n",
    "    return choose(trials,success) * (prob**(success)) * ( (1-prob)**(trials-success))\n",
    "\n",
    "\n",
    "def prob_race(race):\n",
    "    \n",
    "    first = race[0:4]\n",
    "    second = race[4:8]\n",
    "    \n",
    "    trials = sum(race)\n",
    "    success = sum(first)\n",
    "    \n",
    "    prob = binom(trials,success,.5)\n",
    "    \n",
    "    \n",
    "    a = race[0:2]\n",
    "    b = race[2:4]\n",
    "    c = race[4:6]\n",
    "    d = race[6:8]\n",
    "    \n",
    "    trials = sum(a)+sum(b)\n",
    "    success = sum(a)\n",
    "    \n",
    "    prob = prob * binom(trials,success,.5)\n",
    "    \n",
    "    trials = sum(c)+sum(d)\n",
    "    success = sum(c)\n",
    "    \n",
    "    prob = prob * binom(trials,success,.5)\n",
    "    \n",
    "    \n",
    "    \n",
    "    i=0\n",
    "    while i<=7:\n",
    "        pair = race[i:i+2]\n",
    "        trials = sum(pair)\n",
    "        success = pair[0]\n",
    "        \n",
    "        prob = prob * binom(trials,success,.5)\n",
    "        i = i+2\n",
    "        \n",
    "    return prob\n",
    "\n",
    "from fractions import Fraction\n",
    " \n",
    "# def deviating_win_prob(race,p):\n",
    "#     win_p = 0\n",
    "#     for i in race:\n",
    "#         win_p = win_p + Fraction(1, 8*(i+1))\n",
    "        \n",
    "#     if sum(race) == 23:\n",
    "#         win_p = Fraction(1,3)\n",
    "\n",
    "        \n",
    "        \n",
    "#     return (win_p) * multinomial(race)*prob_race(race)*get_prob(race,p)\n",
    "\n",
    "def deviating_win_prob(race,p):\n",
    "    win_p = 0\n",
    "    for i in range(len(race)):\n",
    "        win_p = win_p + deviating_win_prob_one(race,i)\n",
    "    return ((win_p)/8) * multinomial(race)*prob_race(race)*get_prob(race,p)\n",
    "\n",
    "\n",
    "def deviating_win_prob_one(race,position):\n",
    "    #position 0 thru 7\n",
    "    \n",
    "    prob = 1\n",
    "    \n",
    "    others = 23 - sum(race)\n",
    "    undefended = race.count(0)\n",
    "    true_und = max(undefended - others,0)\n",
    "    \n",
    "    #do the main race first    \n",
    "    win_p = 0\n",
    "    \n",
    "    win_main = Fraction(1, race[position]+1)\n",
    "    \n",
    "    win_p  = win_p + win_main\n",
    "    \n",
    "    prob = prob * (1 - win_main)\n",
    "    \n",
    "    for i in range(true_und):\n",
    "        win_p = win_p + prob * Fraction(1,23-(i+others))\n",
    "        \n",
    "        prob = prob * (1 - Fraction(1, 23-(i+others)))\n",
    "        \n",
    "    return win_p\n",
    "    \n",
    "    \n",
    "    \n",
    "            \n",
    "            \n",
    "    \n",
    "    \n",
    "\n",
    "def deviating_all_win_prob(race,p):\n",
    "    others = 23 - sum(race)\n",
    "    undefended = race.count(0)\n",
    "    raw_p = Fraction(undefended,others+1)\n",
    "\n",
    "    win_p = min(raw_p,1)\n",
    "    return (win_p) * multinomial(race)*prob_race(race)*get_prob(race,p)\n",
    "\n",
    "    \n",
    "    \n",
    "    \n",
    "\n",
    "\n",
    "\n",
    "def deviate_profit(p):\n",
    "    win = 0\n",
    "    for i in  no_dup_enums:\n",
    "        win = win + deviating_win_prob(i,p)\n",
    "    return win\n",
    "\n",
    "\n",
    "\n",
    "def deviate_profit_all(p):\n",
    "    win = 0\n",
    "    for i in new_no_dup_enums:\n",
    "        if sum(i) == 24:\n",
    "            continue\n",
    "        win = win + deviating_all_win_prob(i,p)\n",
    "    return win\n",
    "        \n",
    "\n",
    "def bin_search(i):\n",
    "    upper = 1\n",
    "    lower = 0\n",
    "    mid = (upper + lower)/2\n",
    "    for j in range(i):\n",
    "        \n",
    "        if deviate_profit_all(mid) > deviate_profit(mid):\n",
    "            upper  = mid\n",
    "            \n",
    "        if deviate_profit(mid) > deviate_profit_all(mid):\n",
    "            lower = mid\n",
    "\n",
    "        mid = (upper + lower)/2\n",
    "        \n",
    "    return mid\n",
    "\n",
    "def enum3():\n",
    "    \n",
    "    q = [[]]\n",
    "    good = []\n",
    "    while q:\n",
    "        current = q.pop()\n",
    "        \n",
    "        if len(current)==0:\n",
    "            m = 24\n",
    "            s = 0\n",
    "        if len(current)>0:\n",
    "            m = current[-1]\n",
    "            s = sum(current)\n",
    "            \n",
    "        if s==24:\n",
    "            good.append(process(current))\n",
    "        if s<= 24 and len(current)==8:\n",
    "            good.append(current)\n",
    "            \n",
    "        if s<= 24 and len(current)<8:\n",
    "            for j in range(m+1):\n",
    "                q.append(current + [j])\n",
    "    return good\n",
    "def process(a):\n",
    "    \n",
    "    while len(a)<8:\n",
    "        a.append(0)\n",
    "    return a\n",
    "\n",
    "new_enum = enum3()\n",
    "\n",
    "new_no_dup_enums = []\n",
    "for i in new_enum:\n",
    "    if i not in new_no_dup_enums:\n",
    "        new_no_dup_enums.append(i)\n",
    "        \n",
    "len(new_no_dup_enums)"
   ]
  },
  {
   "cell_type": "code",
   "execution_count": 27,
   "id": "4eae17cb",
   "metadata": {},
   "outputs": [
    {
     "data": {
      "text/plain": [
       "0.9995604819367081"
      ]
     },
     "execution_count": 27,
     "metadata": {},
     "output_type": "execute_result"
    }
   ],
   "source": [
    "def win_with_one(race):\n",
    "    others = 24 - sum(race)\n",
    "    true_undef = max(race.count(0) - others,0)\n",
    "    played = 8 - race.count(0)\n",
    "    \n",
    "    return Fraction(played + true_undef,sum(race))\n",
    "\n",
    "def deviate_with_one_prob(race,p):\n",
    "    win_p = 0\n",
    "    for i in range(len(race)):\n",
    "        win_p = win_p + win_with_one(race)\n",
    "    return ((win_p)/8) * multinomial(race)*prob_race(race)*get_prob_one(race,p)\n",
    "\n",
    "def deviate_with_one_profit(p):\n",
    "    win = 0\n",
    "    for i in  new_no_dup_enums:\n",
    "        if sum(i) == 0:\n",
    "            continue\n",
    "        \n",
    "        win = win + deviate_with_one_prob(i,p)\n",
    "    return win\n",
    "\n",
    "def bin_search(i):\n",
    "    upper = 1\n",
    "    lower = 0\n",
    "    mid = (upper + lower)/2\n",
    "    for j in range(i):\n",
    "        \n",
    "        if deviate_profit_all(mid) > deviate_with_one_profit(mid):\n",
    "            upper  = mid\n",
    "            \n",
    "        if deviate_with_one_profit(mid) > deviate_profit_all(mid):\n",
    "            lower = mid\n",
    "\n",
    "        mid = (upper + lower)/2\n",
    "        \n",
    "    return mid\n",
    "\n",
    "\n",
    "\n",
    "\n",
    "bin_search(100)"
   ]
  },
  {
   "cell_type": "code",
   "execution_count": 24,
   "id": "4d882b54",
   "metadata": {},
   "outputs": [
    {
     "data": {
      "text/plain": [
       "0.33333333333333337"
      ]
     },
     "execution_count": 24,
     "metadata": {},
     "output_type": "execute_result"
    }
   ],
   "source": [
    "deviate_with_one_profit(0.9995604819364416)"
   ]
  },
  {
   "cell_type": "code",
   "execution_count": 26,
   "id": "9cf9fe29",
   "metadata": {},
   "outputs": [
    {
     "data": {
      "text/plain": [
       "0.3333333333325804"
      ]
     },
     "execution_count": 26,
     "metadata": {},
     "output_type": "execute_result"
    }
   ],
   "source": [
    "deviate_profit_all(0.9995604819364416)"
   ]
  },
  {
   "cell_type": "code",
   "execution_count": 28,
   "id": "c56228d6",
   "metadata": {},
   "outputs": [
    {
     "data": {
      "text/plain": [
       "0.33333333333333276"
      ]
     },
     "execution_count": 28,
     "metadata": {},
     "output_type": "execute_result"
    }
   ],
   "source": [
    "deviate_with_one_profit(0.9995604819367081)"
   ]
  },
  {
   "cell_type": "code",
   "execution_count": 29,
   "id": "05e17805",
   "metadata": {},
   "outputs": [
    {
     "data": {
      "text/plain": [
       "0.333333333333333"
      ]
     },
     "execution_count": 29,
     "metadata": {},
     "output_type": "execute_result"
    }
   ],
   "source": [
    "deviate_profit_all(0.9995604819367081)"
   ]
  },
  {
   "cell_type": "code",
   "execution_count": 30,
   "id": "3cbeabc6",
   "metadata": {},
   "outputs": [
    {
     "data": {
      "text/plain": [
       "0.3333178504755348"
      ]
     },
     "execution_count": 30,
     "metadata": {},
     "output_type": "execute_result"
    }
   ],
   "source": [
    "deviate_profit_all(0.999555)"
   ]
  },
  {
   "cell_type": "code",
   "execution_count": 31,
   "id": "c5d784ac",
   "metadata": {},
   "outputs": [
    {
     "data": {
      "text/plain": [
       "0.3333333402262726"
      ]
     },
     "execution_count": 31,
     "metadata": {},
     "output_type": "execute_result"
    }
   ],
   "source": [
    "deviate_with_one_profit(0.999555)"
   ]
  },
  {
   "cell_type": "code",
   "execution_count": null,
   "id": "68c2cae2",
   "metadata": {},
   "outputs": [],
   "source": []
  }
 ],
 "metadata": {
  "kernelspec": {
   "display_name": "Python 3 (ipykernel)",
   "language": "python",
   "name": "python3"
  },
  "language_info": {
   "codemirror_mode": {
    "name": "ipython",
    "version": 3
   },
   "file_extension": ".py",
   "mimetype": "text/x-python",
   "name": "python",
   "nbconvert_exporter": "python",
   "pygments_lexer": "ipython3",
   "version": "3.9.7"
  }
 },
 "nbformat": 4,
 "nbformat_minor": 5
}
