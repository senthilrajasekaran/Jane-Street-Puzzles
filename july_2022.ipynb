{
 "cells": [
  {
   "cell_type": "code",
   "execution_count": 17,
   "id": "4ca0f051",
   "metadata": {},
   "outputs": [],
   "source": [
    "faces = [[  0,  2, 18, 42, 38, 14 ],\n",
    "[  1,  3, 17, 41, 37, 13 ],\n",
    "[  2,  0, 12, 36, 40, 16 ],\n",
    "[  3,  1, 15, 39, 43, 19 ],\n",
    "[  4,  5, 23, 47, 45, 21 ],\n",
    "[  5,  4, 20, 44, 46, 22 ],\n",
    "[  6,  7, 26, 50, 48, 24 ],\n",
    "[  7,  6, 25, 49, 51, 27 ],\n",
    "[  8,  9, 33, 57, 56, 32 ],\n",
    "[  9,  8, 28, 52, 53, 29 ],\n",
    "[ 10, 11, 31, 55, 54, 30 ],\n",
    "[ 11, 10, 34, 58, 59, 35 ],\n",
    "[ 12, 44, 20, 52, 28, 36 ],\n",
    "[ 13, 37, 29, 53, 21, 45 ],\n",
    "[ 14, 38, 30, 54, 22, 46 ],\n",
    "[ 15, 47, 23, 55, 31, 39 ],\n",
    "[ 16, 40, 32, 56, 24, 48 ],\n",
    "[ 17, 49, 25, 57, 33, 41 ],\n",
    "[ 18, 50, 26, 58, 34, 42 ],\n",
    "[ 19, 43, 35, 59, 27, 51 ]]\n"
   ]
  },
  {
   "cell_type": "code",
   "execution_count": 18,
   "id": "ca8511da",
   "metadata": {},
   "outputs": [],
   "source": [
    "def get_neighbors(face):\n",
    "    neighbors = []\n",
    "    for i in faces:\n",
    "        if i != face:\n",
    "            common = [k for k in i if k in face]\n",
    "            if common:\n",
    "                neighbors.append(i)\n",
    "    return neighbors"
   ]
  },
  {
   "cell_type": "code",
   "execution_count": 19,
   "id": "b1abb6d3",
   "metadata": {},
   "outputs": [
    {
     "data": {
      "text/plain": [
       "[[2, 0, 12, 36, 40, 16], [14, 38, 30, 54, 22, 46], [18, 50, 26, 58, 34, 42]]"
      ]
     },
     "execution_count": 19,
     "metadata": {},
     "output_type": "execute_result"
    }
   ],
   "source": [
    "get_neighbors([  0,  2, 18, 42, 38, 14 ])"
   ]
  },
  {
   "cell_type": "code",
   "execution_count": 20,
   "id": "281c3d53",
   "metadata": {},
   "outputs": [],
   "source": [
    "def are_neighbors(face1,face2):\n",
    "    if face1 == face2:\n",
    "        return False\n",
    "    common = [k for k in face1 if k in face2]\n",
    "    if common:\n",
    "        return True\n",
    "    return False"
   ]
  },
  {
   "cell_type": "code",
   "execution_count": 21,
   "id": "060a10b2",
   "metadata": {},
   "outputs": [],
   "source": [
    "def hitting_time(vertex, start):\n",
    "    if vertex == 0 and not start:\n",
    "        return 0\n",
    "    \n",
    "    neighbors = [i for i in range(20) if are_neighbors(faces[vertex],faces[i])]\n",
    "    s = 0\n",
    "    for i in neighbors:\n",
    "        s += (hitting_time(i, False))/3\n",
    "    return s+1"
   ]
  },
  {
   "cell_type": "code",
   "execution_count": 22,
   "id": "e0ca1e1c",
   "metadata": {},
   "outputs": [],
   "source": [
    "def neighbors(vertex):\n",
    "    neighbors = [i for i in range(20) if are_neighbors(faces[vertex],faces[i])]\n",
    "    return neighbors\n"
   ]
  },
  {
   "cell_type": "code",
   "execution_count": 23,
   "id": "1c05d56c",
   "metadata": {},
   "outputs": [
    {
     "data": {
      "text/plain": [
       "[2, 14, 18]"
      ]
     },
     "execution_count": 23,
     "metadata": {},
     "output_type": "execute_result"
    }
   ],
   "source": [
    "neighbors(0)\n"
   ]
  },
  {
   "cell_type": "code",
   "execution_count": 24,
   "id": "13f6af27",
   "metadata": {},
   "outputs": [],
   "source": [
    "from fractions import Fraction\n",
    "def make_row(vertex):\n",
    "    row = []\n",
    "    for i in range(20):\n",
    "        if i == vertex:\n",
    "            row.append(-1)\n",
    "        elif i in neighbors(vertex) and i!= 0:\n",
    "            row.append(Fraction(1,3))\n",
    "        else:\n",
    "            row.append(0)\n",
    "    return row\n",
    "            "
   ]
  },
  {
   "cell_type": "code",
   "execution_count": 25,
   "id": "78b494ba",
   "metadata": {},
   "outputs": [
    {
     "data": {
      "text/plain": [
       "[[-1,\n",
       "  0,\n",
       "  Fraction(1, 3),\n",
       "  0,\n",
       "  0,\n",
       "  0,\n",
       "  0,\n",
       "  0,\n",
       "  0,\n",
       "  0,\n",
       "  0,\n",
       "  0,\n",
       "  0,\n",
       "  0,\n",
       "  Fraction(1, 3),\n",
       "  0,\n",
       "  0,\n",
       "  0,\n",
       "  Fraction(1, 3),\n",
       "  0],\n",
       " [0,\n",
       "  -1,\n",
       "  0,\n",
       "  Fraction(1, 3),\n",
       "  0,\n",
       "  0,\n",
       "  0,\n",
       "  0,\n",
       "  0,\n",
       "  0,\n",
       "  0,\n",
       "  0,\n",
       "  0,\n",
       "  Fraction(1, 3),\n",
       "  0,\n",
       "  0,\n",
       "  0,\n",
       "  Fraction(1, 3),\n",
       "  0,\n",
       "  0],\n",
       " [0,\n",
       "  0,\n",
       "  -1,\n",
       "  0,\n",
       "  0,\n",
       "  0,\n",
       "  0,\n",
       "  0,\n",
       "  0,\n",
       "  0,\n",
       "  0,\n",
       "  0,\n",
       "  Fraction(1, 3),\n",
       "  0,\n",
       "  0,\n",
       "  0,\n",
       "  Fraction(1, 3),\n",
       "  0,\n",
       "  0,\n",
       "  0],\n",
       " [0,\n",
       "  Fraction(1, 3),\n",
       "  0,\n",
       "  -1,\n",
       "  0,\n",
       "  0,\n",
       "  0,\n",
       "  0,\n",
       "  0,\n",
       "  0,\n",
       "  0,\n",
       "  0,\n",
       "  0,\n",
       "  0,\n",
       "  0,\n",
       "  Fraction(1, 3),\n",
       "  0,\n",
       "  0,\n",
       "  0,\n",
       "  Fraction(1, 3)],\n",
       " [0,\n",
       "  0,\n",
       "  0,\n",
       "  0,\n",
       "  -1,\n",
       "  Fraction(1, 3),\n",
       "  0,\n",
       "  0,\n",
       "  0,\n",
       "  0,\n",
       "  0,\n",
       "  0,\n",
       "  0,\n",
       "  Fraction(1, 3),\n",
       "  0,\n",
       "  Fraction(1, 3),\n",
       "  0,\n",
       "  0,\n",
       "  0,\n",
       "  0],\n",
       " [0,\n",
       "  0,\n",
       "  0,\n",
       "  0,\n",
       "  Fraction(1, 3),\n",
       "  -1,\n",
       "  0,\n",
       "  0,\n",
       "  0,\n",
       "  0,\n",
       "  0,\n",
       "  0,\n",
       "  Fraction(1, 3),\n",
       "  0,\n",
       "  Fraction(1, 3),\n",
       "  0,\n",
       "  0,\n",
       "  0,\n",
       "  0,\n",
       "  0],\n",
       " [0,\n",
       "  0,\n",
       "  0,\n",
       "  0,\n",
       "  0,\n",
       "  0,\n",
       "  -1,\n",
       "  Fraction(1, 3),\n",
       "  0,\n",
       "  0,\n",
       "  0,\n",
       "  0,\n",
       "  0,\n",
       "  0,\n",
       "  0,\n",
       "  0,\n",
       "  Fraction(1, 3),\n",
       "  0,\n",
       "  Fraction(1, 3),\n",
       "  0],\n",
       " [0,\n",
       "  0,\n",
       "  0,\n",
       "  0,\n",
       "  0,\n",
       "  0,\n",
       "  Fraction(1, 3),\n",
       "  -1,\n",
       "  0,\n",
       "  0,\n",
       "  0,\n",
       "  0,\n",
       "  0,\n",
       "  0,\n",
       "  0,\n",
       "  0,\n",
       "  0,\n",
       "  Fraction(1, 3),\n",
       "  0,\n",
       "  Fraction(1, 3)],\n",
       " [0,\n",
       "  0,\n",
       "  0,\n",
       "  0,\n",
       "  0,\n",
       "  0,\n",
       "  0,\n",
       "  0,\n",
       "  -1,\n",
       "  Fraction(1, 3),\n",
       "  0,\n",
       "  0,\n",
       "  0,\n",
       "  0,\n",
       "  0,\n",
       "  0,\n",
       "  Fraction(1, 3),\n",
       "  Fraction(1, 3),\n",
       "  0,\n",
       "  0],\n",
       " [0,\n",
       "  0,\n",
       "  0,\n",
       "  0,\n",
       "  0,\n",
       "  0,\n",
       "  0,\n",
       "  0,\n",
       "  Fraction(1, 3),\n",
       "  -1,\n",
       "  0,\n",
       "  0,\n",
       "  Fraction(1, 3),\n",
       "  Fraction(1, 3),\n",
       "  0,\n",
       "  0,\n",
       "  0,\n",
       "  0,\n",
       "  0,\n",
       "  0],\n",
       " [0,\n",
       "  0,\n",
       "  0,\n",
       "  0,\n",
       "  0,\n",
       "  0,\n",
       "  0,\n",
       "  0,\n",
       "  0,\n",
       "  0,\n",
       "  -1,\n",
       "  Fraction(1, 3),\n",
       "  0,\n",
       "  0,\n",
       "  Fraction(1, 3),\n",
       "  Fraction(1, 3),\n",
       "  0,\n",
       "  0,\n",
       "  0,\n",
       "  0],\n",
       " [0,\n",
       "  0,\n",
       "  0,\n",
       "  0,\n",
       "  0,\n",
       "  0,\n",
       "  0,\n",
       "  0,\n",
       "  0,\n",
       "  0,\n",
       "  Fraction(1, 3),\n",
       "  -1,\n",
       "  0,\n",
       "  0,\n",
       "  0,\n",
       "  0,\n",
       "  0,\n",
       "  0,\n",
       "  Fraction(1, 3),\n",
       "  Fraction(1, 3)],\n",
       " [0,\n",
       "  0,\n",
       "  Fraction(1, 3),\n",
       "  0,\n",
       "  0,\n",
       "  Fraction(1, 3),\n",
       "  0,\n",
       "  0,\n",
       "  0,\n",
       "  Fraction(1, 3),\n",
       "  0,\n",
       "  0,\n",
       "  -1,\n",
       "  0,\n",
       "  0,\n",
       "  0,\n",
       "  0,\n",
       "  0,\n",
       "  0,\n",
       "  0],\n",
       " [0,\n",
       "  Fraction(1, 3),\n",
       "  0,\n",
       "  0,\n",
       "  Fraction(1, 3),\n",
       "  0,\n",
       "  0,\n",
       "  0,\n",
       "  0,\n",
       "  Fraction(1, 3),\n",
       "  0,\n",
       "  0,\n",
       "  0,\n",
       "  -1,\n",
       "  0,\n",
       "  0,\n",
       "  0,\n",
       "  0,\n",
       "  0,\n",
       "  0],\n",
       " [0,\n",
       "  0,\n",
       "  0,\n",
       "  0,\n",
       "  0,\n",
       "  Fraction(1, 3),\n",
       "  0,\n",
       "  0,\n",
       "  0,\n",
       "  0,\n",
       "  Fraction(1, 3),\n",
       "  0,\n",
       "  0,\n",
       "  0,\n",
       "  -1,\n",
       "  0,\n",
       "  0,\n",
       "  0,\n",
       "  0,\n",
       "  0],\n",
       " [0,\n",
       "  0,\n",
       "  0,\n",
       "  Fraction(1, 3),\n",
       "  Fraction(1, 3),\n",
       "  0,\n",
       "  0,\n",
       "  0,\n",
       "  0,\n",
       "  0,\n",
       "  Fraction(1, 3),\n",
       "  0,\n",
       "  0,\n",
       "  0,\n",
       "  0,\n",
       "  -1,\n",
       "  0,\n",
       "  0,\n",
       "  0,\n",
       "  0],\n",
       " [0,\n",
       "  0,\n",
       "  Fraction(1, 3),\n",
       "  0,\n",
       "  0,\n",
       "  0,\n",
       "  Fraction(1, 3),\n",
       "  0,\n",
       "  Fraction(1, 3),\n",
       "  0,\n",
       "  0,\n",
       "  0,\n",
       "  0,\n",
       "  0,\n",
       "  0,\n",
       "  0,\n",
       "  -1,\n",
       "  0,\n",
       "  0,\n",
       "  0],\n",
       " [0,\n",
       "  Fraction(1, 3),\n",
       "  0,\n",
       "  0,\n",
       "  0,\n",
       "  0,\n",
       "  0,\n",
       "  Fraction(1, 3),\n",
       "  Fraction(1, 3),\n",
       "  0,\n",
       "  0,\n",
       "  0,\n",
       "  0,\n",
       "  0,\n",
       "  0,\n",
       "  0,\n",
       "  0,\n",
       "  -1,\n",
       "  0,\n",
       "  0],\n",
       " [0,\n",
       "  0,\n",
       "  0,\n",
       "  0,\n",
       "  0,\n",
       "  0,\n",
       "  Fraction(1, 3),\n",
       "  0,\n",
       "  0,\n",
       "  0,\n",
       "  0,\n",
       "  Fraction(1, 3),\n",
       "  0,\n",
       "  0,\n",
       "  0,\n",
       "  0,\n",
       "  0,\n",
       "  0,\n",
       "  -1,\n",
       "  0],\n",
       " [0,\n",
       "  0,\n",
       "  0,\n",
       "  Fraction(1, 3),\n",
       "  0,\n",
       "  0,\n",
       "  0,\n",
       "  Fraction(1, 3),\n",
       "  0,\n",
       "  0,\n",
       "  0,\n",
       "  Fraction(1, 3),\n",
       "  0,\n",
       "  0,\n",
       "  0,\n",
       "  0,\n",
       "  0,\n",
       "  0,\n",
       "  0,\n",
       "  -1]]"
      ]
     },
     "execution_count": 25,
     "metadata": {},
     "output_type": "execute_result"
    }
   ],
   "source": [
    "matrix = []\n",
    "for i in range(20):\n",
    "    matrix.append(make_row(i))\n",
    "matrix"
   ]
  },
  {
   "cell_type": "code",
   "execution_count": 26,
   "id": "74637fdc",
   "metadata": {},
   "outputs": [
    {
     "data": {
      "text/plain": [
       "20"
      ]
     },
     "execution_count": 26,
     "metadata": {},
     "output_type": "execute_result"
    }
   ],
   "source": [
    "len(matrix)"
   ]
  },
  {
   "cell_type": "code",
   "execution_count": 27,
   "id": "81ffa29e",
   "metadata": {},
   "outputs": [
    {
     "name": "stdout",
     "output_type": "stream",
     "text": [
      "20\n",
      "20\n",
      "20\n",
      "20\n",
      "20\n",
      "20\n",
      "20\n",
      "20\n",
      "20\n",
      "20\n",
      "20\n",
      "20\n",
      "20\n",
      "20\n",
      "20\n",
      "20\n",
      "20\n",
      "20\n",
      "20\n",
      "20\n"
     ]
    }
   ],
   "source": [
    "for i in range(20):\n",
    "    print(len(matrix[i]))"
   ]
  },
  {
   "cell_type": "code",
   "execution_count": 28,
   "id": "eac11287",
   "metadata": {},
   "outputs": [
    {
     "data": {
      "text/plain": [
       "[-1,\n",
       " 0,\n",
       " Fraction(1, 3),\n",
       " 0,\n",
       " 0,\n",
       " 0,\n",
       " 0,\n",
       " 0,\n",
       " 0,\n",
       " 0,\n",
       " 0,\n",
       " 0,\n",
       " 0,\n",
       " 0,\n",
       " Fraction(1, 3),\n",
       " 0,\n",
       " 0,\n",
       " 0,\n",
       " Fraction(1, 3),\n",
       " 0]"
      ]
     },
     "execution_count": 28,
     "metadata": {},
     "output_type": "execute_result"
    }
   ],
   "source": [
    "make_row(0)"
   ]
  },
  {
   "cell_type": "code",
   "execution_count": 29,
   "id": "bb467052",
   "metadata": {},
   "outputs": [],
   "source": [
    "import numpy as np"
   ]
  },
  {
   "cell_type": "code",
   "execution_count": 30,
   "id": "a2add58c",
   "metadata": {},
   "outputs": [],
   "source": [
    "array_mat = np.array(matrix,dtype='float')"
   ]
  },
  {
   "cell_type": "code",
   "execution_count": 31,
   "id": "4c3a166d",
   "metadata": {},
   "outputs": [],
   "source": [
    "from numpy.linalg import inv\n",
    "matrix_inv = inv(array_mat)"
   ]
  },
  {
   "cell_type": "raw",
   "id": "8ca2ca5c",
   "metadata": {},
   "source": [
    "matrix_inv"
   ]
  },
  {
   "cell_type": "code",
   "execution_count": 32,
   "id": "4a864681",
   "metadata": {},
   "outputs": [
    {
     "data": {
      "text/plain": [
       "array([[-1.  , -1.  , -1.  , -1.  , -1.  , -1.  , -1.  , -1.  , -1.  ,\n",
       "        -1.  , -1.  , -1.  , -1.  , -1.  , -1.  , -1.  , -1.  , -1.  ,\n",
       "        -1.  , -1.  ],\n",
       "       [-0.  , -3.5 , -1.  , -2.5 , -2.  , -1.5 , -1.5 , -2.  , -2.  ,\n",
       "        -2.  , -1.5 , -1.5 , -1.5 , -2.5 , -1.  , -2.  , -1.5 , -2.5 ,\n",
       "        -1.  , -2.  ],\n",
       "       [-0.  , -1.  , -1.9 , -0.9 , -0.95, -0.95, -0.95, -0.95, -1.2 ,\n",
       "        -1.2 , -0.7 , -0.7 , -1.35, -1.05, -0.55, -0.85, -1.35, -1.05,\n",
       "        -0.55, -0.85],\n",
       "       [-0.  , -2.5 , -0.9 , -3.4 , -1.95, -1.45, -1.45, -1.95, -1.7 ,\n",
       "        -1.7 , -1.7 , -1.7 , -1.35, -2.05, -1.05, -2.35, -1.35, -2.05,\n",
       "        -1.05, -2.35],\n",
       "       [-0.  , -2.  , -0.95, -1.95, -3.2 , -2.  , -1.2 , -1.5 , -1.6 ,\n",
       "        -1.85, -1.6 , -1.35, -1.6 , -2.35, -1.2 , -2.25, -1.25, -1.7 ,\n",
       "        -0.85, -1.6 ],\n",
       "       [-0.  , -1.5 , -0.95, -1.45, -2.  , -2.7 , -1.  , -1.2 , -1.35,\n",
       "        -1.6 , -1.35, -1.1 , -1.75, -1.7 , -1.35, -1.6 , -1.1 , -1.35,\n",
       "        -0.7 , -1.25],\n",
       "       [-0.  , -1.5 , -0.95, -1.45, -1.2 , -1.  , -2.7 , -2.  , -1.6 ,\n",
       "        -1.35, -1.1 , -1.35, -1.1 , -1.35, -0.7 , -1.25, -1.75, -1.7 ,\n",
       "        -1.35, -1.6 ],\n",
       "       [-0.  , -2.  , -0.95, -1.95, -1.5 , -1.2 , -2.  , -3.2 , -1.85,\n",
       "        -1.6 , -1.35, -1.6 , -1.25, -1.7 , -0.85, -1.6 , -1.6 , -2.35,\n",
       "        -1.2 , -2.25],\n",
       "       [-0.  , -2.  , -1.2 , -1.7 , -1.6 , -1.35, -1.6 , -1.85, -3.2 ,\n",
       "        -2.25, -1.2 , -1.25, -1.6 , -1.95, -0.85, -1.5 , -2.  , -2.35,\n",
       "        -0.95, -1.6 ],\n",
       "       [-0.  , -2.  , -1.2 , -1.7 , -1.85, -1.6 , -1.35, -1.6 , -2.25,\n",
       "        -3.2 , -1.25, -1.2 , -2.  , -2.35, -0.95, -1.6 , -1.6 , -1.95,\n",
       "        -0.85, -1.5 ],\n",
       "       [-0.  , -1.5 , -0.7 , -1.7 , -1.6 , -1.35, -1.1 , -1.35, -1.2 ,\n",
       "        -1.25, -2.7 , -1.75, -1.1 , -1.45, -1.35, -2.  , -1.  , -1.35,\n",
       "        -0.95, -1.6 ],\n",
       "       [-0.  , -1.5 , -0.7 , -1.7 , -1.35, -1.1 , -1.35, -1.6 , -1.25,\n",
       "        -1.2 , -1.75, -2.7 , -1.  , -1.35, -0.95, -1.6 , -1.1 , -1.45,\n",
       "        -1.35, -2.  ],\n",
       "       [-0.  , -1.5 , -1.35, -1.35, -1.6 , -1.75, -1.1 , -1.25, -1.6 ,\n",
       "        -2.  , -1.1 , -1.  , -2.7 , -1.7 , -0.95, -1.35, -1.35, -1.45,\n",
       "        -0.7 , -1.2 ],\n",
       "       [-0.  , -2.5 , -1.05, -2.05, -2.35, -1.7 , -1.35, -1.7 , -1.95,\n",
       "        -2.35, -1.45, -1.35, -1.7 , -3.4 , -1.05, -1.95, -1.45, -2.05,\n",
       "        -0.9 , -1.7 ],\n",
       "       [-0.  , -1.  , -0.55, -1.05, -1.2 , -1.35, -0.7 , -0.85, -0.85,\n",
       "        -0.95, -1.35, -0.95, -0.95, -1.05, -1.9 , -1.2 , -0.7 , -0.9 ,\n",
       "        -0.55, -0.95],\n",
       "       [-0.  , -2.  , -0.85, -2.35, -2.25, -1.6 , -1.25, -1.6 , -1.5 ,\n",
       "        -1.6 , -2.  , -1.6 , -1.35, -1.95, -1.2 , -3.2 , -1.2 , -1.7 ,\n",
       "        -0.95, -1.85],\n",
       "       [-0.  , -1.5 , -1.35, -1.35, -1.25, -1.1 , -1.75, -1.6 , -2.  ,\n",
       "        -1.6 , -1.  , -1.1 , -1.35, -1.45, -0.7 , -1.2 , -2.7 , -1.7 ,\n",
       "        -0.95, -1.35],\n",
       "       [-0.  , -2.5 , -1.05, -2.05, -1.7 , -1.35, -1.7 , -2.35, -2.35,\n",
       "        -1.95, -1.35, -1.45, -1.45, -2.05, -0.9 , -1.7 , -1.7 , -3.4 ,\n",
       "        -1.05, -1.95],\n",
       "       [-0.  , -1.  , -0.55, -1.05, -0.85, -0.7 , -1.35, -1.2 , -0.95,\n",
       "        -0.85, -0.95, -1.35, -0.7 , -0.9 , -0.55, -0.95, -0.95, -1.05,\n",
       "        -1.9 , -1.2 ],\n",
       "       [-0.  , -2.  , -0.85, -2.35, -1.6 , -1.25, -1.6 , -2.25, -1.6 ,\n",
       "        -1.5 , -1.6 , -2.  , -1.2 , -1.7 , -0.95, -1.85, -1.35, -1.95,\n",
       "        -1.2 , -3.2 ]])"
      ]
     },
     "execution_count": 32,
     "metadata": {},
     "output_type": "execute_result"
    }
   ],
   "source": [
    "matrix_inv"
   ]
  },
  {
   "cell_type": "markdown",
   "id": "1a70b37f",
   "metadata": {},
   "source": [
    "rhs = []\n",
    "for i in range "
   ]
  },
  {
   "cell_type": "code",
   "execution_count": 33,
   "id": "7ce8478c",
   "metadata": {},
   "outputs": [],
   "source": [
    "rhs = []\n",
    "for i in range(20):\n",
    "    rhs.append([-1])"
   ]
  },
  {
   "cell_type": "code",
   "execution_count": 34,
   "id": "5677b4fa",
   "metadata": {},
   "outputs": [],
   "source": [
    "arhs = np.array(rhs,dtype='float')"
   ]
  },
  {
   "cell_type": "code",
   "execution_count": 35,
   "id": "3b49511b",
   "metadata": {},
   "outputs": [
    {
     "data": {
      "text/plain": [
       "array([[20.],\n",
       "       [35.],\n",
       "       [19.],\n",
       "       [34.],\n",
       "       [32.],\n",
       "       [27.],\n",
       "       [27.],\n",
       "       [32.],\n",
       "       [32.],\n",
       "       [32.],\n",
       "       [27.],\n",
       "       [27.],\n",
       "       [27.],\n",
       "       [34.],\n",
       "       [19.],\n",
       "       [32.],\n",
       "       [27.],\n",
       "       [34.],\n",
       "       [19.],\n",
       "       [32.]])"
      ]
     },
     "execution_count": 35,
     "metadata": {},
     "output_type": "execute_result"
    }
   ],
   "source": [
    "np.matmul(matrix_inv,arhs)"
   ]
  },
  {
   "cell_type": "code",
   "execution_count": 36,
   "id": "2fa22518",
   "metadata": {},
   "outputs": [],
   "source": [
    "import random\n",
    "def random_walk():\n",
    "    start = 2\n",
    "    l = 1\n",
    "    while start != 0:\n",
    "        choice = random.choice(neighbors(start))\n",
    "        start = choice\n",
    "        l += 1\n",
    "    return l"
   ]
  },
  {
   "cell_type": "code",
   "execution_count": 37,
   "id": "2b8cc0bd",
   "metadata": {},
   "outputs": [
    {
     "data": {
      "text/plain": [
       "7"
      ]
     },
     "execution_count": 37,
     "metadata": {},
     "output_type": "execute_result"
    }
   ],
   "source": [
    "random_walk()"
   ]
  },
  {
   "cell_type": "code",
   "execution_count": 42,
   "id": "95df7fd2",
   "metadata": {},
   "outputs": [
    {
     "data": {
      "text/plain": [
       "0.318"
      ]
     },
     "execution_count": 42,
     "metadata": {},
     "output_type": "execute_result"
    }
   ],
   "source": [
    "s = 0\n",
    "for i in range(1000):\n",
    "    if random_walk() == 2:\n",
    "        s += 1\n",
    "s/1000"
   ]
  },
  {
   "cell_type": "code",
   "execution_count": 43,
   "id": "7997dd0a",
   "metadata": {},
   "outputs": [
    {
     "data": {
      "text/plain": [
       "20.00673"
      ]
     },
     "execution_count": 43,
     "metadata": {},
     "output_type": "execute_result"
    }
   ],
   "source": [
    "s = 0\n",
    "for i in range(100000):\n",
    "    s += random_walk()\n",
    "s/100000"
   ]
  },
  {
   "cell_type": "code",
   "execution_count": 3,
   "id": "fa4d0b3d",
   "metadata": {},
   "outputs": [
    {
     "data": {
      "text/plain": [
       "1.7320508075688772"
      ]
     },
     "execution_count": 3,
     "metadata": {},
     "output_type": "execute_result"
    }
   ],
   "source": [
    "import math\n",
    "import random\n",
    "from fractions import Fraction\n",
    "math.sqrt(3)"
   ]
  },
  {
   "cell_type": "code",
   "execution_count": 12,
   "id": "c65094fc",
   "metadata": {},
   "outputs": [],
   "source": [
    "def move(coord, sign, override = None):\n",
    "    move = random.choice([1,2,3])\n",
    "    \n",
    "    if override:\n",
    "        move = override\n",
    "    \n",
    "    if move == 1:\n",
    "        coord[0] += 1\n",
    "        coord[1] += sign \n",
    "    if move == 2:\n",
    "        coord[0] -= 1\n",
    "        coord[1] += sign       \n",
    "    if move == 3:\n",
    "        coord[1] += sign * -2\n",
    "        \n",
    "    return coord"
   ]
  },
  {
   "cell_type": "code",
   "execution_count": 10,
   "id": "560c7538",
   "metadata": {},
   "outputs": [
    {
     "data": {
      "text/plain": [
       "[0.0, 0]"
      ]
     },
     "execution_count": 10,
     "metadata": {},
     "output_type": "execute_result"
    }
   ],
   "source": [
    "move(move(move(move(move(move([0,0],1,1),-1,1),1,3),-1,2),1,2),-1,3)"
   ]
  },
  {
   "cell_type": "code",
   "execution_count": 44,
   "id": "6597ab30",
   "metadata": {},
   "outputs": [],
   "source": [
    "from copy import copy\n",
    "def walk():\n",
    "    \n",
    "    q = [ [[0,0],1,0]]\n",
    "    p = 0\n",
    "    \n",
    "    while q:\n",
    "        current = q.pop()\n",
    "#         print(current[0])\n",
    "#         print(current[1])\n",
    "#         print(current[2])\n",
    "#         print(current[0] == [0,0])\n",
    "        \n",
    "        if current[0] != [0,0] and current[2] == 20:\n",
    "            p += Fraction(1, (3**(current[2])))\n",
    "            continue\n",
    "            \n",
    "        elif current[0] == [0,0] and current[2] != 0:\n",
    "            continue\n",
    "            \n",
    "        else:\n",
    "            ta = current[0].copy()\n",
    "            tb = current[0].copy()\n",
    "            tc = current[0].copy()\n",
    "            t1 = current[1]\n",
    "            t2 = current[2]\n",
    "            \n",
    "            q.append (   [move(ta,t1,1), -1* t1 , t2+1] )\n",
    "            q.append (   [move(tb,t1,2), -1* t1 , t2+1] )\n",
    "            q.append (   [move(tc,t1,3), -1* t1 , t2+1] )\n",
    "    return p\n",
    "        \n"
   ]
  },
  {
   "cell_type": "code",
   "execution_count": 45,
   "id": "94e00fb1",
   "metadata": {},
   "outputs": [
    {
     "data": {
      "text/plain": [
       "Fraction(173576992, 387420489)"
      ]
     },
     "execution_count": 45,
     "metadata": {},
     "output_type": "execute_result"
    }
   ],
   "source": [
    "walk()"
   ]
  },
  {
   "cell_type": "code",
   "execution_count": 6,
   "id": "48fa257e",
   "metadata": {},
   "outputs": [],
   "source": [
    "def random_walks():\n",
    "    \n",
    "    coord = [0,0]\n",
    "    sign  = 1\n",
    "    length = 0\n",
    "    \n",
    "    while length < 20:\n",
    "        coord = move( coord, sign )\n",
    "        sign = -1 *sign\n",
    "        length += 1\n",
    "        if coord == [0,0]:\n",
    "            return False\n",
    "    return True"
   ]
  },
  {
   "cell_type": "code",
   "execution_count": 13,
   "id": "c0238805",
   "metadata": {},
   "outputs": [
    {
     "name": "stdout",
     "output_type": "stream",
     "text": [
      "44804\n",
      "44553\n",
      "44808\n",
      "45000\n",
      "44783\n",
      "44546\n",
      "44843\n",
      "44654\n",
      "45037\n",
      "44846\n"
     ]
    }
   ],
   "source": [
    "for i in range(10):\n",
    "    k = 0\n",
    "    for i in range(100000):\n",
    "        if random_walks():\n",
    "            k+=1\n",
    "    print(k)"
   ]
  },
  {
   "cell_type": "code",
   "execution_count": 73,
   "id": "828616ea",
   "metadata": {},
   "outputs": [
    {
     "name": "stdout",
     "output_type": "stream",
     "text": [
      "0\n",
      "1\n",
      "2\n",
      "3\n",
      "4\n",
      "5\n",
      "6\n",
      "7\n",
      "8\n",
      "9\n",
      "10\n",
      "11\n",
      "12\n",
      "13\n",
      "14\n",
      "15\n",
      "16\n",
      "17\n",
      "18\n",
      "19\n"
     ]
    }
   ],
   "source": [
    "l = 0\n",
    "while l<20:\n",
    "    print(l)\n",
    "    l += 1\n",
    "    "
   ]
  },
  {
   "cell_type": "code",
   "execution_count": 7,
   "id": "db7e1003",
   "metadata": {},
   "outputs": [
    {
     "name": "stdout",
     "output_type": "stream",
     "text": [
      "447658\n",
      "448598\n",
      "448199\n",
      "447865\n",
      "448714\n",
      "447431\n",
      "448357\n",
      "447964\n",
      "447486\n",
      "448664\n"
     ]
    }
   ],
   "source": [
    "for i in range(10):\n",
    "    k = 0\n",
    "    for i in range(1000000):\n",
    "        if random_walks():\n",
    "            k+=1\n",
    "    print(k)"
   ]
  },
  {
   "cell_type": "code",
   "execution_count": 77,
   "id": "011af4d7",
   "metadata": {},
   "outputs": [
    {
     "name": "stdout",
     "output_type": "stream",
     "text": [
      "454349\n",
      "454896\n",
      "454444\n",
      "454241\n",
      "455083\n",
      "454973\n",
      "455047\n",
      "454402\n",
      "455026\n",
      "454385\n"
     ]
    }
   ],
   "source": [
    "for i in range(10):\n",
    "    k = 0\n",
    "    for i in range(1000000):\n",
    "        if random_walks():\n",
    "            k+=1\n",
    "    print(k)"
   ]
  },
  {
   "cell_type": "code",
   "execution_count": 78,
   "id": "356f231d",
   "metadata": {},
   "outputs": [
    {
     "name": "stdout",
     "output_type": "stream",
     "text": [
      "4548236\n"
     ]
    }
   ],
   "source": [
    "k = 0\n",
    "for i in range(10000000):\n",
    "    if random_walks():\n",
    "        k+=1\n",
    "print(k)"
   ]
  },
  {
   "cell_type": "code",
   "execution_count": 15,
   "id": "3ca914cf",
   "metadata": {},
   "outputs": [
    {
     "data": {
      "text/plain": [
       "False"
      ]
     },
     "execution_count": 15,
     "metadata": {},
     "output_type": "execute_result"
    }
   ],
   "source": [
    "(5*math.sqrt(3) + 2* math.sqrt(3) - 4*math.sqrt(3) - 3*math.sqrt(3)) == 0"
   ]
  },
  {
   "cell_type": "code",
   "execution_count": 16,
   "id": "3e6951e6",
   "metadata": {},
   "outputs": [
    {
     "data": {
      "text/plain": [
       "4.440892098500626e-16"
      ]
     },
     "execution_count": 16,
     "metadata": {},
     "output_type": "execute_result"
    }
   ],
   "source": [
    "3*math.sqrt(3) - math.sqrt(3) - math.sqrt(3) - math.sqrt(3)"
   ]
  },
  {
   "cell_type": "code",
   "execution_count": null,
   "id": "bc827f3c",
   "metadata": {},
   "outputs": [],
   "source": []
  }
 ],
 "metadata": {
  "kernelspec": {
   "display_name": "Python 3 (ipykernel)",
   "language": "python",
   "name": "python3"
  },
  "language_info": {
   "codemirror_mode": {
    "name": "ipython",
    "version": 3
   },
   "file_extension": ".py",
   "mimetype": "text/x-python",
   "name": "python",
   "nbconvert_exporter": "python",
   "pygments_lexer": "ipython3",
   "version": "3.9.7"
  }
 },
 "nbformat": 4,
 "nbformat_minor": 5
}
