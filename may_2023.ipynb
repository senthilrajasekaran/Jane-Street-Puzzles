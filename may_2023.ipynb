{
 "cells": [
  {
   "cell_type": "code",
   "execution_count": 17,
   "id": "fe1e61ae",
   "metadata": {},
   "outputs": [
    {
     "data": {
      "text/plain": [
       "'longe'"
      ]
     },
     "execution_count": 17,
     "metadata": {},
     "output_type": "execute_result"
    }
   ],
   "source": [
    "letters = ['a','b','c','d','e','f','g','h','i','j','k','l','m','n','o','p','q','r','s','t','u','v','w','x','y','z']\n",
    "def five_to_letter(a):\n",
    "    #a is length 5 0/1 entries\n",
    "    s = 0\n",
    "    for i in range(5):\n",
    "        s += a[i] * 2**(4-i)\n",
    "    if s == 0:\n",
    "        return ' '\n",
    "    if s > 27:\n",
    "        return \"?\"\n",
    "    return letters[s-1]\n",
    "\n",
    "score = {\"a\": 1 , \"b\": 3 , \"c\": 3 , \"d\": 2 ,\n",
    "         \"e\": 1 , \"f\": 4 , \"g\": 2 , \"h\": 4 ,\n",
    "         \"i\": 1 , \"j\": 8 , \"k\": 5 , \"l\": 1 ,\n",
    "         \"m\": 3 , \"n\": 1 , \"o\": 1 , \"p\": 3 ,\n",
    "         \"q\": 10, \"r\": 1 , \"s\": 1 , \"t\": 1 ,\n",
    "         \"u\": 1 , \"v\": 4 , \"w\": 4 , \"x\": 8 ,\n",
    "         \"y\": 4 , \"z\": 10}\n",
    "\n",
    "def scrabble_score_odd(word):\n",
    "    s = 0\n",
    "    for i in word:\n",
    "        s += score[i]\n",
    "    if s % 2 == 1:\n",
    "        return True\n",
    "    return False\n",
    "\n",
    "def process(words):\n",
    "    \n",
    "    a = []\n",
    "    w = ''\n",
    "    for i in words:\n",
    "        if scrabble_score_odd(i):\n",
    "            a.append(1)\n",
    "        else:\n",
    "            a.append(0)\n",
    "        \n",
    "        if len(a) == 5:\n",
    "            w += five_to_letter(a)\n",
    "            a = []\n",
    "    return w\n",
    "\n",
    "\n",
    "\n",
    "process(['polo', 'england', 'skyscraper', 'dress', 'tuxedo', 'agent', 'compound', 'deck',\n",
    "         'shoe','shorts', 'boot', 'plane', 'school', 'cap' , 'texas', 'bomb', 'dash', 'telescope',\n",
    "         'tin', 'glove', 'kiss', 'governor', 'sherlock','suit', 'sun'])\n",
    "            \n"
   ]
  },
  {
   "cell_type": "code",
   "execution_count": 2,
   "id": "8a83dcb8",
   "metadata": {},
   "outputs": [
    {
     "data": {
      "text/plain": [
       "'rthan'"
      ]
     },
     "execution_count": 2,
     "metadata": {},
     "output_type": "execute_result"
    }
   ],
   "source": [
    "process(['space', 'mill', 'circle', 'duck','powder', 'fever', 'scorpion', 'octopus',\n",
    "        'silk','war', 'hotel', 'foam', 'cuckoo', 'sheet', 'penguin','rabbit', 'mud', 'glasses', 'shark',\n",
    "        'dog', 'turtle', 'cloak', 'reindeer', 'ice', 'eagle'])"
   ]
  },
  {
   "cell_type": "code",
   "execution_count": 3,
   "id": "bd258bf8",
   "metadata": {},
   "outputs": [
    {
     "data": {
      "text/plain": [
       "25"
      ]
     },
     "execution_count": 3,
     "metadata": {},
     "output_type": "execute_result"
    }
   ],
   "source": [
    "len(['space', 'mill', 'circle', 'duck','powder', 'fever', 'scorpion', 'octopus',\n",
    "        'silk','war', 'hotel', 'foam', 'cuckoo', 'sheet', 'penguin','rabbit', 'mud', 'glasses', 'shark',\n",
    "        'dog', 'turtle', 'cloak', 'reindeer', 'ice', 'eagle'])"
   ]
  },
  {
   "cell_type": "code",
   "execution_count": 4,
   "id": "d128b8d2",
   "metadata": {},
   "outputs": [
    {
     "data": {
      "text/plain": [
       "'five '"
      ]
     },
     "execution_count": 4,
     "metadata": {},
     "output_type": "execute_result"
    }
   ],
   "source": [
    "process(['bank', 'soup', 'cheese', 'well', 'potato', 'magazine', 'pie', 'salad', 'carrot',\n",
    "        'pizza', 'army', 'paddle', 'hamburger', 'himalayas', 'country',\n",
    "        'cycle', 'bride', 'biscuit', 'pacific', 'lab', 'ash', 'kid', 'queen', 'novel', 'jet'])"
   ]
  },
  {
   "cell_type": "code",
   "execution_count": 5,
   "id": "ef15e9f0",
   "metadata": {},
   "outputs": [],
   "source": [
    "wordz  = ['polo', 'england', 'skyscraper', 'dress', 'tuxedo', 'agent', 'compound', 'deck',\n",
    "         'shoe','shorts', 'boot', 'plane', 'school', 'cap' , 'texas', 'bomb', 'dash', 'telescope',\n",
    "         'tin', 'glove', 'kiss', 'governor', 'sherlock','suit', 'sun'] + ['space', 'mill', 'circle', 'duck','powder', 'fever', 'scorpion', 'octopus',\n",
    "        'silk','war', 'hotel', 'foam', 'cuckoo', 'sheet', 'penguin','rabbit', 'mud', 'glasses', 'shark',\n",
    "        'dog', 'turtle', 'cloak', 'reindeer', 'ice', 'eagle'] + ['bank', 'soup', 'cheese', 'well', 'potato', 'magazine', 'pie', 'salad', 'carrot',\n",
    "        'pizza', 'army', 'paddle', 'hamburger', 'himalayas', 'country',\n",
    "        'cycle', 'bride', 'biscuit', 'pacific', 'lab', 'ash', 'kid', 'queen', 'novel', 'jet']"
   ]
  },
  {
   "cell_type": "code",
   "execution_count": 6,
   "id": "dc92b15c",
   "metadata": {},
   "outputs": [
    {
     "data": {
      "text/plain": [
       "75"
      ]
     },
     "execution_count": 6,
     "metadata": {},
     "output_type": "execute_result"
    }
   ],
   "source": [
    "len(wordz)"
   ]
  },
  {
   "cell_type": "code",
   "execution_count": 7,
   "id": "25fd4d41",
   "metadata": {},
   "outputs": [],
   "source": [
    "def process2(words):\n",
    "    \n",
    "    a = []\n",
    "    w = ''\n",
    "    for i in words:\n",
    "        if len(i) > 5:\n",
    "            a.append(1)\n",
    "        else:\n",
    "            a.append(0)\n",
    "        \n",
    "        if len(a) == 5:\n",
    "            w += five_to_letter(a)\n",
    "            a = []\n",
    "    return w"
   ]
  },
  {
   "cell_type": "code",
   "execution_count": 8,
   "id": "56758085",
   "metadata": {},
   "outputs": [
    {
     "data": {
      "text/plain": [
       "'middleletterof '"
      ]
     },
     "execution_count": 8,
     "metadata": {},
     "output_type": "execute_result"
    }
   ],
   "source": [
    "process2(wordz)"
   ]
  },
  {
   "cell_type": "code",
   "execution_count": 33,
   "id": "c554d66e",
   "metadata": {},
   "outputs": [],
   "source": [
    "def middle_letter(word):\n",
    "    if len(word)%2 == 1:\n",
    "        return word[ (len(word) - 1) // 2]\n",
    "    else:\n",
    "        return ' '\n",
    "\n",
    "def process3(words):\n",
    "    w = ''\n",
    "    for i in words:\n",
    "        if not (scrabble_score_odd(i) or  len(i) > 5 or i in target_words):\n",
    "            print(i)\n",
    "            w += middle_letter(i)\n",
    "\n",
    "    return w"
   ]
  },
  {
   "cell_type": "code",
   "execution_count": 34,
   "id": "927d55b7",
   "metadata": {},
   "outputs": [
    {
     "name": "stdout",
     "output_type": "stream",
     "text": [
      "polo\n",
      "dress\n",
      "tuxedo\n",
      "shoe\n",
      "shorts\n",
      "boot\n",
      "cap\n",
      "glove\n",
      "suit\n",
      "duck\n",
      "scorpion\n",
      "octopus\n",
      "cuckoo\n",
      "penguin\n",
      "rabbit\n",
      "shark\n",
      "dog\n",
      "turtle\n",
      "reindeer\n",
      "eagle\n",
      "soup\n",
      "cheese\n",
      "potato\n",
      "pie\n",
      "salad\n",
      "carrot\n",
      "pizza\n",
      "hamburger\n",
      "biscuit\n"
     ]
    },
    {
     "data": {
      "text/plain": [
       "' e    ao   o g ao  g   il zuc'"
      ]
     },
     "execution_count": 34,
     "metadata": {},
     "output_type": "execute_result"
    }
   ],
   "source": [
    "process3(wordz)"
   ]
  },
  {
   "cell_type": "code",
   "execution_count": 11,
   "id": "9b70f263",
   "metadata": {},
   "outputs": [
    {
     "data": {
      "text/plain": [
       "'s'"
      ]
     },
     "execution_count": 11,
     "metadata": {},
     "output_type": "execute_result"
    }
   ],
   "source": [
    "middle_letter('ash')"
   ]
  },
  {
   "cell_type": "code",
   "execution_count": 12,
   "id": "bddc6ed8",
   "metadata": {},
   "outputs": [
    {
     "data": {
      "text/plain": [
       "40"
      ]
     },
     "execution_count": 12,
     "metadata": {},
     "output_type": "execute_result"
    }
   ],
   "source": [
    "len('leeaaxsiouavoategusaoocgilzulnciciasieve')"
   ]
  },
  {
   "cell_type": "code",
   "execution_count": 13,
   "id": "d9ea9787",
   "metadata": {},
   "outputs": [],
   "source": [
    "target_words = ['polo', 'dress', 'tuxedo', 'shoe' , 'shorts', 'boot', 'cap', 'glove',\n",
    "               'suit', 'duck', 'scorpion', 'octopus', 'cuckoo', 'penguin', 'rabbit', 'shark', 'dog',\n",
    "               'turtle','reindeer', 'eagle', 'soup', 'cheese', 'potato', 'pie', 'salad', 'carrot', 'pizza', 'hamburger', 'biscuit']"
   ]
  },
  {
   "cell_type": "code",
   "execution_count": null,
   "id": "372944de",
   "metadata": {},
   "outputs": [],
   "source": []
  },
  {
   "cell_type": "code",
   "execution_count": 19,
   "id": "e0f24356",
   "metadata": {},
   "outputs": [],
   "source": [
    "def process4(words):\n",
    "    \n",
    "    a = []\n",
    "    w = ''\n",
    "    for i in words:\n",
    "        if len(i) %2 != 0:\n",
    "            a.append(1)\n",
    "        else:\n",
    "            a.append(0)\n",
    "        \n",
    "        if len(a) == 5:\n",
    "            w += five_to_letter(a)\n",
    "            a = []\n",
    "    return w"
   ]
  },
  {
   "cell_type": "code",
   "execution_count": 20,
   "id": "3057a361",
   "metadata": {},
   "outputs": [
    {
     "data": {
      "text/plain": [
       "'jpkgapusok mg??'"
      ]
     },
     "execution_count": 20,
     "metadata": {},
     "output_type": "execute_result"
    }
   ],
   "source": [
    "process4(wordz)"
   ]
  },
  {
   "cell_type": "code",
   "execution_count": 31,
   "id": "7fb05742",
   "metadata": {},
   "outputs": [],
   "source": [
    "def process5(words):\n",
    "    c = 0\n",
    "    w = ''\n",
    "    temp = ''\n",
    "    for i in words:\n",
    "        if c != 5:\n",
    "            temp += i\n",
    "            c += 1\n",
    "        if c == 5:\n",
    "            w += middle_letter(temp)\n",
    "            print(temp)\n",
    "            temp = ''\n",
    "            c = 0\n",
    "    return w"
   ]
  },
  {
   "cell_type": "code",
   "execution_count": 32,
   "id": "f13c896e",
   "metadata": {},
   "outputs": [
    {
     "name": "stdout",
     "output_type": "stream",
     "text": [
      "poloenglandskyscraperdresstuxedo\n",
      "agentcompounddeckshoeshorts\n",
      "bootplaneschoolcaptexas\n",
      "bombdashtelescopetinglove\n",
      "kissgovernorsherlocksuitsun\n",
      "spacemillcircleduckpowder\n",
      "feverscorpionoctopussilkwar\n",
      "hotelfoamcuckoosheetpenguin\n",
      "rabbitmudglassessharkdog\n",
      "turtlecloakreindeericeeagle\n",
      "banksoupcheesewellpotato\n",
      "magazinepiesaladcarrotpizza\n",
      "armypaddlehamburgerhimalayascountry\n",
      "cyclebridebiscuitpacificlab\n",
      "ashkidqueennoveljet\n"
     ]
    },
    {
     "data": {
      "text/plain": [
       "' dhshcoo i lece'"
      ]
     },
     "execution_count": 32,
     "metadata": {},
     "output_type": "execute_result"
    }
   ],
   "source": [
    "process5(wordz)"
   ]
  },
  {
   "cell_type": "code",
   "execution_count": null,
   "id": "ae4bec7c",
   "metadata": {},
   "outputs": [],
   "source": []
  }
 ],
 "metadata": {
  "kernelspec": {
   "display_name": "Python 3 (ipykernel)",
   "language": "python",
   "name": "python3"
  },
  "language_info": {
   "codemirror_mode": {
    "name": "ipython",
    "version": 3
   },
   "file_extension": ".py",
   "mimetype": "text/x-python",
   "name": "python",
   "nbconvert_exporter": "python",
   "pygments_lexer": "ipython3",
   "version": "3.9.7"
  }
 },
 "nbformat": 4,
 "nbformat_minor": 5
}
